{
  "cells": [
    {
      "cell_type": "markdown",
      "metadata": {
        "id": "5zTAIwvb1sAz"
      },
      "source": [
        "#Install dependencies"
      ]
    },
    {
      "cell_type": "code",
      "execution_count": null,
      "metadata": {
        "id": "8gPLTXtj1lSU",
        "scrolled": true,
        "outputId": "b5c698f7-4405-45bb-b09e-313d5898af16",
        "cellView": "form"
      },
      "outputs": [
        {
          "name": "stdout",
          "output_type": "stream",
          "text": [
            "Requirement already satisfied: torch in c:\\users\\shalev-ezra\\anaconda3\\lib\\site-packages (1.10.0)\n",
            "Requirement already satisfied: typing-extensions in c:\\users\\shalev-ezra\\anaconda3\\lib\\site-packages (from torch) (3.7.4.3)\n",
            "Requirement already satisfied: python-bioformats in c:\\users\\shalev-ezra\\anaconda3\\lib\\site-packages (1.5.2)\n",
            "Requirement already satisfied: javabridge>=1.0 in c:\\users\\shalev-ezra\\anaconda3\\lib\\site-packages (from python-bioformats) (1.0.16)\n",
            "Requirement already satisfied: boto3 in c:\\users\\shalev-ezra\\anaconda3\\lib\\site-packages (from python-bioformats) (1.20.24)\n",
            "Requirement already satisfied: future in c:\\users\\shalev-ezra\\anaconda3\\lib\\site-packages (from python-bioformats) (0.18.2)\n",
            "Requirement already satisfied: numpy in c:\\users\\shalev-ezra\\anaconda3\\lib\\site-packages (from javabridge>=1.0->python-bioformats) (1.20.1)\n",
            "Requirement already satisfied: botocore<1.24.0,>=1.23.24 in c:\\users\\shalev-ezra\\anaconda3\\lib\\site-packages (from boto3->python-bioformats) (1.23.24)\n",
            "Requirement already satisfied: jmespath<1.0.0,>=0.7.1 in c:\\users\\shalev-ezra\\anaconda3\\lib\\site-packages (from boto3->python-bioformats) (0.10.0)\n",
            "Requirement already satisfied: s3transfer<0.6.0,>=0.5.0 in c:\\users\\shalev-ezra\\anaconda3\\lib\\site-packages (from boto3->python-bioformats) (0.5.0)\n",
            "Requirement already satisfied: urllib3<1.27,>=1.25.4 in c:\\users\\shalev-ezra\\anaconda3\\lib\\site-packages (from botocore<1.24.0,>=1.23.24->boto3->python-bioformats) (1.26.4)\n",
            "Requirement already satisfied: python-dateutil<3.0.0,>=2.1 in c:\\users\\shalev-ezra\\anaconda3\\lib\\site-packages (from botocore<1.24.0,>=1.23.24->boto3->python-bioformats) (2.8.1)\n",
            "Requirement already satisfied: six>=1.5 in c:\\users\\shalev-ezra\\anaconda3\\lib\\site-packages (from python-dateutil<3.0.0,>=2.1->botocore<1.24.0,>=1.23.24->boto3->python-bioformats) (1.15.0)\n",
            "Requirement already satisfied: python-javabridge in c:\\users\\shalev-ezra\\anaconda3\\lib\\site-packages (4.0.3)\n",
            "Requirement already satisfied: numpy>=1.20.1 in c:\\users\\shalev-ezra\\anaconda3\\lib\\site-packages (from python-javabridge) (1.20.1)\n",
            "Requirement already satisfied: opencv-python in c:\\users\\shalev-ezra\\anaconda3\\lib\\site-packages (4.5.5.64)\n",
            "Requirement already satisfied: numpy>=1.17.3 in c:\\users\\shalev-ezra\\anaconda3\\lib\\site-packages (from opencv-python) (1.20.1)\n"
          ]
        }
      ],
      "source": [
        "#@markdown Run this cell to install the dependecies\n",
        "!pip install torch\n",
        "!pip install python-bioformats\n",
        "!pip install python-javabridge\n",
        "!pip install opencv-python\n",
        "\n",
        "import numpy as np\n",
        "import scipy.optimize as opt\n",
        "import matplotlib.pyplot as plt\n",
        "import os\n",
        "import h5py\n",
        "import scipy.stats as stats\n",
        "import tifffile\n",
        "from skimage import io\n",
        "from tqdm.notebook import tqdm\n",
        "from scipy import interpolate\n",
        "import pickle\n",
        "from IPython.display import HTML\n",
        "import random\n",
        "from PIL import Image\n",
        "import javabridge\n",
        "import bioformats\n",
        "import pandas as pd\n",
        "from skimage.feature import peak_local_max\n",
        "from scipy.signal import convolve2d\n",
        "import cv2\n",
        "from numpy.random import default_rng\n",
        "\n",
        "# matplotlib.use('TKAgg')\n",
        "\n",
        "def project_01(im):\n",
        "    # Squeeze the pixels value to be in range [0, 1]\n",
        "    if (im.sum() == 0):\n",
        "        return im\n",
        "    im = np.squeeze(im)\n",
        "    min_val = im.min()\n",
        "    max_val = im.max()\n",
        "    return (im - min_val) / (max_val - min_val)\n",
        "\n",
        "def project_percentile(im, percentile):\n",
        "    # Squeeze the pixels value to be in range [0, percentile_value]\n",
        "    if (im.sum() == 0):\n",
        "        return im\n",
        "    im = np.squeeze(im)\n",
        "    percentile_val = np.percentile(im, percentile)\n",
        "    comp_percentile_val = np.percentile(im, 2 * (100 - percentile))\n",
        "    return (im - comp_percentile_val) / percentile_val\n",
        "\n",
        "def read_cif(data_path, channels, image_size):\n",
        "    # Read cif file and pad each image and create tif for all specified channels\n",
        "    javabridge.start_vm(class_path=bioformats.JARS, max_heap_size='8G')\n",
        "    print('-I- Converting CIF to TIF')\n",
        "    # set default parameters\n",
        "    dirs = []\n",
        "    # call bioformats reader\n",
        "    for filename in os.listdir(data_path):\n",
        "        if filename.endswith('.cif'):\n",
        "            np.random.seed(123)\n",
        "            # Make new dir for this file\n",
        "            dirs.append(os.path.join(data_path, filename[:-4]))\n",
        "            if (not os.path.isdir(os.path.join(data_path, filename[:-4]))):\n",
        "                os.mkdir(os.path.join(data_path, filename[:-4]))\n",
        "\n",
        "            single_channel_tensors = []\n",
        "            with bioformats.get_image_reader(key='tmp', path=os.path.join(data_path, filename)) as reader:\n",
        "                image_count = javabridge.call(reader.metadata, \"getImageCount\", \"()I\")\n",
        "                # channel_count = javabridge.call(reader.metadata, \"getChannelCount\", \"(I)I\", 0)\n",
        "\n",
        "                for j, ch in enumerate(channels):\n",
        "                    images = []\n",
        "                    # I use channel - 1 because channel 6 is named channel 5 in the cif file...\n",
        "                    # I iterate in jumps of two indices because each second image is a mask image and irrelevant\n",
        "                    for image in range(image_count)[::2]:\n",
        "                        images.append(reader.read(c=channels[j] - 1, series=image))\n",
        "\n",
        "                    cropped_images_this_channel = np.expand_dims(\n",
        "                        [__pad_and_project(image, image_size) for image in images], axis=3).astype(int)\n",
        "\n",
        "                    print('-I- Saving channel', ch)\n",
        "\n",
        "                    with tifffile.TiffWriter(os.path.join(data_path, '{}/{}_ch{}.tif'.format(filename[:-4], filename[:-4], ch))) as stack:\n",
        "                        for i in range(len(cropped_images_this_channel)):\n",
        "                            stack.write(cropped_images_this_channel[i, :, :, 0])\n",
        "\n",
        "    javabridge.kill_vm()\n",
        "    return dirs\n",
        "\n",
        "def __pad_and_project(image, image_size):\n",
        "    # make all images the same size: padding images with background noise of croppping images\n",
        "    if (not (image.sum() == 0)):\n",
        "        min_val = image.min()\n",
        "        max_val = image.max()\n",
        "        image = 255 * (image - min_val) / (max_val - min_val)\n",
        "\n",
        "    sample = image[int(image.shape[0] / 2) - 4:int(image.shape[0] / 2) + 4, :8]\n",
        "\n",
        "    std = np.std(sample)\n",
        "    mean = np.mean(sample)\n",
        "\n",
        "    if (image_size < image.shape[0]) & (image_size < image.shape[1]):\n",
        "        return image[:image_size, :image_size]\n",
        "    elif image_size < image.shape[0]:\n",
        "        tmp = np.random.normal(mean, std, [image_size, image_size])\n",
        "        tmp[:image_size, :image.shape[1]] = image[:image_size, :]\n",
        "        return tmp\n",
        "    elif image_size < image.shape[1]:\n",
        "        tmp = np.random.normal(mean, std, [image_size, image_size])\n",
        "        tmp[:image.shape[0], :image_size] = image[:, :image_size]\n",
        "        return tmp\n",
        "    else:\n",
        "        tmp = np.random.normal(mean, std, [image_size, image_size])\n",
        "        tmp[:image.shape[0], :image.shape[1]] = image\n",
        "        return tmp\n",
        "\n",
        "def LoadTIFF(file, path, size=None, cell_indices=None):\n",
        "    # Load a tiff stack\n",
        "    tiff = Image.open(os.path.join(path, file))\n",
        "    tiff.seek(0)\n",
        "    x0 = np.array(tiff)\n",
        "    if size == None:\n",
        "        size = tiff.n_frames\n",
        "    else:\n",
        "        size = np.min([size, tiff.n_frames])\n",
        "    data = []\n",
        "    if(cell_indices is None):\n",
        "        rng = default_rng()\n",
        "        cell_indices = rng.choice(tiff.n_frames, size=np.min([tiff.n_frames, size]), replace=False)\n",
        "    for i in range(size):\n",
        "        try:\n",
        "            tiff.seek(cell_indices[i])\n",
        "        except:\n",
        "            print('Specified stack length is too big - Finish reading the TIFF')\n",
        "            break\n",
        "        tmp = np.array(tiff)\n",
        "        if (tmp.size > 1):\n",
        "            data.append(tmp)\n",
        "        else:\n",
        "            data.append(np.zeros_like(x0))\n",
        "\n",
        "    return np.array(data), cell_indices\n",
        "\n",
        "def ShrinkImages(data, size, save_coord=False):\n",
        "    # Crop image according to size\n",
        "    left = int(np.argmax(data) % data.shape[1]) - int(size / 2)\n",
        "    down = int(np.argmax(data) / data.shape[1]) - int(size / 2)\n",
        "    right = left + size\n",
        "    up = down + size\n",
        "    if (left < 0):\n",
        "        left = 0\n",
        "        right = size\n",
        "    if (down < 0):\n",
        "        down = 0\n",
        "        up = size\n",
        "    if (right > data.shape[1]):\n",
        "        right = data.shape[1]\n",
        "        left = data.shape[1] - size\n",
        "    if (up > data.shape[0]):\n",
        "        up = data.shape[0]\n",
        "        down = data.shape[0] - size\n",
        "\n",
        "    if save_coord:\n",
        "        return data[down:up, left:right], np.array([down, left])\n",
        "    else:\n",
        "        return data[down:up, left:right]\n",
        "\n",
        "def ShrinkImages_ch4(data, size, ch2_shrink_coord, save_coord=False):\n",
        "    # Special crop for ch4 based on ch2 crop\n",
        "    down, left = ch2_shrink_coord.astype(int)\n",
        "    right = left + size\n",
        "    up = down + size\n",
        "    if save_coord:\n",
        "        return data[down:up, left:right], np.array([down, left])\n",
        "    else:\n",
        "        return data[down:up, left:right]\n",
        "\n",
        "def localize_emitters(orig_img, img, img_ch6, img_size, conf_threshold, detection_mode, verbose):\n",
        "    # Localize all the emitters in an image. The detection mode selects whether we fit beads\n",
        "    # to a singla Gaussian or loci to two Gaussians.\n",
        "    # Initialize parameters\n",
        "    pred_params_list = []\n",
        "    fit_quality_list = []\n",
        "    confidence_list = []\n",
        "\n",
        "    patch_size = 11\n",
        "    xy = np.zeros([2, int(patch_size ** 2)])\n",
        "    for i1 in range(patch_size):\n",
        "        for j1 in range(patch_size):\n",
        "            xy[:, int(i1 + patch_size * j1)] = [i1, j1]\n",
        "\n",
        "    xy_big = np.zeros([2, int(img_size ** 2)])\n",
        "    for i1 in range(img_size):\n",
        "        for j1 in range(img_size):\n",
        "            xy_big[:, int(i1 + img_size * j1)] = [i1, j1]\n",
        "\n",
        "    # Find potential peaks\n",
        "    min_dist = 5\n",
        "    potential_peaks_map = np.zeros_like(img)\n",
        "    num_of_peaks = 0\n",
        "    ind_list = []\n",
        "    potential_peaks = peak_local_max(img, num_peaks=5, threshold_rel=0.5)\n",
        "    for i in range(potential_peaks.shape[0]):\n",
        "        if(potential_peaks_map[potential_peaks[i, 0], potential_peaks[i, 1]] == 0):\n",
        "            num_of_peaks += 1\n",
        "            ind_list.append(i)\n",
        "            down = np.max([0, potential_peaks[i, 0]-min_dist])\n",
        "            up = np.min([img_size, potential_peaks[i, 0]+min_dist+1])\n",
        "            left = np.max([0, potential_peaks[i, 1]-min_dist])\n",
        "            right = np.min([img_size, potential_peaks[i, 1]+min_dist+1])\n",
        "            potential_peaks_map[down:up, left:right] = 1\n",
        "\n",
        "    potential_peaks = potential_peaks[ind_list]\n",
        "\n",
        "    # Filtering 0 loci or more than 2 loci\n",
        "    if (num_of_peaks < 1):\n",
        "        if (verbose):\n",
        "            plt.figure()\n",
        "            plt.imshow(img)\n",
        "            plt.title('Did not detected loci')\n",
        "            plt.show()\n",
        "        return pred_params_list, fit_quality_list, confidence_list\n",
        "    elif(num_of_peaks > 2):\n",
        "        if (verbose):\n",
        "            plt.figure()\n",
        "            plt.imshow(img)\n",
        "            plt.title('Too many loci detected - not analyzing more than 2')\n",
        "            plt.show()\n",
        "        return pred_params_list, fit_quality_list, confidence_list\n",
        "\n",
        "    for peak in range(num_of_peaks):\n",
        "        # Observe only small patch around peak\n",
        "        down = np.max([0, potential_peaks[peak, 0]-patch_size//2])\n",
        "        up = np.min([img_size-1, potential_peaks[peak, 0]+patch_size//2])\n",
        "        left = np.max([0, potential_peaks[peak, 1]-patch_size//2])\n",
        "        right = np.min([img_size-1, potential_peaks[peak, 1]+patch_size//2])\n",
        "\n",
        "        if(up+1-down < patch_size or right+1-left<patch_size):\n",
        "            if (verbose):\n",
        "                print(\"Locus is too close to image boundaries\")\n",
        "            if (peak < num_of_peaks - 1):\n",
        "                continue\n",
        "            return pred_params_list, fit_quality_list, confidence_list\n",
        "\n",
        "        zobs = (img[down:up+1, left:right+1]).reshape(1, -1).squeeze()\n",
        "\n",
        "        # Position of maximal pixel in current patch\n",
        "        max_ind = np.argmax(zobs.reshape([patch_size, patch_size]))\n",
        "        try:\n",
        "            if(detection_mode == \"beads\"):\n",
        "                guess = [np.median(zobs), np.max(zobs), potential_peaks[peak, 1] - left, potential_peaks[peak, 0] - down, 2, 2]\n",
        "                bounds = ([0, 0, potential_peaks[peak, 1] - 0.5 - left, potential_peaks[peak, 0] - 0.5 - down, 0.5, 0.5],\n",
        "                          [np.inf, np.inf, potential_peaks[peak, 1] + 0.5 - left, potential_peaks[peak, 0] + 0.5 - down, 4, 4])\n",
        "                pred_params, uncert_cov = opt.curve_fit(gauss2d, xy, zobs, p0=guess, bounds=bounds)\n",
        "            else:\n",
        "                guess = [np.median(zobs), np.median(zobs), int(max_ind % (right-left)), int(max_ind / (up-down)), 3, 3,\n",
        "                         np.pi/2, np.max(zobs), potential_peaks[peak, 1] - left, potential_peaks[peak, 0] - down, 2, 2]\n",
        "                bounds = ([0, 0, 0, 0, 3, 3, 0, 0, potential_peaks[peak, 1] - 0.5 - left, potential_peaks[peak, 0] - 0.5 - down, 0.5, 0.5],\n",
        "                          [np.max(zobs), np.max(zobs), img_size - 1, img_size - 1, 4, 4, 2*np.pi, np.inf, potential_peaks[peak, 1] + 0.5 - left,\n",
        "                           potential_peaks[peak, 0] + 0.5 - down, 4, 4])\n",
        "                pred_params, uncert_cov = opt.curve_fit(gauss_on_gauss, xy, zobs, p0=guess, bounds=bounds)\n",
        "        except Exception as e:\n",
        "            if(verbose):\n",
        "                print(\"Could not fit to model\")\n",
        "            if(peak < num_of_peaks - 1):\n",
        "                continue\n",
        "            return pred_params_list, fit_quality_list, confidence_list\n",
        "\n",
        "        if(np.abs(pred_params[2] - bounds[0][2]) < 1e-3 or\n",
        "                np.abs(pred_params[2] - bounds[1][2]) < 1e-3 or\n",
        "                np.abs(pred_params[3] - bounds[0][3]) < 1e-3 or\n",
        "                np.abs(pred_params[3] - bounds[1][3]) < 1e-3):\n",
        "            if(peak < num_of_peaks - 1):\n",
        "                continue\n",
        "            return pred_params_list, fit_quality_list, confidence_list\n",
        "\n",
        "        if(detection_mode == \"beads\"):\n",
        "            loci_sig_x = pred_params[4]\n",
        "            loci_sig_y = pred_params[5]\n",
        "        else:\n",
        "            loci_sig_x = pred_params[10]\n",
        "            loci_sig_y = pred_params[11]\n",
        "            cell_sig_x = pred_params[4]\n",
        "            cell_sig_y = pred_params[5]\n",
        "\n",
        "        # Remove fit to bound values\n",
        "        if (loci_sig_x > 3.999 or loci_sig_y > 3.999):\n",
        "            if(verbose):\n",
        "                print(\"Predicted sigma is too big\")\n",
        "            if(peak < num_of_peaks - 1):\n",
        "                continue\n",
        "            return pred_params_list, fit_quality_list, confidence_list\n",
        "\n",
        "        if (detection_mode != \"beads\"):\n",
        "            # Do not allow the cell sigma be smaller than the loci sigma\n",
        "            # Cell sigma should be at least 2 times bigger than loci sigma\n",
        "            if (cell_sig_x < 2*loci_sig_x or cell_sig_y < 2*loci_sig_y):\n",
        "                if (verbose):\n",
        "                    title = 'Cell shape is too small compared of the locus shape'\n",
        "                    # Add zobs offset to localizations\n",
        "                    pred_params[2] += left\n",
        "                    pred_params[3] += down\n",
        "                    if (detection_mode != \"beads\"):\n",
        "                        pred_params[8] += left\n",
        "                        pred_params[9] += down\n",
        "                    plot_cell_fit(img_size, img, pred_params, title)\n",
        "                if (peak < num_of_peaks - 1):\n",
        "                    continue\n",
        "                return pred_params_list, fit_quality_list, confidence_list\n",
        "\n",
        "            # Filter cases where the fitted cell intensity is much higher than the loci\n",
        "            if (pred_params[1] / pred_params[7] > 1.5):\n",
        "                if (verbose):\n",
        "                    title = 'Cell intensity is too high compared to the loci intensity'\n",
        "                    # Add zobs offset to localizations\n",
        "                    pred_params[2] += left\n",
        "                    pred_params[3] += down\n",
        "                    if (detection_mode != \"beads\"):\n",
        "                        pred_params[8] += left\n",
        "                        pred_params[9] += down\n",
        "                    plot_cell_fit(img_size, img, pred_params, title)\n",
        "                if (peak < num_of_peaks - 1):\n",
        "                    continue\n",
        "                return pred_params_list, fit_quality_list, confidence_list\n",
        "\n",
        "        if (detection_mode == \"beads\"):\n",
        "            fit = gauss2d(xy, *pred_params)\n",
        "        else:\n",
        "            fit = gauss_on_gauss(xy, *pred_params)\n",
        "\n",
        "        # Calculate RMS\n",
        "        fit_quality = 1 - np.sqrt(np.mean((zobs / np.max(zobs) - fit / np.max(fit)) ** 2))\n",
        "\n",
        "        # Ensure fit quality is high enough\n",
        "        if (fit_quality > 0.9):\n",
        "            confidence = fit_quality * np.max(orig_img)\n",
        "            confidence = np.min([100, confidence])\n",
        "            confidence /= 2\n",
        "            if (confidence < conf_threshold):\n",
        "                if (peak < num_of_peaks - 1):\n",
        "                    continue\n",
        "                return pred_params_list, fit_quality_list, confidence_list\n",
        "\n",
        "            # Add zobs offset to localizations\n",
        "            pred_params[2] += left\n",
        "            pred_params[3] += down\n",
        "            if(detection_mode != \"beads\"):\n",
        "                pred_params[8] += left\n",
        "                pred_params[9] += down\n",
        "\n",
        "            # Add emitter to list\n",
        "            if(verbose):\n",
        "                plt.figure()\n",
        "                plt.suptitle('Accepted emitter')\n",
        "                plt.subplot(121)\n",
        "                plt.title('Image (ch2/4)')\n",
        "                plt.imshow(img)\n",
        "                plt.subplot(122)\n",
        "                if(detection_mode == \"beads\"):\n",
        "                    plt.imshow(gauss2d(xy_big, *pred_params).reshape([img_size, img_size]))\n",
        "                    plt.scatter(pred_params[2], pred_params[3], c='r', s=1)\n",
        "                else:\n",
        "                    plt.imshow(gauss_on_gauss(xy_big, *pred_params).reshape([img_size, img_size]))\n",
        "                    plt.scatter(pred_params[8], pred_params[9], c='r', s=1)\n",
        "                plt.title('Fit')\n",
        "                plt.show()\n",
        "\n",
        "            pred_params_list.append(pred_params)\n",
        "            fit_quality_list.append(fit_quality)\n",
        "            confidence_list.append(confidence)\n",
        "        else:\n",
        "            if (peak < num_of_peaks - 1):\n",
        "                continue\n",
        "            return pred_params_list, fit_quality_list, confidence_list\n",
        "\n",
        "    return pred_params_list, fit_quality_list, confidence_list\n",
        "\n",
        "def localize_emitters_bs(orig_img, img, img_size, conf_threshold, detection_mode, verbose):\n",
        "    # Same as localize_emitter function; however, here the results are divided to multiple batches\n",
        "    # This is done for statistical analysis of the results.\n",
        "    # Initialize parameters\n",
        "    pred_params_list = []\n",
        "    fit_quality_list = []\n",
        "    confidence_list = []\n",
        "\n",
        "    patch_size = 13\n",
        "    xy = np.zeros([2, int(patch_size ** 2)])\n",
        "    for i1 in range(patch_size):\n",
        "        for j1 in range(patch_size):\n",
        "            xy[:, int(i1 + patch_size * j1)] = [i1, j1]\n",
        "\n",
        "    xy_big = np.zeros([2, int(img_size ** 2)])\n",
        "    for i1 in range(img_size):\n",
        "        for j1 in range(img_size):\n",
        "            xy_big[:, int(i1 + img_size * j1)] = [i1, j1]\n",
        "\n",
        "    # Find potential peaks\n",
        "    min_dist = 5\n",
        "    potential_peaks_map = np.zeros_like(img)\n",
        "    num_of_peaks = 0\n",
        "    ind_list = []\n",
        "    potential_peaks = peak_local_max(img, num_peaks=5, threshold_rel=0.5)\n",
        "    for i in range(potential_peaks.shape[0]):\n",
        "        if(potential_peaks_map[potential_peaks[i, 0], potential_peaks[i, 1]] == 0):\n",
        "            num_of_peaks += 1\n",
        "            ind_list.append(i)\n",
        "            down = np.max([0, potential_peaks[i, 0]-min_dist])\n",
        "            up = np.min([img_size, potential_peaks[i, 0]+min_dist+1])\n",
        "            left = np.max([0, potential_peaks[i, 1]-min_dist])\n",
        "            right = np.min([img_size, potential_peaks[i, 1]+min_dist+1])\n",
        "            potential_peaks_map[down:up, left:right] = 1\n",
        "\n",
        "    potential_peaks = potential_peaks[ind_list]\n",
        "\n",
        "    # Filtering 0 loci or more than 2 loci\n",
        "    if (num_of_peaks < 1):\n",
        "        if (verbose):\n",
        "            plt.figure()\n",
        "            plt.imshow(img)\n",
        "            plt.title('Did not detected loci')\n",
        "            plt.show()\n",
        "        return pred_params_list, fit_quality_list, confidence_list\n",
        "    elif(num_of_peaks > 2):\n",
        "        if (verbose):\n",
        "            plt.figure()\n",
        "            plt.imshow(img)\n",
        "            plt.title('Too many loci detected - not analyzing more than 2')\n",
        "            plt.show()\n",
        "        return pred_params_list, fit_quality_list, confidence_list\n",
        "\n",
        "    for peak in range(num_of_peaks):\n",
        "        # Observe only small patch around peak\n",
        "        down = np.max([0, potential_peaks[peak, 0] - patch_size // 2])\n",
        "        up = np.min([img_size, potential_peaks[peak, 0] + patch_size // 2 + 1])\n",
        "        left = np.max([0, potential_peaks[peak, 1] - patch_size // 2])\n",
        "        right = np.min([img_size, potential_peaks[peak, 1] + patch_size // 2 + 1])\n",
        "\n",
        "        if(up-down < patch_size or right-left<patch_size):\n",
        "            if(down == 0):\n",
        "                up = patch_size\n",
        "            elif(up == img_size-1):\n",
        "                down = img_size - patch_size\n",
        "            if (left == 0):\n",
        "                right = patch_size\n",
        "            elif (right == img_size - 1):\n",
        "                left = img_size - patch_size\n",
        "\n",
        "        zobs = (img[down:up, left:right]).reshape(1, -1).squeeze()\n",
        "\n",
        "        # Position of maximal pixel in current patch\n",
        "        try:\n",
        "            if(detection_mode == \"beads\"):\n",
        "                guess = [np.median(zobs), np.max(zobs), potential_peaks[peak, 1] - left, potential_peaks[peak, 0] - down, 2, 2]\n",
        "                bounds = ([0, 0, potential_peaks[peak, 1] - 0.5 - left, potential_peaks[peak, 0] - 0.5 - down, 0.5, 0.5],\n",
        "                          [np.inf, np.inf, potential_peaks[peak, 1] + 0.5 - left, potential_peaks[peak, 0] + 0.5 - down, 4, 4])\n",
        "                pred_params, uncert_cov = opt.curve_fit(gauss2d, xy, zobs, p0=guess, bounds=bounds)\n",
        "            else:\n",
        "                guess = [np.median(zobs), np.median(zobs), potential_peaks[peak, 0] - left, potential_peaks[peak, 1] - down, 3, 3,\n",
        "                         np.pi/2, np.max(zobs), potential_peaks[peak, 1] - left, potential_peaks[peak, 0] - down, 0.75, 0.75]\n",
        "                bounds = ([0, 0, potential_peaks[peak, 1] - 5 - left, potential_peaks[peak, 0] - 5 - down, 3, 3, 0,\n",
        "                           2 * zobs.std(), potential_peaks[peak, 1] - 2 - left, potential_peaks[peak, 0] - 2 - down, 0.75, 0.75],\n",
        "                          [np.inf, np.inf, potential_peaks[peak, 1] + 4 - left, potential_peaks[peak, 0] + 4 - down, 4, 4, 2*np.pi,\n",
        "                           np.inf, potential_peaks[peak, 1] + 2 - left, potential_peaks[peak, 0] + 2 - down, 2.5, 2.5])\n",
        "                pred_params, uncert_cov = opt.curve_fit(gauss_on_gauss, xy, zobs, p0=guess, bounds=bounds, maxfev=15000)\n",
        "        except Exception as e:\n",
        "            if(verbose):\n",
        "                print(\"Could not fit to model\")\n",
        "            if(peak < num_of_peaks - 1):\n",
        "                continue\n",
        "            return pred_params_list, fit_quality_list, confidence_list\n",
        "\n",
        "        if(np.abs(pred_params[2] - bounds[0][2]) < 1e-3 or\n",
        "                np.abs(pred_params[2] - bounds[1][2]) < 1e-3 or\n",
        "                np.abs(pred_params[3] - bounds[0][3]) < 1e-3 or\n",
        "                np.abs(pred_params[3] - bounds[1][3]) < 1e-3):\n",
        "            if(peak < num_of_peaks - 1):\n",
        "                continue\n",
        "            return pred_params_list, fit_quality_list, confidence_list\n",
        "\n",
        "        if(detection_mode == \"beads\"):\n",
        "            loci_sig_x = pred_params[4]\n",
        "            loci_sig_y = pred_params[5]\n",
        "        else:\n",
        "            loci_sig_x = pred_params[10]\n",
        "            loci_sig_y = pred_params[11]\n",
        "            cell_sig_x = pred_params[4]\n",
        "            cell_sig_y = pred_params[5]\n",
        "\n",
        "        if (detection_mode != \"beads\"):\n",
        "            # Do not allow the cell sigma be smaller than the loci sigma\n",
        "            # Cell sigma should be at least 3 times bigger than loci sigma\n",
        "            if (cell_sig_x < 1.5*loci_sig_x or cell_sig_y < 1.5*loci_sig_y):\n",
        "                if (verbose):\n",
        "                    title = 'Cell shape is too small compared of the locus shape'\n",
        "                    # Add zobs offset to localizations\n",
        "                    pred_params[2] += left\n",
        "                    pred_params[3] += down\n",
        "                    if (detection_mode != \"beads\"):\n",
        "                        pred_params[8] += left\n",
        "                        pred_params[9] += down\n",
        "                    plot_cell_fit(img_size, img, pred_params, title)\n",
        "                if (peak < num_of_peaks - 1):\n",
        "                    continue\n",
        "                return pred_params_list, fit_quality_list, confidence_list\n",
        "\n",
        "        if (detection_mode == \"beads\"):\n",
        "            fit = gauss2d(xy, *pred_params)\n",
        "        else:\n",
        "            fit = gauss_on_gauss(xy, *pred_params)\n",
        "\n",
        "        # Calculate RMS\n",
        "        fit_quality = 1 - np.sqrt(np.mean((zobs / np.max(zobs) - fit / np.max(fit)) ** 2))\n",
        "\n",
        "        # Ensure fit quality is high enough\n",
        "        if (fit_quality > 0.9):\n",
        "            confidence = fit_quality * np.max(orig_img)\n",
        "            confidence = np.min([100, confidence])\n",
        "            confidence /= 2\n",
        "            if (confidence < conf_threshold):\n",
        "                if (peak < num_of_peaks - 1):\n",
        "                    continue\n",
        "                return pred_params_list, fit_quality_list, confidence_list\n",
        "\n",
        "            # Add zobs offset to localizations\n",
        "            pred_params[2] += left\n",
        "            pred_params[3] += down\n",
        "            if(detection_mode != \"beads\"):\n",
        "                pred_params[8] += left\n",
        "                pred_params[9] += down\n",
        "\n",
        "            # Add emitter to list\n",
        "            pred_params_list.append(pred_params)\n",
        "            fit_quality_list.append(fit_quality)\n",
        "            confidence_list.append(confidence)\n",
        "        else:\n",
        "            if (peak < num_of_peaks - 1):\n",
        "                continue\n",
        "            return pred_params_list, fit_quality_list, confidence_list\n",
        "\n",
        "    return pred_params_list, fit_quality_list, confidence_list\n",
        "\n",
        "def localize_beads(orig_img, img, img_size, conf_threshold, verbose):\n",
        "    # Localizes beads in the given image\n",
        "    xy = np.zeros([2, int(img_size ** 2)])\n",
        "    for i1 in range(img_size):\n",
        "        for j1 in range(img_size):\n",
        "            xy[:, int(i1 + img_size * j1)] = [i1, j1]\n",
        "\n",
        "    # Fit the patch to a gaussian\n",
        "    zobs = (img).reshape(1, -1).squeeze()\n",
        "\n",
        "    max_ind = np.argmax(zobs.reshape([img_size, img_size]))\n",
        "    guess = [np.median(zobs), np.max(zobs), int(max_ind % img_size), int(max_ind / img_size), 2, 2]\n",
        "    bounds = ([0, 0, 0, 0, 0.5, 0.5], [np.inf, np.inf, img_size - 1, img_size - 1, 4, 4])\n",
        "    try:\n",
        "        pred_params, uncert_cov = opt.curve_fit(gauss2d, xy, zobs, p0=guess, bounds=bounds, maxfev=10000)\n",
        "    except:\n",
        "        return None, None, None\n",
        "\n",
        "    # Remove fit to bound values\n",
        "    if (pred_params[4] > 3.999 or pred_params[5] > 3.999):\n",
        "        return None, None, None\n",
        "\n",
        "    fit = gauss2d(xy, *pred_params)\n",
        "\n",
        "    # Calculate RMS\n",
        "    fit_quality = 1 - np.sqrt(np.mean((zobs / np.max(zobs) - fit / np.max(fit)) ** 2))\n",
        "\n",
        "    # Ensure fit quality is high enough\n",
        "    if (fit_quality > 0.95):\n",
        "        confidence = fit_quality * np.max(orig_img)\n",
        "        confidence = np.min([100, confidence])\n",
        "        confidence /= 2\n",
        "        if (confidence < conf_threshold):\n",
        "            if (verbose):\n",
        "                print(\"confidence level too low:\", confidence)\n",
        "            return None, None, None\n",
        "    else:\n",
        "        return None, None, None\n",
        "\n",
        "    if (verbose):\n",
        "        plot_cell_fit(img_size, img, pred_params, 'Was not filtered', isBead=True)\n",
        "\n",
        "    return pred_params, fit_quality, confidence\n",
        "\n",
        "def plot_cell_fit(img_size, img, pred_params, title, cmap='gray', isBead=False):\n",
        "    # Plotting function for quality checks\n",
        "    xy = np.zeros([2, int(img_size ** 2)])\n",
        "    for i1 in range(img_size):\n",
        "        for j1 in range(img_size):\n",
        "            xy[:, int(i1 + img_size * j1)] = [i1, j1]\n",
        "\n",
        "    if(isBead):\n",
        "        fig = plt.figure(figsize=(12, 6))\n",
        "        plt.suptitle(title)\n",
        "        plt.subplot(121)\n",
        "        plt.title('Observed data')\n",
        "        im1 = plt.imshow(img, cmap=cmap)\n",
        "        fig.colorbar(im1, orientation='vertical')\n",
        "        plt.subplot(122)\n",
        "        plt.title('Fitted locus')\n",
        "        im2 = plt.imshow(gauss2d(xy, pred_params[0], pred_params[1], pred_params[2], pred_params[3], pred_params[4],\n",
        "                                 pred_params[5]).reshape([img_size, img_size]), cmap=cmap)\n",
        "        fig.colorbar(im2, orientation='vertical')\n",
        "    else:\n",
        "        plt.suptitle(title)\n",
        "        plt.subplot(221)\n",
        "        plt.imshow(gauss2d_asym(xy, *pred_params[:7]).reshape([img_size, img_size]))\n",
        "        plt.title('cell fit')\n",
        "        plt.subplot(222)\n",
        "        plt.imshow(gauss2d(xy, 0, pred_params[7], pred_params[8], pred_params[9],\n",
        "                           pred_params[10], pred_params[11]).reshape([img_size, img_size]))\n",
        "        plt.title('locus fit')\n",
        "        plt.subplot(223)\n",
        "        plt.imshow(img)\n",
        "        plt.scatter(pred_params[8], pred_params[9], c='r', s=1)\n",
        "        plt.title('original img')\n",
        "        plt.subplot(224)\n",
        "        plt.imshow(gauss_on_gauss(xy, *pred_params).reshape([img_size, img_size]))\n",
        "        plt.scatter(pred_params[8], pred_params[9], c='r', s=1)\n",
        "        plt.title('gauss on gauss fit')\n",
        "    plt.show()\n",
        "\n",
        "def loci_detection_bootstrap(path, filename, num_of_imgs, conf_threshold, SNR_thresh, shrink_size,\n",
        "                            xy_pos, calib, detection_mode, channel, shift_coord_list, analyzed_list, bootstrap_ind,\n",
        "                            verbose=False):\n",
        "    # A function that encapsulates all the emitter detection pipeline\n",
        "    # Initialize dictionary\n",
        "    ch_dict = {}\n",
        "\n",
        "    # Open TIFF files\n",
        "    tiff = Image.open(os.path.join(path, filename))\n",
        "\n",
        "    if(channel == 2):\n",
        "        cell_indices = np.arange((bootstrap_ind*num_of_imgs), (bootstrap_ind+1)*num_of_imgs)\n",
        "    else:\n",
        "        cell_indices = analyzed_list\n",
        "\n",
        "    # Start accumulating localizations\n",
        "    if(channel == 2):\n",
        "        shift_coord_list = []\n",
        "        analyzed_list = []\n",
        "    img_cnt = 0\n",
        "    curr_index = -1\n",
        "    pbar = tqdm(total=num_of_imgs)\n",
        "    while(img_cnt < num_of_imgs):\n",
        "        curr_index += 1\n",
        "        # Load current image\n",
        "        try:\n",
        "            tiff.seek(cell_indices[curr_index])\n",
        "        except:\n",
        "            print('Exception while reading tiff stack')\n",
        "            break\n",
        "        orig_img = np.array(tiff)\n",
        "        if (orig_img.size <= 1):\n",
        "            if(channel == 4):\n",
        "                ch_dict[curr_index] = [shift_coord_list[curr_index], [], 0, [], []]\n",
        "                img_cnt += 1\n",
        "                pbar.update(1)\n",
        "            continue\n",
        "\n",
        "        if(channel == 2):\n",
        "            orig_img, shift_coord = ShrinkImages(orig_img, shrink_size, save_coord=True)\n",
        "        else:\n",
        "            orig_img, shift_coord = ShrinkImages_ch4(orig_img, shrink_size, shift_coord_list[curr_index], save_coord=True)\n",
        "\n",
        "        img = project_percentile(orig_img, 90)\n",
        "\n",
        "        # Initialize output parameters\n",
        "        emitter_coordinates = []\n",
        "        emitter_sigmas = []\n",
        "        emitters_cnt = 0\n",
        "        # Filtering cells with bad SNR\n",
        "        if(len(SNR_thresh) == 2):\n",
        "            if (np.max(img) / np.mean(img) < SNR_thresh or np.max(img) / np.mean(img) > SNR_tresh[1]):\n",
        "                if (channel == 4):\n",
        "                    ch_dict[curr_index] = [shift_coord_list[curr_index], [], 0, [], []]\n",
        "                    img_cnt += 1\n",
        "                    pbar.update(1)\n",
        "                continue\n",
        "        else:\n",
        "            if (np.max(img) / np.mean(img) < SNR_thresh):\n",
        "                if (channel == 4):\n",
        "                    ch_dict[curr_index] = [shift_coord_list[curr_index], [], 0, [], []]\n",
        "                    img_cnt += 1\n",
        "                    pbar.update(1)\n",
        "                continue\n",
        "\n",
        "        img_size = img.shape[0]\n",
        "\n",
        "        xy = np.zeros([2, int(img_size ** 2)])\n",
        "        for i1 in range(img_size):\n",
        "            for j1 in range(img_size):\n",
        "                xy[:, int(i1 + img_size * j1)] = [i1, j1]\n",
        "        x, y = xy\n",
        "\n",
        "        max_ind = -1\n",
        "        similarity_max = 0\n",
        "\n",
        "        # Send data to localization algorithm\n",
        "        pred_params_list, fit_quality_list, confidence_list = localize_emitters_bs(orig_img, img, img_size,\n",
        "                                                                                   conf_threshold, detection_mode, verbose)\n",
        "\n",
        "        # Filter cell when localization algorithm failed\n",
        "        if (len(fit_quality_list) == 0):\n",
        "            if(verbose):\n",
        "                print(\"Localization algorithm failed\")\n",
        "            if (channel == 4):\n",
        "                ch_dict[curr_index] = [shift_coord_list[curr_index], emitter_coordinates, emitters_cnt, confidence_list, emitter_sigmas]\n",
        "                img_cnt += 1\n",
        "                pbar.update(1)\n",
        "            continue\n",
        "\n",
        "        if (detection_mode == \"beads\"):\n",
        "            for emitter in range(len(fit_quality_list)):\n",
        "                locus = gauss2d(xy, pred_params_list[emitter][0], pred_params_list[emitter][1],\n",
        "                                pred_params_list[emitter][2], pred_params_list[emitter][3],\n",
        "                                pred_params_list[emitter][4], pred_params_list[emitter][5]).reshape([img_size, img_size])\n",
        "                for i in range(xy_pos.shape[0]):\n",
        "                    exp_term = -((x - pred_params_list[emitter][2]) ** 2) / (2 * xy_pos[i, 0] ** 2) - \\\n",
        "                               ((y - pred_params_list[emitter][3]) ** 2) / (2 * xy_pos[i, 1] ** 2)\n",
        "                    curr_psf = (1 / (2 * np.pi * xy_pos[i, 0] * xy_pos[i, 1]) * np.exp(exp_term)).reshape([img_size, img_size])\n",
        "                    similarity_map = (locus - locus.mean()) * (curr_psf - curr_psf.mean()) / (locus.std() * curr_psf.std())\n",
        "                    similarity_val = np.sum(similarity_map)\n",
        "                    if (similarity_val > similarity_max):\n",
        "                        similarity_max = similarity_val\n",
        "                        max_ind = i\n",
        "\n",
        "                z = (calib[0, max_ind] + calib[1, max_ind]) / 2\n",
        "\n",
        "                emitter_coordinates.append([pred_params_list[emitter][2], pred_params_list[emitter][3], z])\n",
        "                emitters_cnt += 1\n",
        "                confidence_list.append(confidence_list[emitter])\n",
        "                emitter_sigmas.append([pred_params_list[emitter][4], pred_params_list[emitter][5]])\n",
        "                if(verbose):\n",
        "                    plot_cell_fit(img_size, img, pred_params_list[emitter], 'cell num = {}, z = {}'.format(cell_indices[curr_index], z), isBead=True)\n",
        "\n",
        "        elif(detection_mode == \"2D\"):\n",
        "            for emitter in range(len(fit_quality_list)):\n",
        "                emitter_coordinates.append([pred_params_list[emitter][8], pred_params_list[emitter][9], 0])\n",
        "                emitters_cnt += 1\n",
        "                confidence_list.append(confidence_list[emitter])\n",
        "                emitter_sigmas.append([pred_params_list[emitter][10], pred_params_list[emitter][11]])\n",
        "\n",
        "        elif(detection_mode == \"3D\"):\n",
        "            for emitter in range(len(fit_quality_list)):\n",
        "                locus = gauss2d(xy, pred_params_list[emitter][0], pred_params_list[emitter][7],\n",
        "                                pred_params_list[emitter][8], pred_params_list[emitter][9],\n",
        "                                pred_params_list[emitter][10], pred_params_list[emitter][11]).reshape([img_size, img_size])\n",
        "                for i in range(xy_pos.shape[0]):\n",
        "                    exp_term = -((x - pred_params_list[emitter][8]) ** 2) / (2 * xy_pos[i, 0] ** 2) - \\\n",
        "                               ((y - pred_params_list[emitter][9]) ** 2) / (2 * xy_pos[i, 1] ** 2)\n",
        "                    curr_psf = (1 / (2 * np.pi * xy_pos[i, 0] * xy_pos[i, 1]) * np.exp(exp_term)).reshape([img_size, img_size])\n",
        "                    similarity_map = (locus - locus.mean()) * (curr_psf - curr_psf.mean()) / (locus.std() * curr_psf.std())\n",
        "                    similarity_val = np.sum(similarity_map)\n",
        "                    if (similarity_val > similarity_max):\n",
        "                        similarity_max = similarity_val\n",
        "                        max_ind = i\n",
        "\n",
        "                z = (calib[0, max_ind] + calib[1, max_ind]) / 2\n",
        "\n",
        "                emitter_coordinates.append([pred_params_list[emitter][8], pred_params_list[emitter][9], z])\n",
        "                emitters_cnt += 1\n",
        "                confidence_list.append(confidence_list[emitter])\n",
        "                emitter_sigmas.append([pred_params_list[emitter][10], pred_params_list[emitter][11]])\n",
        "\n",
        "                if(verbose):\n",
        "                    plot_cell_fit(img_size, img, pred_params_list[emitter], 'cell num {}, z = {}'.format(cell_indices[curr_index], z))\n",
        "\n",
        "        # Update dictionary and save important data\n",
        "        ch_dict[img_cnt] = [shift_coord, emitter_coordinates, emitters_cnt, confidence_list, emitter_sigmas]\n",
        "        img_cnt += 1\n",
        "        if(channel == 2):\n",
        "            shift_coord_list.append(shift_coord)\n",
        "            analyzed_list.append(cell_indices[curr_index])\n",
        "        pbar.update(1)\n",
        "\n",
        "    pbar.close()\n",
        "\n",
        "    # Save dictionary\n",
        "    ch_file = open(os.path.join(path, \"ch{}_bs_{}_dict.pkl\".format(channel, bootstrap_ind)), \"wb\")\n",
        "    pickle.dump(ch_dict, ch_file)\n",
        "    ch_file.close()\n",
        "\n",
        "    return shift_coord_list, analyzed_list\n",
        "\n",
        "def find_loc_in_radius(xy_arr, curr, left, right, dist_thresh):\n",
        "    # Searches for data points in a radius around a given point\n",
        "    indices = []\n",
        "    for i in range(xy_arr.shape[0]):\n",
        "        if (left <= i) and (right >= i) and (np.abs(curr - xy_arr[i]) < dist_thresh):\n",
        "            indices.append(i)\n",
        "    return indices\n",
        "\n",
        "def gauss2d(xy, offset, amp, x0, y0, sigmaX, sigmaY):\n",
        "    # Fit patch to gaussian\n",
        "    x, y = xy\n",
        "    return offset + (amp * np.exp(-((x - x0) ** 2) / (2 * sigmaX ** 2) - ((y - y0) ** 2) / (2 * sigmaY ** 2)))\n",
        "\n",
        "def gauss2d_asym(xy, offset, amp, x0, y0, sigmaX, sigmaY, theta):\n",
        "    # Fit patch to gaussian\n",
        "    x, y = xy\n",
        "    a = np.cos(theta) ** 2 / (2 * sigmaX ** 2) + np.sin(theta) ** 2 / (2 * sigmaY ** 2)\n",
        "    b = -np.sin(2 * theta) / (4 * sigmaX ** 2) + np.sin(2 * theta) / (4 * sigmaY ** 2)\n",
        "    c = np.sin(theta) ** 2 / (2 * sigmaX ** 2) + np.cos(theta) ** 2 / (2 * sigmaY ** 2)\n",
        "\n",
        "    return offset + (amp * np.exp(-(a*(x - x0) ** 2 + 2*b*(x - x0)*(y - y0) + c*(y - y0) ** 2)))\n",
        "\n",
        "def gauss_on_gauss(xy, os1, am1, x1, y1, sx1, sy1, theta, amp, x0, y0, sigmaX, sigmaY):\n",
        "    # Fit patch to gaussian\n",
        "    x, y = xy\n",
        "    a = np.cos(theta)**2 / (2 * sx1**2) + np.sin(theta)**2 / (2 * sy1**2)\n",
        "    b = -np.sin(2 * theta) / (4 * sx1**2) + np.sin(2 * theta) / (4 * sy1**2)\n",
        "    c = np.sin(theta)**2 / (2 * sx1**2) + np.cos(theta)**2 / (2 * sy1**2)\n",
        "\n",
        "    offset = os1 + (am1 * np.exp(-(a*(x - x1) ** 2 + 2*b*(x - x1)*(y - y1) + c*(y - y1) ** 2)))\n",
        "    return offset + (amp * np.exp(-((x - x0) ** 2) / (2 * sigmaX ** 2) - ((y - y0) ** 2) / (2 * sigmaY ** 2)))\n",
        "\n",
        "def generate_calibration(tiff_path, filename, bright_filename, SNR_th, L, z_max, step, channel, conf_threshold,\n",
        "                         random_cells, verbose=False):\n",
        "    # First Step: Load the TIFF file and localize assymetric PSFs, the output of this part is an array of SigmaX and\n",
        "    # SigmaY for each localization\n",
        "    tiff = Image.open(os.path.join(tiff_path, filename))\n",
        "    tiff_ch6 = Image.open(os.path.join(tiff_path, bright_filename))\n",
        "    xy_list = []\n",
        "    tiff.seek(0)\n",
        "    max_row, max_col = np.array(tiff).shape\n",
        "    fit_shape = np.min([max_col, max_row])\n",
        "\n",
        "    if (L == None):\n",
        "        L = tiff.n_frames\n",
        "    ind = np.random.randint(0, tiff.n_frames, np.min([tiff.n_frames, L]))\n",
        "    for i in tqdm(range(L)):\n",
        "        try:\n",
        "            if (random_cells):\n",
        "                tiff.seek(ind[i])\n",
        "                tiff_ch6.seek(ind[i])\n",
        "            else:\n",
        "                tiff.seek(i)\n",
        "                tiff_ch6.seek(i)\n",
        "        except:\n",
        "            print('Specified stack length is too big - Continuing calibration')\n",
        "            break\n",
        "        data = np.array(tiff)\n",
        "        # Filtering cells with bad SNR\n",
        "        if (np.max(data) / np.mean(data) < SNR_th):\n",
        "            if (verbose):\n",
        "                print(\"SNR is too low\")\n",
        "            continue\n",
        "\n",
        "        pred_params, fit_quality, confidence = localize_emitters(data, project_percentile(data, 90),\n",
        "                                                                 np.array(tiff_ch6),\n",
        "                                                                 fit_shape, conf_threshold, detection_mode, verbose)\n",
        "\n",
        "        # Filter cell when the localization algorithm fail\n",
        "        if (len(fit_quality) == 0):\n",
        "            continue\n",
        "\n",
        "        for emitter in range(len(fit_quality)):\n",
        "            xy_list.append([pred_params[emitter][10], pred_params[emitter][11]])\n",
        "\n",
        "    xy_arr = np.array(xy_list)\n",
        "\n",
        "    print(\"{} cells out of {} were analyzed for the calibration\".format(xy_arr.shape[0], L))\n",
        "    # Second step: Fit a curve to the SigmaY-SigmaX graph.\n",
        "\n",
        "    upper_list = []\n",
        "    lower_list = []\n",
        "    for i in range(xy_arr.shape[0]):\n",
        "        if (xy_arr[i, 0] < xy_arr[i, 1]):\n",
        "            upper_list.append(i)\n",
        "        else:\n",
        "            lower_list.append(i)\n",
        "\n",
        "    xy_upper = xy_arr[upper_list, :]\n",
        "    xy_lower = xy_arr[lower_list, :]\n",
        "\n",
        "    dist_arr_u = np.sum(np.abs(xy_upper - np.array([1.0, 1.0])), axis=1)\n",
        "    dist_arr_l = np.sum(np.abs(xy_lower - np.array([1.0, 1.0])), axis=1)\n",
        "\n",
        "    sort_ind_u = np.argsort(dist_arr_u)[::-1]\n",
        "    sort_ind_l = np.argsort(dist_arr_l)\n",
        "\n",
        "    xy_sort = np.zeros([len(lower_list) + len(upper_list), 2])\n",
        "    xy_sort[:len(sort_ind_u), :] = xy_upper[sort_ind_u, :]\n",
        "    xy_sort[len(sort_ind_u):, :] = xy_lower[sort_ind_l, :]\n",
        "\n",
        "    # Build a list of the spline function, one for each dimension:\n",
        "    spl_x = interpolate.splrep(np.arange(xy_sort.shape[0]), xy_sort[:, 0], s=xy_sort.shape[0])\n",
        "    points_fitted_x = interpolate.splev(np.arange(xy_sort.shape[0]), spl_x)\n",
        "    spl_y = interpolate.splrep(np.arange(xy_sort.shape[0]), xy_sort[:, 1], s=xy_sort.shape[0])\n",
        "    points_fitted_y = interpolate.splev(np.arange(xy_sort.shape[0]), spl_y)\n",
        "\n",
        "    # Graph:\n",
        "    plt.figure(figsize=(8, 8))\n",
        "    plt.plot(np.linspace(0, xy_sort.shape[0], points_fitted_x.shape[0]), points_fitted_x, '-r',\n",
        "             label='fitted spline for sigmaX')\n",
        "    plt.plot(np.linspace(0, xy_sort.shape[0], points_fitted_y.shape[0]), points_fitted_y, '-b',\n",
        "             label='fitted spline for sigmaY')\n",
        "    plt.scatter(np.arange(xy_sort.shape[0]), xy_sort[:, 0], s=0.5, c='k', label='Measured SigmaX')\n",
        "    plt.scatter(np.arange(xy_sort.shape[0]), xy_sort[:, 1], s=0.5, c='c', label='Measured SigmaY')\n",
        "    plt.legend()\n",
        "    plt.xlabel('Sample num')\n",
        "    plt.ylabel('Sig [um]')\n",
        "    plt.suptitle('Fit curve to rotated sigY-sigX graph')\n",
        "    plt.savefig(os.path.join(tiff_path, \"Fitted_curves_channel_{}.png\".format(channel)))\n",
        "    if (verbose):\n",
        "        plt.show()\n",
        "    plt.close()\n",
        "\n",
        "    # Third part: draw the CDF of z positions along the polynomial and find the calibration function from SigmaX-SigmaY\n",
        "    # to z position\n",
        "    cnts_x = np.zeros_like(points_fitted_x)\n",
        "    cnts_y = np.zeros_like(points_fitted_y)\n",
        "    counted_x = np.zeros(xy_sort.shape[0])\n",
        "    counted_y = np.zeros(xy_sort.shape[0])\n",
        "    dist_thresh = 0.3\n",
        "    bins_x = np.linspace(0, xy_sort.shape[0], points_fitted_x.shape[0])\n",
        "    bins_y = np.linspace(0, xy_sort.shape[0], points_fitted_y.shape[0])\n",
        "    # Create the bounding boxes\n",
        "    for i in range(points_fitted_x.shape[0]):\n",
        "        curr_sig_x = points_fitted_x[i]\n",
        "        if (i == 0):\n",
        "            prev_x = bins_x[i]\n",
        "            next_x = bins_x[i + 1]\n",
        "        elif (i == points_fitted_x.shape[0] - 1):\n",
        "            prev_x = bins_x[i - 1]\n",
        "            next_x = bins_x[i]\n",
        "        else:\n",
        "            prev_x = bins_x[i - 1]\n",
        "            next_x = bins_x[i + 1]\n",
        "\n",
        "        indices_x = find_loc_in_radius(xy_sort[:, 0], curr_sig_x, prev_x, next_x, dist_thresh)\n",
        "        prev_count_x = np.sum(counted_x)\n",
        "        counted_x[indices_x] = 1\n",
        "        curr_count_x = np.sum(counted_x)\n",
        "        cnts_x[i] = curr_count_x - prev_count_x\n",
        "\n",
        "    for i in range(points_fitted_y.shape[0]):\n",
        "        curr_sig_y = points_fitted_y[i]\n",
        "        if (i == 0):\n",
        "            prev_y = bins_y[i]\n",
        "            next_y = bins_y[i + 1]\n",
        "        elif (i == points_fitted_y.shape[0] - 1):\n",
        "            prev_y = bins_y[i - 1]\n",
        "            next_y = bins_y[i]\n",
        "        else:\n",
        "            prev_y = bins_y[i - 1]\n",
        "            next_y = bins_y[i + 1]\n",
        "\n",
        "        indices_y = find_loc_in_radius(xy_sort[:, 1], curr_sig_y, prev_y, next_y, dist_thresh)\n",
        "        prev_count_y = np.sum(counted_y)\n",
        "        counted_y[indices_y] = 1\n",
        "        curr_count_y = np.sum(counted_y)\n",
        "        cnts_y[i] = curr_count_y - prev_count_y\n",
        "\n",
        "    cnts_x = np.cumsum(cnts_x)\n",
        "    cnts_y = np.cumsum(cnts_y)\n",
        "\n",
        "    # Assumptions:\n",
        "    # 1. the z range is [-2.2, 2.2] um\n",
        "    # 2. 95% of the beads are detectable in IFC\n",
        "    # 3. The beads z locations are distributed like a normal RV with mean = 0 and sigma = 1.375\n",
        "    # (erf(1.6)=97.5%, erf(-1.6)=2.5% so I divide 4.4/3.6=1.375)\n",
        "    from scipy.optimize import minimize\n",
        "    from scipy.optimize import Bounds\n",
        "\n",
        "    min_ind_X = np.argmin(points_fitted_x)\n",
        "    min_ind_Y = np.argmin(points_fitted_y)\n",
        "\n",
        "    upper_limit_X, lower_limit_X, expected_counts_X = get_expected_coutns(points_fitted_x, min_ind_X,\n",
        "                                                                                      z_max, step, xy_sort)\n",
        "    upper_limit_Y, lower_limit_Y, expected_counts_Y = get_expected_coutns(points_fitted_y, min_ind_Y,\n",
        "                                                                                      z_max, step, xy_sort)\n",
        "\n",
        "    # Overwrite old z_values and expected values\n",
        "    rand_norm = stats.norm(0, 1.375)\n",
        "    z_values_X = np.linspace(upper_limit_X, lower_limit_X, 100)\n",
        "    expected_counts_X = rand_norm.cdf(z_values_X)\n",
        "    expected_counts_X -= expected_counts_X[0]\n",
        "    z_values_Y = np.linspace(upper_limit_Y, lower_limit_Y, 100)\n",
        "    expected_counts_Y = rand_norm.cdf(z_values_Y)\n",
        "    expected_counts_Y -= expected_counts_Y[0]\n",
        "\n",
        "    x_pred_z = np.zeros_like(z_values_X)\n",
        "    y_pred_z = np.zeros_like(z_values_Y)\n",
        "\n",
        "    xy_pos = np.zeros([z_values_X.shape[0], 2])\n",
        "    total_measured_x = cnts_x[-1]\n",
        "    total_measured_y = cnts_y[-1]\n",
        "    for i in range(z_values_X.shape[0]):\n",
        "        for j in range(1, cnts_x.shape[0]):\n",
        "            if (expected_counts_X[i] * total_measured_x > cnts_x[j - 1] and expected_counts_X[i] * total_measured_x <= cnts_x[j]):\n",
        "                x_pred_z[i] = 0.5 * z_values_X[i - 1] + 0.5 * z_values_X[i]\n",
        "                xy_pos[i, 0] = points_fitted_x[j]\n",
        "                break\n",
        "        for j in range(1, cnts_y.shape[0]):\n",
        "            if (expected_counts_Y[i] * total_measured_y > cnts_y[j - 1] and expected_counts_Y[i] * total_measured_y <= cnts_y[j]):\n",
        "                y_pred_z[i] = 0.5 * z_values_Y[i - 1] + 0.5 * z_values_Y[i]\n",
        "                xy_pos[i, 1] = points_fitted_y[j]\n",
        "                break\n",
        "\n",
        "    i = 0\n",
        "    while (x_pred_z[i] == 0):\n",
        "        x_pred_z[i] = upper_limit_X\n",
        "        i += 1\n",
        "    for j in range(np.max([i, 1]), x_pred_z.shape[0]):\n",
        "        if (x_pred_z[j] == 0):\n",
        "            x_pred_z[j] = (x_pred_z[j - 1] - x_pred_z[j]) + x_pred_z[j]\n",
        "    i = 0\n",
        "    while (y_pred_z[i] == 0):\n",
        "        y_pred_z[i] = upper_limit_Y\n",
        "        i += 1\n",
        "    for j in range(np.max([i, 1]), y_pred_z.shape[0]):\n",
        "        if (y_pred_z[j] == 0):\n",
        "            y_pred_z[j] = (y_pred_z[j - 1] - y_pred_z[j]) + y_pred_z[j]\n",
        "\n",
        "    # Draw the bins of different z positions on top of sigmaX and sigmaY graphs\n",
        "    points_of_intrest_x, loc_x = find_points_of_interest(bins_x, min_ind_X)\n",
        "    points_of_intrest_y, loc_y = find_points_of_interest(bins_y, min_ind_Y)\n",
        "\n",
        "    plt.figure(figsize=(14, 8))\n",
        "    plt.subplot(211)\n",
        "    plt.scatter(np.arange(xy_sort.shape[0]), xy_sort[:, 0], c='k')\n",
        "    plt.xticks(points_of_intrest_x, ['-2.2um', '0um', '2.2um'])\n",
        "    plt.stem(points_of_intrest_x, loc_x)\n",
        "    plt.xlabel('z value / number of sample')\n",
        "    plt.ylabel('SigmaX')\n",
        "    plt.subplot(212)\n",
        "    plt.scatter(np.arange(xy_sort.shape[0]), xy_sort[:, 1], c='k')\n",
        "    plt.xticks(points_of_intrest_y, ['-2.2um', '0um', '2.2um'])\n",
        "    plt.stem(points_of_intrest_y, loc_y)\n",
        "    plt.xlabel('z value / number of sample')\n",
        "    plt.ylabel('SigmaY')\n",
        "    plt.savefig(os.path.join(tiff_path, \"Binning on top of observed data_{}.png\".format(channel)))\n",
        "    if (verbose):\n",
        "        plt.show()\n",
        "    plt.close()\n",
        "\n",
        "    print('-I- Saving calibration as TIFF for channel', channel)\n",
        "    calib = np.array([x_pred_z, y_pred_z])\n",
        "    return xy_pos, calib\n",
        "\n",
        "def find_min_point(xy_arr):\n",
        "    # Search for the focus point in the sigX-sigY graph\n",
        "    return np.percentile(xy_arr[:, 0], 10), np.percentile(xy_arr[:, 1], 20)\n",
        "\n",
        "def generate_calibration_by_beads_10_11_22(tiff_path, filename, SNR_th, L, z_max, step, channel,\n",
        "                                           conf_threshold, random_cells, verbose=False):\n",
        "    # First Step: Load the TIFF file and localize asymmetric PSFs, the output of this part is an array of SigmaX and\n",
        "    # SigmaY for each localization\n",
        "    tiff = Image.open(os.path.join(tiff_path, filename))\n",
        "    xy_list = []\n",
        "    tiff.seek(0)\n",
        "    max_row, max_col = np.array(tiff).shape\n",
        "    fit_shape = np.min([max_col, max_row])\n",
        "\n",
        "    if (L == None):\n",
        "        L = tiff.n_frames\n",
        "    ind = np.random.randint(0, tiff.n_frames, np.min([tiff.n_frames, L]))\n",
        "    for i in tqdm(range(L)):\n",
        "        try:\n",
        "            if (random_cells):\n",
        "                tiff.seek(ind[i])\n",
        "            else:\n",
        "                tiff.seek(i)\n",
        "        except:\n",
        "            print('Specified stack length is too big - Continuing calibration')\n",
        "            break\n",
        "        data = np.array(tiff)\n",
        "        # Filtering cells with bad SNR\n",
        "        if (np.max(data) / np.mean(data) < SNR_th):\n",
        "            continue\n",
        "\n",
        "        pred_params, fit_quality, confidence = localize_beads(data, project_percentile(data, 90),\n",
        "                                                              fit_shape, conf_threshold, verbose)\n",
        "\n",
        "        # Filter cell when the localization algorithm fail\n",
        "        if (fit_quality == None):\n",
        "            continue\n",
        "\n",
        "        xy_list.append([pred_params[4], pred_params[5]])\n",
        "\n",
        "    xy_arr = np.array(xy_list)\n",
        "\n",
        "    print(\"{} cells out of {} were analyzed for the calibration\".format(xy_arr.shape[0], L))\n",
        "    # Second step: Fit a curve to the SigmaY-SigmaX graph.\n",
        "\n",
        "    upper_list = []\n",
        "    lower_list = []\n",
        "    min_pnt = find_min_point(xy_arr)\n",
        "    for i in range(xy_arr.shape[0]):\n",
        "        if (xy_arr[i, 0]*min_pnt[1] < xy_arr[i, 1]*min_pnt[0]):\n",
        "            upper_list.append(i)\n",
        "        else:\n",
        "            lower_list.append(i)\n",
        "\n",
        "    xy_upper = xy_arr[upper_list, :]\n",
        "    xy_lower = xy_arr[lower_list, :]\n",
        "\n",
        "    dist_arr_u = np.sum(np.abs(xy_upper - min_pnt), axis=1)\n",
        "    dist_arr_l = np.sum(np.abs(xy_lower - min_pnt), axis=1)\n",
        "\n",
        "    sort_ind_u = np.argsort(dist_arr_u)[::-1]\n",
        "    sort_ind_l = np.argsort(dist_arr_l)\n",
        "\n",
        "    xy_sort = np.zeros([len(lower_list) + len(upper_list), 2])\n",
        "    xy_sort[:len(sort_ind_u), :] = xy_upper[sort_ind_u, :]\n",
        "    xy_sort[len(sort_ind_u):, :] = xy_lower[sort_ind_l, :]\n",
        "\n",
        "    # Build a list of the spline function, one for each dimension:\n",
        "    spl_x = interpolate.splrep(np.arange(xy_sort.shape[0]), xy_sort[:, 0], s=5)\n",
        "    points_fitted_x = interpolate.splev(np.arange(xy_sort.shape[0]), spl_x)\n",
        "    spl_y = interpolate.splrep(np.arange(xy_sort.shape[0]), xy_sort[:, 1], s=5)\n",
        "    points_fitted_y = interpolate.splev(np.arange(xy_sort.shape[0]), spl_y)\n",
        "\n",
        "    # Graph:\n",
        "    plt.figure(figsize=(8, 8))\n",
        "    plt.plot(np.linspace(0, xy_sort.shape[0], points_fitted_x.shape[0]), points_fitted_x, '-r',\n",
        "             label='fitted spline for sigmaX')\n",
        "    plt.plot(np.linspace(0, xy_sort.shape[0], points_fitted_y.shape[0]), points_fitted_y, '-b',\n",
        "             label='fitted spline for sigmaY')\n",
        "    plt.scatter(np.arange(xy_sort.shape[0]), xy_sort[:, 0], s=0.5, c='k', label='Measured SigmaX')\n",
        "    plt.scatter(np.arange(xy_sort.shape[0]), xy_sort[:, 1], s=0.5, c='c', label='Measured SigmaY')\n",
        "    plt.legend()\n",
        "    plt.xlabel('Sample num')\n",
        "    plt.ylabel('Sig [um]')\n",
        "    plt.suptitle('Fit curve to rotated sigY-sigX graph')\n",
        "    plt.savefig(os.path.join(tiff_path, \"Fitted_curves_channel_{}.png\".format(channel)))\n",
        "    if (verbose):\n",
        "        plt.show()\n",
        "    plt.close()\n",
        "\n",
        "    # Third part: draw the CDF of z positions along the spline and find the calibration function from SigmaX-SigmaY\n",
        "    # to z position\n",
        "    cnts_x = np.zeros_like(points_fitted_x)\n",
        "    cnts_y = np.zeros_like(points_fitted_y)\n",
        "    counted_x = np.zeros(xy_sort.shape[0])\n",
        "    counted_y = np.zeros(xy_sort.shape[0])\n",
        "    dist_thresh = 0.3\n",
        "    bins_x = np.linspace(0, xy_sort.shape[0], points_fitted_x.shape[0])\n",
        "    bins_y = np.linspace(0, xy_sort.shape[0], points_fitted_y.shape[0])\n",
        "    # Create the bounding boxes\n",
        "    for i in range(points_fitted_x.shape[0]):\n",
        "        curr_sig_x = points_fitted_x[i]\n",
        "        if (i == 0):\n",
        "            prev_x = bins_x[i]\n",
        "            next_x = bins_x[i + 1]\n",
        "        elif (i == points_fitted_x.shape[0] - 1):\n",
        "            prev_x = bins_x[i - 1]\n",
        "            next_x = bins_x[i]\n",
        "        else:\n",
        "            prev_x = bins_x[i - 1]\n",
        "            next_x = bins_x[i + 1]\n",
        "\n",
        "        indices_x = find_loc_in_radius(xy_sort[:, 0], curr_sig_x, prev_x, next_x, dist_thresh)\n",
        "        prev_count_x = np.sum(counted_x)\n",
        "        counted_x[indices_x] = 1\n",
        "        curr_count_x = np.sum(counted_x)\n",
        "        cnts_x[i] = curr_count_x - prev_count_x\n",
        "\n",
        "    for i in range(points_fitted_y.shape[0]):\n",
        "        curr_sig_y = points_fitted_y[i]\n",
        "        if (i == 0):\n",
        "            prev_y = bins_y[i]\n",
        "            next_y = bins_y[i + 1]\n",
        "        elif (i == points_fitted_y.shape[0] - 1):\n",
        "            prev_y = bins_y[i - 1]\n",
        "            next_y = bins_y[i]\n",
        "        else:\n",
        "            prev_y = bins_y[i - 1]\n",
        "            next_y = bins_y[i + 1]\n",
        "\n",
        "        indices_y = find_loc_in_radius(xy_sort[:, 1], curr_sig_y, prev_y, next_y, dist_thresh)\n",
        "        prev_count_y = np.sum(counted_y)\n",
        "        counted_y[indices_y] = 1\n",
        "        curr_count_y = np.sum(counted_y)\n",
        "        cnts_y[i] = curr_count_y - prev_count_y\n",
        "\n",
        "    cnts_x = np.cumsum(cnts_x)\n",
        "    cnts_y = np.cumsum(cnts_y)\n",
        "\n",
        "    # Assumptions:\n",
        "    # 1. the z range is [-2.2, 2.2] um\n",
        "    # 2. 95% of the beads are detectable in IFC\n",
        "    # 3. The beads z locations are distributed like a normal RV with mean = 0 and sigma = 1.375\n",
        "    # (erf(1.6)=97.5%, erf(-1.6)=2.5% so I divide 4.4/3.2=1.375)\n",
        "    from scipy.optimize import minimize\n",
        "    from scipy.optimize import Bounds\n",
        "\n",
        "    min_ind_X = np.argmin(points_fitted_x)\n",
        "    min_ind_Y = np.argmin(points_fitted_y)\n",
        "\n",
        "    upper_limit_X, lower_limit_X, expected_counts_X = get_expected_coutns(points_fitted_x, min_ind_X,\n",
        "                                                                                      z_max, step, xy_sort)\n",
        "    upper_limit_Y, lower_limit_Y, expected_counts_Y = get_expected_coutns(points_fitted_y, min_ind_Y,\n",
        "                                                                                      z_max, step, xy_sort)\n",
        "\n",
        "    # Overwrite old z_values and expected values\n",
        "    rand_norm = stats.norm(0, 1.375)\n",
        "    z_values_X = np.linspace(upper_limit_X, lower_limit_X, 100)\n",
        "    expected_counts_X = rand_norm.cdf(z_values_X)\n",
        "    expected_counts_X -= expected_counts_X[0]\n",
        "    z_values_Y = np.linspace(upper_limit_Y, lower_limit_Y, 100)\n",
        "    expected_counts_Y = rand_norm.cdf(z_values_Y)\n",
        "    expected_counts_Y -= expected_counts_Y[0]\n",
        "\n",
        "    x_pred_z = np.zeros_like(z_values_X)\n",
        "    y_pred_z = np.zeros_like(z_values_Y)\n",
        "\n",
        "    xy_pos = np.zeros([z_values_X.shape[0], 2])\n",
        "    total_measured_x = cnts_x[-1]\n",
        "    total_measured_y = cnts_y[-1]\n",
        "    for i in range(z_values_X.shape[0]):\n",
        "        for j in range(1, cnts_x.shape[0]):\n",
        "            if (expected_counts_X[i] * total_measured_x > cnts_x[j - 1] and expected_counts_X[i] * total_measured_x <= cnts_x[j]):\n",
        "                x_pred_z[i] = 0.5 * z_values_X[i - 1] + 0.5 * z_values_X[i]\n",
        "                xy_pos[i, 0] = points_fitted_x[j]\n",
        "                break\n",
        "        for j in range(1, cnts_y.shape[0]):\n",
        "            if (expected_counts_Y[i] * total_measured_y > cnts_y[j - 1] and expected_counts_Y[i] * total_measured_y <= cnts_y[j]):\n",
        "                y_pred_z[i] = 0.5 * z_values_Y[i - 1] + 0.5 * z_values_Y[i]\n",
        "                xy_pos[i, 1] = points_fitted_y[j]\n",
        "                break\n",
        "\n",
        "    i = 0\n",
        "    while (x_pred_z[i] == 0):\n",
        "        x_pred_z[i] = upper_limit_X\n",
        "        i += 1\n",
        "    for j in range(np.max([i, 1]), x_pred_z.shape[0]):\n",
        "        if (x_pred_z[j] == 0):\n",
        "            x_pred_z[j] = (x_pred_z[j - 1] - x_pred_z[j]) + x_pred_z[j]\n",
        "    i = 0\n",
        "    while (y_pred_z[i] == 0):\n",
        "        y_pred_z[i] = upper_limit_Y\n",
        "        i += 1\n",
        "    for j in range(np.max([i, 1]), y_pred_z.shape[0]):\n",
        "        if (y_pred_z[j] == 0):\n",
        "            y_pred_z[j] = (y_pred_z[j - 1] - y_pred_z[j]) + y_pred_z[j]\n",
        "\n",
        "    # Draw the bins of different z positions on top of sigmaX and sigmaY graphs\n",
        "    points_of_intrest_x, loc_x = find_points_of_interest(bins_x, min_ind_X)\n",
        "    points_of_intrest_y, loc_y = find_points_of_interest(bins_y, min_ind_Y)\n",
        "\n",
        "    plt.figure(figsize=(14, 8))\n",
        "    plt.subplot(211)\n",
        "    plt.scatter(np.arange(xy_sort.shape[0]), xy_sort[:, 0], c='k')\n",
        "    plt.xticks(points_of_intrest_x, ['{}um'.format(upper_limit_X), '0um', '{}um'.format(lower_limit_X)])\n",
        "    plt.stem(points_of_intrest_x, loc_x)\n",
        "    plt.xlabel('z value / number of sample')\n",
        "    plt.ylabel('SigmaX')\n",
        "    plt.subplot(212)\n",
        "    plt.scatter(np.arange(xy_sort.shape[0]), xy_sort[:, 1], c='k')\n",
        "    plt.xticks(points_of_intrest_y, ['{}um'.format(upper_limit_Y), '0um', '{}um'.format(lower_limit_Y)])\n",
        "    plt.stem(points_of_intrest_y, loc_y)\n",
        "    plt.xlabel('z value / number of sample')\n",
        "    plt.ylabel('SigmaY')\n",
        "    plt.savefig(os.path.join(tiff_path, \"Binning on top of observed data_{}.png\".format(channel)))\n",
        "    if (verbose):\n",
        "        plt.show()\n",
        "    plt.close()\n",
        "\n",
        "    print('-I- Saving calibration as TIFF for channel', channel)\n",
        "    calib = np.array([x_pred_z, y_pred_z])\n",
        "    return xy_pos, calib\n",
        "\n",
        "def get_expected_coutns(points_fitted, min_ind, z_max, step, xy_sort):\n",
        "    # Calculate the expected counts based on our Gaussian distribution assumption\n",
        "    mean = 0\n",
        "    std = 1.375\n",
        "    if(min_ind > points_fitted.shape[0]/2):\n",
        "        # Calculate expected counts for gaussian distribution with 95% of elements in [-2.2, 2.2] interval\n",
        "        z_values = np.linspace(0, 2.2, int((z_max + step) / step))\n",
        "\n",
        "        rand_norm = stats.norm(mean, std)\n",
        "        expected_counts = rand_norm.cdf(z_values) * 2 * min_ind\n",
        "        expected_counts -= expected_counts[0]\n",
        "\n",
        "        # Calculate the actual limit of the interval (Due to bad focus it might happen that not all beads are visible)\n",
        "        for i in range(expected_counts.shape[0]):\n",
        "            if(expected_counts[i] > (points_fitted.shape[0] - min_ind)):\n",
        "                lower_limit = z_values[i]\n",
        "                break\n",
        "            lower_limit = 2.2\n",
        "        upper_limit = -2.2\n",
        "    else:\n",
        "        # Calculate expected counts for gaussian distribution with 95% of elements in [-2.2, 2.2] interval\n",
        "        z_values = np.linspace(-2.2, 0, int((z_max + step) / step))\n",
        "\n",
        "        rand_norm = stats.norm(mean, std)\n",
        "        expected_counts = rand_norm.cdf(z_values) * 2 * (xy_sort.shape[0] - min_ind)\n",
        "\n",
        "        # Calculate the actual limit of the interval (Due to bad focus it might happen that not all beads are visible)\n",
        "        for i in range(expected_counts.shape[0]):\n",
        "            if (expected_counts[-1] - expected_counts[-(i + 1)] > min_ind):\n",
        "                upper_limit = z_values[-(i + 1)]\n",
        "                break\n",
        "            upper_limit = -2.2\n",
        "        lower_limit = 2.2\n",
        "\n",
        "    return upper_limit, lower_limit, expected_counts\n",
        "\n",
        "def find_points_of_interest(bins, min_ind):\n",
        "    # Find the points of interest in the calibration graph between sigX/Y and z\n",
        "    points_of_intrest = []\n",
        "    loc = []\n",
        "    points_of_intrest.append(bins[0])\n",
        "    loc.append(4)\n",
        "    points_of_intrest.append(bins[min_ind])\n",
        "    loc.append(4)\n",
        "    points_of_intrest.append(bins[-1])\n",
        "    loc.append(4)\n",
        "\n",
        "    return np.array(points_of_intrest), np.array(loc)\n",
        "\n",
        "def find_minimal_distance_assignment(list_ch2, list_ch4):\n",
        "    assignment_list_ch4 = []\n",
        "    for i in range(len(list_ch2)):\n",
        "        assignment_list_ch4.append(np.argmin(np.sum(np.abs((list_ch2[i] - np.array(list_ch4))), axis=1)))\n",
        "    return assignment_list_ch4\n",
        "\n",
        "def linear_func(x, a, b):\n",
        "    return a * x + b\n",
        "\n",
        "def PlotCentroidCurveFit(dir_path, Cent_vs_dist_X, ind_curve_X, params_X, Cent_vs_dist_Y, ind_curve_Y, params_Y):\n",
        "    # Plot the fit of the distance correction function based on the position in the sensor\n",
        "    fig = plt.figure(figsize=(12, 6))\n",
        "    plt.suptitle('Fitting the error in the distance as a function of the emitter position in the FOV')\n",
        "    plt.subplot(121)\n",
        "    plt.title('x vs dx')\n",
        "    plt.scatter(Cent_vs_dist_X[ind_curve_X, 0], Cent_vs_dist_X[ind_curve_X, 1], s=0.1)\n",
        "    plt.plot(Cent_vs_dist_X[ind_curve_X, 0], linear_func(Cent_vs_dist_X[ind_curve_X, 0], *params_X), 'r')\n",
        "    plt.xlabel('x')\n",
        "    plt.ylabel('dx')\n",
        "    plt.ylim([-0.5, 0.5])\n",
        "    plt.subplot(122)\n",
        "    plt.title('x vs dy')\n",
        "    plt.scatter(Cent_vs_dist_Y[ind_curve_Y, 0], Cent_vs_dist_Y[ind_curve_Y, 1], s=0.1)\n",
        "    plt.plot(Cent_vs_dist_Y[ind_curve_Y, 0], linear_func(Cent_vs_dist_Y[ind_curve_Y, 0], *params_Y), 'r')\n",
        "    plt.xlabel('x')\n",
        "    plt.ylabel('dy')\n",
        "    plt.ylim([-0.5, 0.5])\n",
        "    fig.savefig(os.path.join(dir_path, \"Location vs distance.png\"))\n",
        "    if (verbose):\n",
        "        plt.show()\n",
        "    plt.close(fig)\n",
        "\n",
        "def Plot3DDistanceScatter(title, dir_path, dist_3d):\n",
        "    # Plot the 3D distance scatter plot\n",
        "    fig = plt.figure(figsize=(8, 8))\n",
        "    ax = fig.add_subplot(projection='3d')\n",
        "    ax.scatter(dist_3d[:, 0], dist_3d[:, 1], dist_3d[:, 2], c=np.arange(dist_3d.shape[0]),\n",
        "               marker='x')\n",
        "    ax.set_xlabel('dist x[um]')\n",
        "    ax.set_ylabel('dist y[um]')\n",
        "    ax.set_zlabel('dist z[um]')\n",
        "    if (\"BeadsOnly\" in dir_path):\n",
        "        ax.set_xlim([-0.3, 0.3])\n",
        "        ax.set_ylim([-0.3, 0.3])\n",
        "        ax.set_zlim([-0.3, 0.3])\n",
        "    else:\n",
        "        ax.set_xlim([-1.0, 1.0])\n",
        "        ax.set_ylim([-1.0, 1.0])\n",
        "        ax.set_zlim([-1.0, 1.0])\n",
        "    plt.title(\"{} \\nAVGx = {:.5f}, AVGy = {:.5f}, AVGz = {:.5f} \\n STDx = {:.5f}, STDy = {:.5f}, STDz = {:.5f} \\n{}\".format(title,\n",
        "                                                                            np.mean(dist_3d[:, 0]),\n",
        "                                                                            np.mean(dist_3d[:, 1]),\n",
        "                                                                            np.mean(dist_3d[:, 2]),\n",
        "                                                                            np.std(dist_3d[:, 0]),\n",
        "                                                                            np.std(dist_3d[:, 1]),\n",
        "                                                                            np.std(dist_3d[:, 2]),\n",
        "                                                                            dir_path.split('\\\\')[-1]))\n",
        "    fig.savefig(os.path.join(dir_path, '{}.png'.format(title)))\n",
        "    if (verbose):\n",
        "        plt.show()\n",
        "    plt.close(fig)\n",
        "\n",
        "def Plot3DDistanceHistogram(title, dir_path, dist_list):\n",
        "    # Plot a 3D distance line plot\n",
        "    fig = plt.figure(figsize=(15, 5))\n",
        "    plt.plot(np.arange(0, 1.5 - 1 / 30, 1 / 30), np.histogram(dist_list, bins=np.arange(45) / 30)[0])\n",
        "    plt.title('{} \\nmedian={:.3f}, mean={:.3f}, STD={:.3f}, N={} \\n{}'.format(title,\n",
        "                                                                              np.median(dist_list),\n",
        "                                                                              np.mean(dist_list),\n",
        "                                                                              np.std(dist_list),\n",
        "                                                                              len(dist_list),\n",
        "                                                                              dir_path.split('\\\\')[-1]))\n",
        "    plt.gca().xaxis.set_major_formatter(ticker.FormatStrFormatter('%.2f'))\n",
        "    plt.xlim([0, 1.5])\n",
        "    plt.savefig(os.path.join(dir_path, \"{}.png\".format(title)))\n",
        "    if (verbose):\n",
        "        plt.show()\n",
        "    plt.close()\n",
        "\n",
        "def Plot3DLocalizationHistogram(title, dir_path, ch2_loc_list, ch4_loc_list):\n",
        "    # Plot the localization histogram\n",
        "    ch2_loc_arr = np.array(ch2_loc_list)\n",
        "    ch4_loc_arr = np.array(ch4_loc_list)\n",
        "    fig = plt.figure(figsize=(18, 8))\n",
        "    plt.suptitle('Localization Histograms \\n{}'.format(dir_path.split('\\\\')[-1]))\n",
        "    plt.subplot(231)\n",
        "    plt.title('Ch2 - X')\n",
        "    plt.hist(ch2_loc_arr[:, 0], bins=np.arange(30) / 2)\n",
        "    plt.subplot(232)\n",
        "    plt.title('Ch2 - Y')\n",
        "    plt.hist(ch2_loc_arr[:, 1], bins=np.arange(30) / 2)\n",
        "    plt.subplot(233)\n",
        "    plt.title('Ch2 - Z')\n",
        "    plt.hist(ch2_loc_arr[:, 2], bins=np.arange(-2, 2, 0.2))\n",
        "    plt.subplot(234)\n",
        "    plt.title('Ch4 - X')\n",
        "    plt.hist(ch4_loc_arr[:, 0], bins=np.arange(30) / 2)\n",
        "    plt.subplot(235)\n",
        "    plt.title('Ch4 - Y')\n",
        "    plt.hist(ch4_loc_arr[:, 1], bins=np.arange(30) / 2)\n",
        "    plt.subplot(236)\n",
        "    plt.title('Ch4 - Z')\n",
        "    plt.hist(ch4_loc_arr[:, 2], bins=np.arange(-2, 2, 0.2))\n",
        "    plt.savefig(os.path.join(dir_path, \"{}.png\".format(title)))\n",
        "    if (verbose):\n",
        "        plt.show()\n",
        "    plt.close()\n",
        "\n",
        "def PlotCh01Plots(path, bootstrap_reps, timepoints_arr, sort_ind, mean_intensity_ch01, std_intensity_ch01,\n",
        "                  mean_rawmax_ch01, std_rawmax_ch01):\n",
        "    # Additional plots of ch1 data for quality checks\n",
        "    plt.figure(figsize=(8, 4))\n",
        "    if(bootstrap_reps > 1):\n",
        "        plt.errorbar(timepoints_arr[sort_ind], mean_intensity_ch01[sort_ind], std_intensity_ch01[sort_ind])\n",
        "    else:\n",
        "        plt.plot(timepoints_arr[sort_ind], mean_intensity_ch01[sort_ind])\n",
        "    plt.xlabel('time points [min]')\n",
        "    plt.ylabel('mean intensity ch01 over {} reps'.format(bootstrap_reps))\n",
        "    plt.title('Bootstrap of Intensity_Ch01 over {} reps'.format(bootstrap_reps))\n",
        "    plt.savefig(os.path.join(path, \"Intensity Ch01.png\"))\n",
        "    if (verbose):\n",
        "        plt.show()\n",
        "    plt.close()\n",
        "\n",
        "    plt.figure(figsize=(8, 4))\n",
        "    if(bootstrap_reps > 1):\n",
        "        plt.errorbar(timepoints_arr[sort_ind], mean_rawmax_ch01[sort_ind], std_rawmax_ch01[sort_ind])\n",
        "    else:\n",
        "        plt.plot(timepoints_arr[sort_ind], mean_rawmax_ch01[sort_ind])\n",
        "    plt.xlabel('time points [min]')\n",
        "    plt.ylabel('mean raw max ch01 over {} reps'.format(bootstrap_reps))\n",
        "    plt.title('Bootstrap of Raw Max Ch01 over {} reps'.format(bootstrap_reps))\n",
        "    plt.savefig(os.path.join(path, \"Raw Max Ch01.png\"))\n",
        "    if (verbose):\n",
        "        plt.show()\n",
        "    plt.close()"
      ]
    },
    {
      "cell_type": "markdown",
      "metadata": {
        "id": "TMhul3Hc11_a"
      },
      "source": [
        "#Choose parameters\n",
        "**data_path** - indicate the pre-analyzed data location\n",
        "\n",
        "**SNR_thresh** - cells with lower Signal-to-Noise ration would be filtered\n",
        "\n",
        "**detection_mode** - measure 2D/ 3D distances"
      ]
    },
    {
      "cell_type": "code",
      "execution_count": null,
      "metadata": {
        "id": "xLBr_HXy2DLE",
        "cellView": "form"
      },
      "outputs": [],
      "source": [
        "data_path = \"\" #@param {type:\"string\"}\n",
        "convert_cif_to_tif = True #@param {type:\"boolean\"}\n",
        "random_cells = True #@param {type:\"boolean\"}\n",
        "create_calibration_maps = True #@param {type:\"boolean\"}\n",
        "calibrate_by_beads = True #@param {type:\"boolean\"}\n",
        "\n",
        "#@markdown Analyzing beads & cells; possible in 3D only\n",
        "\n",
        "analyze_beads_and_cells = True #@param {type:\"boolean\"}\n",
        "SNR_thresh_ch2 = 15 #@param {type:\"number\"}\n",
        "SNR_thresh_ch4 = 15 #@param {type:\"number\"}\n",
        "#@markdown The detection mode could be 2D / 3D / beads (analyzing only beads)\n",
        "detection_mode = \"\" #@param {type:\"string\"}\n",
        "\n",
        "#@markdown Verbose = True will show more information during the calibration and loci detection steps. However, you should use it only during debug since it will make the run much slower.\n",
        "verbose = False #@param {type:\"boolean\"}\n"
      ]
    },
    {
      "cell_type": "markdown",
      "metadata": {
        "id": "3078eniz2cuI"
      },
      "source": [
        "##Convert cif to tif"
      ]
    },
    {
      "cell_type": "code",
      "execution_count": null,
      "metadata": {
        "id": "X0IiHE2s2fK_",
        "outputId": "f7485ee9-9505-4e85-d116-f800f27f45a5",
        "cellView": "form"
      },
      "outputs": [
        {
          "name": "stdout",
          "output_type": "stream",
          "text": [
            "-I- Converting CIF to TIF\n",
            "-I- Saving channel 2\n",
            "-I- Saving channel 4\n",
            "-I- Saving channel 6\n",
            "-I- Saving channel 2\n",
            "-I- Saving channel 4\n",
            "-I- Saving channel 6\n",
            "-I- Saving channel 2\n",
            "-I- Saving channel 4\n",
            "-I- Saving channel 6\n",
            "-I- Saving channel 2\n",
            "-I- Saving channel 4\n",
            "-I- Saving channel 6\n",
            "-I- Saving channel 2\n",
            "-I- Saving channel 4\n",
            "-I- Saving channel 6\n",
            "-I- Saving channel 2\n",
            "-I- Saving channel 4\n",
            "-I- Saving channel 6\n",
            "-I- Saving channel 2\n",
            "-I- Saving channel 4\n",
            "-I- Saving channel 6\n",
            "-I- Saving channel 2\n",
            "-I- Saving channel 4\n",
            "-I- Saving channel 6\n",
            "-I- Saving channel 2\n",
            "-I- Saving channel 4\n",
            "-I- Saving channel 6\n",
            "-I- Saving channel 2\n",
            "-I- Saving channel 4\n",
            "-I- Saving channel 6\n",
            "-I- Saving channel 2\n",
            "-I- Saving channel 4\n",
            "-I- Saving channel 6\n",
            "-I- Saving channel 2\n",
            "-I- Saving channel 4\n",
            "-I- Saving channel 6\n",
            "-I- Saving channel 2\n",
            "-I- Saving channel 4\n",
            "-I- Saving channel 6\n",
            "-I- Saving channel 2\n",
            "-I- Saving channel 4\n",
            "-I- Saving channel 6\n",
            "-I- Saving channel 2\n",
            "-I- Saving channel 4\n",
            "-I- Saving channel 6\n",
            "-I- Saving channel 2\n",
            "-I- Saving channel 4\n",
            "-I- Saving channel 6\n",
            "-I- Saving channel 2\n",
            "-I- Saving channel 4\n",
            "-I- Saving channel 6\n",
            "-I- Saving channel 2\n",
            "-I- Saving channel 4\n",
            "-I- Saving channel 6\n",
            "-I- Saving channel 2\n",
            "-I- Saving channel 4\n",
            "-I- Saving channel 6\n",
            "-I- Saving channel 2\n",
            "-I- Saving channel 4\n",
            "-I- Saving channel 6\n",
            "-I- Saving channel 2\n",
            "-I- Saving channel 4\n",
            "-I- Saving channel 6\n",
            "-I- Saving channel 2\n",
            "-I- Saving channel 4\n",
            "-I- Saving channel 6\n"
          ]
        }
      ],
      "source": [
        "#@markdown Run this cell to convert all cif files in the data_path to tiff files\n",
        "#@markdown The data will be aranged like this:\n",
        "\n",
        "#@markdown ----> data_path\n",
        "\n",
        "#@markdown -------------> cif_file_name_1\n",
        "\n",
        "#@markdown ----------------------> filename_ch2.tif\n",
        "\n",
        "#@markdown ----------------------> filename_ch4.tif\n",
        "\n",
        "#@markdown -------------> cif_file_name_2\n",
        "\n",
        "#@markdown ----------------------> filename_ch2.tif\n",
        "\n",
        "#@markdown ----------------------> filename_ch4.tif\n",
        "\n",
        "channels = (2,4,6)\n",
        "\n",
        "# ==== Do not edit these parameters === #\n",
        "shrink_size = 25\n",
        "conf_thresh = 2\n",
        "H, W = 64, 64  # for the final distance plot\n",
        "img_size = 64\n",
        "z_max = 2.2\n",
        "step = 0.01\n",
        "pixel_size = 0.33\n",
        "N_calibration_imgs = 1500\n",
        "bootstrap_reps = 1\n",
        "# ===================================== #\n",
        "if (convert_cif_to_tif):\n",
        "    dirs = read_cif(data_path=data_path, channels=channels, image_size=img_size)\n",
        "else:\n",
        "    dirs = []\n",
        "    for filename in os.listdir(data_path):\n",
        "        if os.path.isdir(os.path.join(data_path, filename)):\n",
        "            dirs.append(os.path.join(data_path, filename))\n"
      ]
    },
    {
      "cell_type": "markdown",
      "metadata": {
        "id": "RgQiqhmLAduS"
      },
      "source": [
        "##Calibration"
      ]
    },
    {
      "cell_type": "code",
      "execution_count": null,
      "metadata": {
        "id": "bzeigU95AJbS",
        "colab": {
          "referenced_widgets": [
            "ff641b964d8f4339b18fadd37a34cc2a",
            "fe433967f575475eb07779e8efa44610",
            "b4c0ff72228d4397aa1088f999156108",
            "83e385aeef474c3bba89c511d4440d55",
            "f89b03a71ddb4dbcb157c11e2d1bf2f7",
            "63e3df3e9f2149e0ac62a2ecf9c9f69f",
            "7812dbf060f5445d8aef9773f8b0b306",
            "75b234904f464188a0d86a6253a4e73c",
            "39c554b2096747d7b149e8a11a6ed81f",
            "c868c38cb802425b9efe4bf92d140a2a",
            "a2bf11c45a5e4efa95f4bbc5e11ad6ae",
            "2e30db50db494f22b3089b734c71a52b",
            "ae42de721c0647078ce1ddab8163b593",
            "08cff00f31f143968b88b94f8beea15b",
            "c5af1e5f129249b6a63a4ac262e1382c",
            "770bb30804de4aa3a04f6f3c5bd90303",
            "e194c085052e4006a96d64ff88dc93b4",
            "e4ccaeca4b4540288d8ad5286fcac197",
            "a309e7c8393c4746a5b59a245b1a6f23",
            "f0fdd2e605b74662ab6ef2d9c35f06b0",
            "2c73fb4471e146c598f52df5e2e9c64f",
            "38eb0e2145c54d07a28e906ea2d1ed2b"
          ]
        },
        "outputId": "c82aa011-aca7-4f07-f3e8-855cada66e9c",
        "cellView": "form"
      },
      "outputs": [
        {
          "name": "stdout",
          "output_type": "stream",
          "text": [
            "-I- Creating calibration maps\n"
          ]
        },
        {
          "data": {
            "application/vnd.jupyter.widget-view+json": {
              "model_id": "ff641b964d8f4339b18fadd37a34cc2a",
              "version_major": 2,
              "version_minor": 0
            },
            "text/plain": [
              "  0%|          | 0/1500 [00:00<?, ?it/s]"
            ]
          },
          "metadata": {},
          "output_type": "display_data"
        },
        {
          "name": "stdout",
          "output_type": "stream",
          "text": [
            "1032 cells out of 1500 were analyzed for the calibration\n",
            "-I- Saving calibration as TIFF for channel 2\n"
          ]
        },
        {
          "data": {
            "application/vnd.jupyter.widget-view+json": {
              "model_id": "fe433967f575475eb07779e8efa44610",
              "version_major": 2,
              "version_minor": 0
            },
            "text/plain": [
              "  0%|          | 0/1500 [00:00<?, ?it/s]"
            ]
          },
          "metadata": {},
          "output_type": "display_data"
        },
        {
          "name": "stdout",
          "output_type": "stream",
          "text": [
            "846 cells out of 1500 were analyzed for the calibration\n",
            "-I- Saving calibration as TIFF for channel 4\n"
          ]
        },
        {
          "data": {
            "application/vnd.jupyter.widget-view+json": {
              "model_id": "b4c0ff72228d4397aa1088f999156108",
              "version_major": 2,
              "version_minor": 0
            },
            "text/plain": [
              "  0%|          | 0/1500 [00:00<?, ?it/s]"
            ]
          },
          "metadata": {},
          "output_type": "display_data"
        },
        {
          "name": "stdout",
          "output_type": "stream",
          "text": [
            "972 cells out of 1500 were analyzed for the calibration\n",
            "-I- Saving calibration as TIFF for channel 2\n"
          ]
        },
        {
          "data": {
            "application/vnd.jupyter.widget-view+json": {
              "model_id": "83e385aeef474c3bba89c511d4440d55",
              "version_major": 2,
              "version_minor": 0
            },
            "text/plain": [
              "  0%|          | 0/1500 [00:00<?, ?it/s]"
            ]
          },
          "metadata": {},
          "output_type": "display_data"
        },
        {
          "name": "stdout",
          "output_type": "stream",
          "text": [
            "821 cells out of 1500 were analyzed for the calibration\n",
            "-I- Saving calibration as TIFF for channel 4\n"
          ]
        },
        {
          "data": {
            "application/vnd.jupyter.widget-view+json": {
              "model_id": "f89b03a71ddb4dbcb157c11e2d1bf2f7",
              "version_major": 2,
              "version_minor": 0
            },
            "text/plain": [
              "  0%|          | 0/1500 [00:00<?, ?it/s]"
            ]
          },
          "metadata": {},
          "output_type": "display_data"
        },
        {
          "name": "stdout",
          "output_type": "stream",
          "text": [
            "989 cells out of 1500 were analyzed for the calibration\n",
            "-I- Saving calibration as TIFF for channel 2\n"
          ]
        },
        {
          "data": {
            "application/vnd.jupyter.widget-view+json": {
              "model_id": "63e3df3e9f2149e0ac62a2ecf9c9f69f",
              "version_major": 2,
              "version_minor": 0
            },
            "text/plain": [
              "  0%|          | 0/1500 [00:00<?, ?it/s]"
            ]
          },
          "metadata": {},
          "output_type": "display_data"
        },
        {
          "name": "stdout",
          "output_type": "stream",
          "text": [
            "786 cells out of 1500 were analyzed for the calibration\n",
            "-I- Saving calibration as TIFF for channel 4\n"
          ]
        },
        {
          "data": {
            "application/vnd.jupyter.widget-view+json": {
              "model_id": "7812dbf060f5445d8aef9773f8b0b306",
              "version_major": 2,
              "version_minor": 0
            },
            "text/plain": [
              "  0%|          | 0/1500 [00:00<?, ?it/s]"
            ]
          },
          "metadata": {},
          "output_type": "display_data"
        },
        {
          "name": "stdout",
          "output_type": "stream",
          "text": [
            "912 cells out of 1500 were analyzed for the calibration\n",
            "-I- Saving calibration as TIFF for channel 2\n"
          ]
        },
        {
          "data": {
            "application/vnd.jupyter.widget-view+json": {
              "model_id": "75b234904f464188a0d86a6253a4e73c",
              "version_major": 2,
              "version_minor": 0
            },
            "text/plain": [
              "  0%|          | 0/1500 [00:00<?, ?it/s]"
            ]
          },
          "metadata": {},
          "output_type": "display_data"
        },
        {
          "name": "stdout",
          "output_type": "stream",
          "text": [
            "777 cells out of 1500 were analyzed for the calibration\n",
            "-I- Saving calibration as TIFF for channel 4\n"
          ]
        },
        {
          "data": {
            "application/vnd.jupyter.widget-view+json": {
              "model_id": "39c554b2096747d7b149e8a11a6ed81f",
              "version_major": 2,
              "version_minor": 0
            },
            "text/plain": [
              "  0%|          | 0/1500 [00:00<?, ?it/s]"
            ]
          },
          "metadata": {},
          "output_type": "display_data"
        },
        {
          "name": "stdout",
          "output_type": "stream",
          "text": [
            "1020 cells out of 1500 were analyzed for the calibration\n",
            "-I- Saving calibration as TIFF for channel 2\n"
          ]
        },
        {
          "data": {
            "application/vnd.jupyter.widget-view+json": {
              "model_id": "c868c38cb802425b9efe4bf92d140a2a",
              "version_major": 2,
              "version_minor": 0
            },
            "text/plain": [
              "  0%|          | 0/1500 [00:00<?, ?it/s]"
            ]
          },
          "metadata": {},
          "output_type": "display_data"
        },
        {
          "name": "stdout",
          "output_type": "stream",
          "text": [
            "814 cells out of 1500 were analyzed for the calibration\n",
            "-I- Saving calibration as TIFF for channel 4\n"
          ]
        },
        {
          "data": {
            "application/vnd.jupyter.widget-view+json": {
              "model_id": "a2bf11c45a5e4efa95f4bbc5e11ad6ae",
              "version_major": 2,
              "version_minor": 0
            },
            "text/plain": [
              "  0%|          | 0/1500 [00:00<?, ?it/s]"
            ]
          },
          "metadata": {},
          "output_type": "display_data"
        },
        {
          "name": "stderr",
          "output_type": "stream",
          "text": [
            "<ipython-input-1-2bff12d31b97>:46: RuntimeWarning: divide by zero encountered in true_divide\n",
            "  return (im - comp_percentile_val) / percentile_val\n",
            "<ipython-input-1-2bff12d31b97>:46: RuntimeWarning: invalid value encountered in true_divide\n",
            "  return (im - comp_percentile_val) / percentile_val\n"
          ]
        },
        {
          "name": "stdout",
          "output_type": "stream",
          "text": [
            "991 cells out of 1500 were analyzed for the calibration\n",
            "-I- Saving calibration as TIFF for channel 2\n"
          ]
        },
        {
          "data": {
            "application/vnd.jupyter.widget-view+json": {
              "model_id": "2e30db50db494f22b3089b734c71a52b",
              "version_major": 2,
              "version_minor": 0
            },
            "text/plain": [
              "  0%|          | 0/1500 [00:00<?, ?it/s]"
            ]
          },
          "metadata": {},
          "output_type": "display_data"
        },
        {
          "name": "stdout",
          "output_type": "stream",
          "text": [
            "808 cells out of 1500 were analyzed for the calibration\n",
            "-I- Saving calibration as TIFF for channel 4\n"
          ]
        },
        {
          "data": {
            "application/vnd.jupyter.widget-view+json": {
              "model_id": "ae42de721c0647078ce1ddab8163b593",
              "version_major": 2,
              "version_minor": 0
            },
            "text/plain": [
              "  0%|          | 0/1500 [00:00<?, ?it/s]"
            ]
          },
          "metadata": {},
          "output_type": "display_data"
        },
        {
          "name": "stdout",
          "output_type": "stream",
          "text": [
            "939 cells out of 1500 were analyzed for the calibration\n",
            "-I- Saving calibration as TIFF for channel 2\n"
          ]
        },
        {
          "data": {
            "application/vnd.jupyter.widget-view+json": {
              "model_id": "08cff00f31f143968b88b94f8beea15b",
              "version_major": 2,
              "version_minor": 0
            },
            "text/plain": [
              "  0%|          | 0/1500 [00:00<?, ?it/s]"
            ]
          },
          "metadata": {},
          "output_type": "display_data"
        },
        {
          "name": "stdout",
          "output_type": "stream",
          "text": [
            "747 cells out of 1500 were analyzed for the calibration\n",
            "-I- Saving calibration as TIFF for channel 4\n"
          ]
        },
        {
          "data": {
            "application/vnd.jupyter.widget-view+json": {
              "model_id": "c5af1e5f129249b6a63a4ac262e1382c",
              "version_major": 2,
              "version_minor": 0
            },
            "text/plain": [
              "  0%|          | 0/1500 [00:00<?, ?it/s]"
            ]
          },
          "metadata": {},
          "output_type": "display_data"
        },
        {
          "name": "stdout",
          "output_type": "stream",
          "text": [
            "1044 cells out of 1500 were analyzed for the calibration\n",
            "-I- Saving calibration as TIFF for channel 2\n"
          ]
        },
        {
          "data": {
            "application/vnd.jupyter.widget-view+json": {
              "model_id": "770bb30804de4aa3a04f6f3c5bd90303",
              "version_major": 2,
              "version_minor": 0
            },
            "text/plain": [
              "  0%|          | 0/1500 [00:00<?, ?it/s]"
            ]
          },
          "metadata": {},
          "output_type": "display_data"
        },
        {
          "name": "stdout",
          "output_type": "stream",
          "text": [
            "829 cells out of 1500 were analyzed for the calibration\n",
            "-I- Saving calibration as TIFF for channel 4\n"
          ]
        },
        {
          "data": {
            "application/vnd.jupyter.widget-view+json": {
              "model_id": "e194c085052e4006a96d64ff88dc93b4",
              "version_major": 2,
              "version_minor": 0
            },
            "text/plain": [
              "  0%|          | 0/1500 [00:00<?, ?it/s]"
            ]
          },
          "metadata": {},
          "output_type": "display_data"
        },
        {
          "name": "stdout",
          "output_type": "stream",
          "text": [
            "956 cells out of 1500 were analyzed for the calibration\n",
            "-I- Saving calibration as TIFF for channel 2\n"
          ]
        },
        {
          "data": {
            "application/vnd.jupyter.widget-view+json": {
              "model_id": "e4ccaeca4b4540288d8ad5286fcac197",
              "version_major": 2,
              "version_minor": 0
            },
            "text/plain": [
              "  0%|          | 0/1500 [00:00<?, ?it/s]"
            ]
          },
          "metadata": {},
          "output_type": "display_data"
        },
        {
          "name": "stdout",
          "output_type": "stream",
          "text": [
            "748 cells out of 1500 were analyzed for the calibration\n",
            "-I- Saving calibration as TIFF for channel 4\n"
          ]
        },
        {
          "data": {
            "application/vnd.jupyter.widget-view+json": {
              "model_id": "a309e7c8393c4746a5b59a245b1a6f23",
              "version_major": 2,
              "version_minor": 0
            },
            "text/plain": [
              "  0%|          | 0/1500 [00:00<?, ?it/s]"
            ]
          },
          "metadata": {},
          "output_type": "display_data"
        },
        {
          "name": "stdout",
          "output_type": "stream",
          "text": [
            "1042 cells out of 1500 were analyzed for the calibration\n",
            "-I- Saving calibration as TIFF for channel 2\n"
          ]
        },
        {
          "data": {
            "application/vnd.jupyter.widget-view+json": {
              "model_id": "f0fdd2e605b74662ab6ef2d9c35f06b0",
              "version_major": 2,
              "version_minor": 0
            },
            "text/plain": [
              "  0%|          | 0/1500 [00:00<?, ?it/s]"
            ]
          },
          "metadata": {},
          "output_type": "display_data"
        },
        {
          "name": "stderr",
          "output_type": "stream",
          "text": [
            "<ipython-input-1-2bff12d31b97>:46: RuntimeWarning: divide by zero encountered in true_divide\n",
            "  return (im - comp_percentile_val) / percentile_val\n",
            "<ipython-input-1-2bff12d31b97>:46: RuntimeWarning: invalid value encountered in true_divide\n",
            "  return (im - comp_percentile_val) / percentile_val\n"
          ]
        },
        {
          "name": "stdout",
          "output_type": "stream",
          "text": [
            "855 cells out of 1500 were analyzed for the calibration\n",
            "-I- Saving calibration as TIFF for channel 4\n"
          ]
        },
        {
          "data": {
            "application/vnd.jupyter.widget-view+json": {
              "model_id": "2c73fb4471e146c598f52df5e2e9c64f",
              "version_major": 2,
              "version_minor": 0
            },
            "text/plain": [
              "  0%|          | 0/1500 [00:00<?, ?it/s]"
            ]
          },
          "metadata": {},
          "output_type": "display_data"
        },
        {
          "name": "stderr",
          "output_type": "stream",
          "text": [
            "<ipython-input-1-2bff12d31b97>:46: RuntimeWarning: divide by zero encountered in true_divide\n",
            "  return (im - comp_percentile_val) / percentile_val\n",
            "<ipython-input-1-2bff12d31b97>:46: RuntimeWarning: invalid value encountered in true_divide\n",
            "  return (im - comp_percentile_val) / percentile_val\n"
          ]
        },
        {
          "name": "stdout",
          "output_type": "stream",
          "text": [
            "989 cells out of 1500 were analyzed for the calibration\n",
            "-I- Saving calibration as TIFF for channel 2\n"
          ]
        },
        {
          "data": {
            "application/vnd.jupyter.widget-view+json": {
              "model_id": "38eb0e2145c54d07a28e906ea2d1ed2b",
              "version_major": 2,
              "version_minor": 0
            },
            "text/plain": [
              "  0%|          | 0/1500 [00:00<?, ?it/s]"
            ]
          },
          "metadata": {},
          "output_type": "display_data"
        },
        {
          "name": "stdout",
          "output_type": "stream",
          "text": [
            "789 cells out of 1500 were analyzed for the calibration\n",
            "-I- Saving calibration as TIFF for channel 4\n"
          ]
        }
      ],
      "source": [
        "#@markdown Run this cell to generate the calibration to all tiff files in the data_path\n",
        "print('-I- Creating calibration maps')\n",
        "if(detection_mode != \"2D\"):\n",
        "    for dir_path in dirs:\n",
        "        # ======= Calibration Step =======\n",
        "        if (calibrate_by_beads and \"BeadsOnly\" not in dir_path):\n",
        "            continue\n",
        "        for filename in os.listdir(dir_path):\n",
        "            if filename.endswith(\"ch2.tif\"):\n",
        "                file_ch2 = filename\n",
        "            if filename.endswith(\"ch4.tif\"):\n",
        "                file_ch4 = filename\n",
        "\n",
        "        if (create_calibration_maps):\n",
        "            if (detection_mode == 'beads' or calibrate_by_beads):\n",
        "                xy_pos_ch2, calib_ch2 = generate_calibration_by_beads_10_11_22(dir_path, file_ch2, channel=2,\n",
        "                                                                               SNR_th=SNR_thresh_ch2, L=N_calibration_imgs,\n",
        "                                                                               z_max=z_max, step=step,\n",
        "                                                                               conf_threshold=conf_thresh,\n",
        "                                                                               random_cells=random_cells,\n",
        "                                                                               verbose=verbose)\n",
        "                xy_pos_ch4, calib_ch4 = generate_calibration_by_beads_10_11_22(dir_path, file_ch4, channel=4,\n",
        "                                                                               SNR_th=SNR_thresh_ch4, L=N_calibration_imgs,\n",
        "                                                                               z_max=z_max, step=step,\n",
        "                                                                               conf_threshold=conf_thresh,\n",
        "                                                                               random_cells=random_cells,\n",
        "                                                                               verbose=verbose)\n",
        "            else:\n",
        "                xy_pos_ch2, calib_ch2 = generate_calibration(dir_path, file_ch2, file_ch2, SNR_th=SNR_thresh_ch2,\n",
        "                                                             L=N_calibration_imgs, z_max=z_max, step=step, channel=2,\n",
        "                                                             conf_threshold=conf_thresh, random_cells=random_cells,\n",
        "                                                             verbose=False)\n",
        "                xy_pos_ch4, calib_ch4 = generate_calibration(dir_path, file_ch4, file_ch2, SNR_th=SNR_thresh_ch4,\n",
        "                                                             L=N_calibration_imgs, z_max=z_max, step=step, channel=2,\n",
        "                                                             conf_threshold=conf_thresh, random_cells=random_cells,\n",
        "                                                             verbose=False)\n",
        "\n",
        "            if(calibrate_by_beads and not detection_mode == \"beads\"):\n",
        "                np.save(os.path.join(dir_path.replace(\"_BeadsOnly\", \"\"), 'xy_pos_ch2'), xy_pos_ch2)\n",
        "                np.save(os.path.join(dir_path.replace(\"_BeadsOnly\", \"\"), 'xy_pos_ch4'), xy_pos_ch4)\n",
        "                np.save(os.path.join(dir_path.replace(\"_BeadsOnly\", \"\"), 'calib_ch2'), calib_ch2)\n",
        "                np.save(os.path.join(dir_path.replace(\"_BeadsOnly\", \"\"), 'calib_ch4'), calib_ch4)\n",
        "            else:\n",
        "                np.save(os.path.join(dir_path, 'xy_pos_ch2'), xy_pos_ch2)\n",
        "                np.save(os.path.join(dir_path, 'xy_pos_ch4'), xy_pos_ch4)\n",
        "                np.save(os.path.join(dir_path, 'calib_ch2'), calib_ch2)\n",
        "                np.save(os.path.join(dir_path, 'calib_ch4'), calib_ch4)\n"
      ]
    },
    {
      "cell_type": "markdown",
      "metadata": {
        "id": "9xYPYHvbAiUZ"
      },
      "source": [
        "##Localization"
      ]
    },
    {
      "cell_type": "code",
      "execution_count": null,
      "metadata": {
        "id": "2WKetubUASt6",
        "colab": {
          "referenced_widgets": [
            "629cf6462c034aa7879c7d3397143def",
            "bf4d2056aea749a9921f169a953e3bc9",
            "33db64b0797b4ddc9fe3840fdcb5fcea",
            "823e6a73c7954cea975f52415e41538c",
            "2dbc74f206c64c0c9c041915a9ecc518",
            "bb2c6bbd65a448cab742fa543d45c829",
            "6b5c8745dbd74094a00606f0ade21199",
            "3eb624fce4af4fe388262d16783e7486",
            "8a205c947ebb4928b555b957fb43702b",
            "3e5a8a14cdae46719001b1927249693b",
            "ed6011ef020a41c49795d241f1e546f1",
            "cabe84d1e4c04bca83110f9aafb32317",
            "26e087c3092442a2aaafede48d022139",
            "284b3d0743ea49c49e65e1b65cc18a83",
            "dabecac7b39e4538b9c52d721593ffc6",
            "10af75fce8a94175a84e83635f0966a2",
            "1d758e50b5484609aa7685c29ab540ae",
            "f1215368589b4eedbc1b24960c774345",
            "70ec7feb42704f5dad4d65c88a428249",
            "18318312120e45b39ae1c26c66a002fb",
            "60eb4c0c61a9483c8718f9ae6d106982",
            "1b3d111b7c6e4763a18e464b86639447",
            "96d06ac204ec4c15992dea5e380904d6",
            "56cb510e789c4321935b502a16c8eb3b",
            "4cbbf0a7fe9344939d85b00c441ad1f8",
            "d6dbce67eaeb4f08b7ad659404a1a0dc",
            "25f7815483f840918df58a51a4cfaae7",
            "994dea2b565944689821d755460508a5",
            "57564eea71a943f9b834aeba2c2a6f2b",
            "360384284ad940a486cfd716a460276b",
            "c941be6b588349b4abc98f045ea0e353",
            "6d336bdfd79d4474bd11d2236497b6ca",
            "2f5ed6417e134a439e5c6ccb04e16a09",
            "d85e6f5042e04c3494184725f4e43d7c",
            "6d95a79a5f7e4e32b8991f77828e0ea9",
            "8afa665e1dd0481c919bbba621818871",
            "ab7a3a16ca83426487bb7488f204522c",
            "c31cbeef8e1c4eb2995325f606513a69",
            "9a0221f0c90e4b82a5f4ea5cf6b77957",
            "f30b2c3bc2634929983a9e974ef32365",
            "b698dbcbc6ec499a9833eb710837a02e",
            "fee5f920758347ff824125db5654e779",
            "e45b07d8d509470381976594b35b8a4e",
            "41bb9926694c41ef96ca88a34226baaa"
          ]
        },
        "outputId": "c1729e9b-7e84-4d1f-99c4-33d00e58cede",
        "cellView": "form"
      },
      "outputs": [
        {
          "name": "stdout",
          "output_type": "stream",
          "text": [
            "-I- Starting data analysis\n",
            "====================================================================================================\n",
            "Working on  pYS0099inYS0013C6UnInd_0min_11_ch2.tif\n",
            "====================================================================================================\n"
          ]
        },
        {
          "data": {
            "application/vnd.jupyter.widget-view+json": {
              "model_id": "629cf6462c034aa7879c7d3397143def",
              "version_major": 2,
              "version_minor": 0
            },
            "text/plain": [
              "  0%|          | 0/22383 [00:00<?, ?it/s]"
            ]
          },
          "metadata": {},
          "output_type": "display_data"
        },
        {
          "name": "stderr",
          "output_type": "stream",
          "text": [
            "<ipython-input-1-2bff12d31b97>:729: RuntimeWarning: divide by zero encountered in true_divide\n",
            "  exp_term = -((x - pred_params_list[emitter][8]) ** 2) / (2 * xy_pos[i, 0] ** 2) - \\\n",
            "<ipython-input-1-2bff12d31b97>:730: RuntimeWarning: divide by zero encountered in true_divide\n",
            "  ((y - pred_params_list[emitter][9]) ** 2) / (2 * xy_pos[i, 1] ** 2)\n",
            "<ipython-input-1-2bff12d31b97>:731: RuntimeWarning: divide by zero encountered in double_scalars\n",
            "  curr_psf = (1 / (2 * np.pi * xy_pos[i, 0] * xy_pos[i, 1]) * np.exp(exp_term)).reshape([img_size, img_size])\n",
            "<ipython-input-1-2bff12d31b97>:731: RuntimeWarning: invalid value encountered in multiply\n",
            "  curr_psf = (1 / (2 * np.pi * xy_pos[i, 0] * xy_pos[i, 1]) * np.exp(exp_term)).reshape([img_size, img_size])\n"
          ]
        },
        {
          "name": "stdout",
          "output_type": "stream",
          "text": [
            "Exception while reading tiff stack\n",
            "====================================================================================================\n",
            "Working on  pYS0099inYS0013C6UnInd_0min_11_ch4.tif\n",
            "====================================================================================================\n"
          ]
        },
        {
          "data": {
            "application/vnd.jupyter.widget-view+json": {
              "model_id": "bf4d2056aea749a9921f169a953e3bc9",
              "version_major": 2,
              "version_minor": 0
            },
            "text/plain": [
              "  0%|          | 0/22383 [00:00<?, ?it/s]"
            ]
          },
          "metadata": {},
          "output_type": "display_data"
        },
        {
          "name": "stdout",
          "output_type": "stream",
          "text": [
            "Exception while reading tiff stack\n",
            "====================================================================================================\n",
            "Working on  pYS0099inYS0013C6UnInd_0min_11_BeadsOnly_ch2.tif\n",
            "====================================================================================================\n"
          ]
        },
        {
          "data": {
            "application/vnd.jupyter.widget-view+json": {
              "model_id": "33db64b0797b4ddc9fe3840fdcb5fcea",
              "version_major": 2,
              "version_minor": 0
            },
            "text/plain": [
              "  0%|          | 0/25101 [00:00<?, ?it/s]"
            ]
          },
          "metadata": {},
          "output_type": "display_data"
        },
        {
          "name": "stderr",
          "output_type": "stream",
          "text": [
            "<ipython-input-1-2bff12d31b97>:698: RuntimeWarning: divide by zero encountered in true_divide\n",
            "  exp_term = -((x - pred_params_list[emitter][2]) ** 2) / (2 * xy_pos[i, 0] ** 2) - \\\n",
            "<ipython-input-1-2bff12d31b97>:699: RuntimeWarning: divide by zero encountered in true_divide\n",
            "  ((y - pred_params_list[emitter][3]) ** 2) / (2 * xy_pos[i, 1] ** 2)\n",
            "<ipython-input-1-2bff12d31b97>:700: RuntimeWarning: divide by zero encountered in double_scalars\n",
            "  curr_psf = (1 / (2 * np.pi * xy_pos[i, 0] * xy_pos[i, 1]) * np.exp(exp_term)).reshape([img_size, img_size])\n",
            "<ipython-input-1-2bff12d31b97>:700: RuntimeWarning: invalid value encountered in multiply\n",
            "  curr_psf = (1 / (2 * np.pi * xy_pos[i, 0] * xy_pos[i, 1]) * np.exp(exp_term)).reshape([img_size, img_size])\n"
          ]
        },
        {
          "name": "stdout",
          "output_type": "stream",
          "text": [
            "Exception while reading tiff stack\n",
            "====================================================================================================\n",
            "Working on  pYS0099inYS0013C6UnInd_0min_11_BeadsOnly_ch4.tif\n",
            "====================================================================================================\n"
          ]
        },
        {
          "data": {
            "application/vnd.jupyter.widget-view+json": {
              "model_id": "823e6a73c7954cea975f52415e41538c",
              "version_major": 2,
              "version_minor": 0
            },
            "text/plain": [
              "  0%|          | 0/25101 [00:00<?, ?it/s]"
            ]
          },
          "metadata": {},
          "output_type": "display_data"
        },
        {
          "name": "stdout",
          "output_type": "stream",
          "text": [
            "Exception while reading tiff stack\n",
            "====================================================================================================\n",
            "Working on  pYS0099inYS0013C6UnInd_100min_23_ch2.tif\n",
            "====================================================================================================\n"
          ]
        },
        {
          "data": {
            "application/vnd.jupyter.widget-view+json": {
              "model_id": "2dbc74f206c64c0c9c041915a9ecc518",
              "version_major": 2,
              "version_minor": 0
            },
            "text/plain": [
              "  0%|          | 0/20101 [00:00<?, ?it/s]"
            ]
          },
          "metadata": {},
          "output_type": "display_data"
        },
        {
          "name": "stdout",
          "output_type": "stream",
          "text": [
            "Exception while reading tiff stack\n",
            "====================================================================================================\n",
            "Working on  pYS0099inYS0013C6UnInd_100min_23_ch4.tif\n",
            "====================================================================================================\n"
          ]
        },
        {
          "data": {
            "application/vnd.jupyter.widget-view+json": {
              "model_id": "bb2c6bbd65a448cab742fa543d45c829",
              "version_major": 2,
              "version_minor": 0
            },
            "text/plain": [
              "  0%|          | 0/20101 [00:00<?, ?it/s]"
            ]
          },
          "metadata": {},
          "output_type": "display_data"
        },
        {
          "name": "stdout",
          "output_type": "stream",
          "text": [
            "Exception while reading tiff stack\n",
            "====================================================================================================\n",
            "Working on  pYS0099inYS0013C6UnInd_100min_23_BeadsOnly_ch2.tif\n",
            "====================================================================================================\n"
          ]
        },
        {
          "data": {
            "application/vnd.jupyter.widget-view+json": {
              "model_id": "6b5c8745dbd74094a00606f0ade21199",
              "version_major": 2,
              "version_minor": 0
            },
            "text/plain": [
              "  0%|          | 0/4957 [00:00<?, ?it/s]"
            ]
          },
          "metadata": {},
          "output_type": "display_data"
        },
        {
          "name": "stdout",
          "output_type": "stream",
          "text": [
            "Exception while reading tiff stack\n",
            "====================================================================================================\n",
            "Working on  pYS0099inYS0013C6UnInd_100min_23_BeadsOnly_ch4.tif\n",
            "====================================================================================================\n"
          ]
        },
        {
          "data": {
            "application/vnd.jupyter.widget-view+json": {
              "model_id": "3eb624fce4af4fe388262d16783e7486",
              "version_major": 2,
              "version_minor": 0
            },
            "text/plain": [
              "  0%|          | 0/4957 [00:00<?, ?it/s]"
            ]
          },
          "metadata": {},
          "output_type": "display_data"
        },
        {
          "name": "stdout",
          "output_type": "stream",
          "text": [
            "Exception while reading tiff stack\n",
            "====================================================================================================\n",
            "Working on  pYS0099inYS0013C6UnInd_130min_27_ch2.tif\n",
            "====================================================================================================\n"
          ]
        },
        {
          "data": {
            "application/vnd.jupyter.widget-view+json": {
              "model_id": "8a205c947ebb4928b555b957fb43702b",
              "version_major": 2,
              "version_minor": 0
            },
            "text/plain": [
              "  0%|          | 0/23154 [00:00<?, ?it/s]"
            ]
          },
          "metadata": {},
          "output_type": "display_data"
        },
        {
          "name": "stdout",
          "output_type": "stream",
          "text": [
            "Exception while reading tiff stack\n",
            "====================================================================================================\n",
            "Working on  pYS0099inYS0013C6UnInd_130min_27_ch4.tif\n",
            "====================================================================================================\n"
          ]
        },
        {
          "data": {
            "application/vnd.jupyter.widget-view+json": {
              "model_id": "3e5a8a14cdae46719001b1927249693b",
              "version_major": 2,
              "version_minor": 0
            },
            "text/plain": [
              "  0%|          | 0/23154 [00:00<?, ?it/s]"
            ]
          },
          "metadata": {},
          "output_type": "display_data"
        },
        {
          "name": "stdout",
          "output_type": "stream",
          "text": [
            "Exception while reading tiff stack\n",
            "====================================================================================================\n",
            "Working on  pYS0099inYS0013C6UnInd_130min_27_BeadsOnly_ch2.tif\n",
            "====================================================================================================\n"
          ]
        },
        {
          "data": {
            "application/vnd.jupyter.widget-view+json": {
              "model_id": "ed6011ef020a41c49795d241f1e546f1",
              "version_major": 2,
              "version_minor": 0
            },
            "text/plain": [
              "  0%|          | 0/7790 [00:00<?, ?it/s]"
            ]
          },
          "metadata": {},
          "output_type": "display_data"
        },
        {
          "name": "stdout",
          "output_type": "stream",
          "text": [
            "Exception while reading tiff stack\n",
            "====================================================================================================\n",
            "Working on  pYS0099inYS0013C6UnInd_130min_27_BeadsOnly_ch4.tif\n",
            "====================================================================================================\n"
          ]
        },
        {
          "data": {
            "application/vnd.jupyter.widget-view+json": {
              "model_id": "cabe84d1e4c04bca83110f9aafb32317",
              "version_major": 2,
              "version_minor": 0
            },
            "text/plain": [
              "  0%|          | 0/7790 [00:00<?, ?it/s]"
            ]
          },
          "metadata": {},
          "output_type": "display_data"
        },
        {
          "name": "stdout",
          "output_type": "stream",
          "text": [
            "Exception while reading tiff stack\n",
            "====================================================================================================\n",
            "Working on  pYS0099inYS0013C6UnInd_150min_31_ch2.tif\n",
            "====================================================================================================\n"
          ]
        },
        {
          "data": {
            "application/vnd.jupyter.widget-view+json": {
              "model_id": "26e087c3092442a2aaafede48d022139",
              "version_major": 2,
              "version_minor": 0
            },
            "text/plain": [
              "  0%|          | 0/30161 [00:00<?, ?it/s]"
            ]
          },
          "metadata": {},
          "output_type": "display_data"
        },
        {
          "name": "stdout",
          "output_type": "stream",
          "text": [
            "Exception while reading tiff stack\n",
            "====================================================================================================\n",
            "Working on  pYS0099inYS0013C6UnInd_150min_31_ch4.tif\n",
            "====================================================================================================\n"
          ]
        },
        {
          "data": {
            "application/vnd.jupyter.widget-view+json": {
              "model_id": "284b3d0743ea49c49e65e1b65cc18a83",
              "version_major": 2,
              "version_minor": 0
            },
            "text/plain": [
              "  0%|          | 0/30161 [00:00<?, ?it/s]"
            ]
          },
          "metadata": {},
          "output_type": "display_data"
        },
        {
          "name": "stdout",
          "output_type": "stream",
          "text": [
            "Exception while reading tiff stack\n",
            "====================================================================================================\n",
            "Working on  pYS0099inYS0013C6UnInd_150min_31_BeadsOnly_ch2.tif\n",
            "====================================================================================================\n"
          ]
        },
        {
          "data": {
            "application/vnd.jupyter.widget-view+json": {
              "model_id": "dabecac7b39e4538b9c52d721593ffc6",
              "version_major": 2,
              "version_minor": 0
            },
            "text/plain": [
              "  0%|          | 0/6584 [00:00<?, ?it/s]"
            ]
          },
          "metadata": {},
          "output_type": "display_data"
        },
        {
          "name": "stdout",
          "output_type": "stream",
          "text": [
            "Exception while reading tiff stack\n",
            "====================================================================================================\n",
            "Working on  pYS0099inYS0013C6UnInd_150min_31_BeadsOnly_ch4.tif\n",
            "====================================================================================================\n"
          ]
        },
        {
          "data": {
            "application/vnd.jupyter.widget-view+json": {
              "model_id": "10af75fce8a94175a84e83635f0966a2",
              "version_major": 2,
              "version_minor": 0
            },
            "text/plain": [
              "  0%|          | 0/6584 [00:00<?, ?it/s]"
            ]
          },
          "metadata": {},
          "output_type": "display_data"
        },
        {
          "name": "stdout",
          "output_type": "stream",
          "text": [
            "Exception while reading tiff stack\n",
            "====================================================================================================\n",
            "Working on  pYS0099inYS0013C6UnInd_180min_35_ch2.tif\n",
            "====================================================================================================\n"
          ]
        },
        {
          "data": {
            "application/vnd.jupyter.widget-view+json": {
              "model_id": "1d758e50b5484609aa7685c29ab540ae",
              "version_major": 2,
              "version_minor": 0
            },
            "text/plain": [
              "  0%|          | 0/21893 [00:00<?, ?it/s]"
            ]
          },
          "metadata": {},
          "output_type": "display_data"
        },
        {
          "name": "stdout",
          "output_type": "stream",
          "text": [
            "Exception while reading tiff stack\n",
            "====================================================================================================\n",
            "Working on  pYS0099inYS0013C6UnInd_180min_35_ch4.tif\n",
            "====================================================================================================\n"
          ]
        },
        {
          "data": {
            "application/vnd.jupyter.widget-view+json": {
              "model_id": "f1215368589b4eedbc1b24960c774345",
              "version_major": 2,
              "version_minor": 0
            },
            "text/plain": [
              "  0%|          | 0/21893 [00:00<?, ?it/s]"
            ]
          },
          "metadata": {},
          "output_type": "display_data"
        },
        {
          "name": "stdout",
          "output_type": "stream",
          "text": [
            "Exception while reading tiff stack\n",
            "====================================================================================================\n",
            "Working on  pYS0099inYS0013C6UnInd_180min_35_BeadsOnly_ch2.tif\n",
            "====================================================================================================\n"
          ]
        },
        {
          "data": {
            "application/vnd.jupyter.widget-view+json": {
              "model_id": "70ec7feb42704f5dad4d65c88a428249",
              "version_major": 2,
              "version_minor": 0
            },
            "text/plain": [
              "  0%|          | 0/4096 [00:00<?, ?it/s]"
            ]
          },
          "metadata": {},
          "output_type": "display_data"
        },
        {
          "name": "stdout",
          "output_type": "stream",
          "text": [
            "Exception while reading tiff stack\n",
            "====================================================================================================\n",
            "Working on  pYS0099inYS0013C6UnInd_180min_35_BeadsOnly_ch4.tif\n",
            "====================================================================================================\n"
          ]
        },
        {
          "data": {
            "application/vnd.jupyter.widget-view+json": {
              "model_id": "18318312120e45b39ae1c26c66a002fb",
              "version_major": 2,
              "version_minor": 0
            },
            "text/plain": [
              "  0%|          | 0/4096 [00:00<?, ?it/s]"
            ]
          },
          "metadata": {},
          "output_type": "display_data"
        },
        {
          "name": "stdout",
          "output_type": "stream",
          "text": [
            "Exception while reading tiff stack\n",
            "====================================================================================================\n",
            "Working on  pYS0099inYS0013C6UnInd_210min_39_ch2.tif\n",
            "====================================================================================================\n"
          ]
        },
        {
          "data": {
            "application/vnd.jupyter.widget-view+json": {
              "model_id": "60eb4c0c61a9483c8718f9ae6d106982",
              "version_major": 2,
              "version_minor": 0
            },
            "text/plain": [
              "  0%|          | 0/22107 [00:00<?, ?it/s]"
            ]
          },
          "metadata": {},
          "output_type": "display_data"
        },
        {
          "name": "stdout",
          "output_type": "stream",
          "text": [
            "Exception while reading tiff stack\n",
            "====================================================================================================\n",
            "Working on  pYS0099inYS0013C6UnInd_210min_39_ch4.tif\n",
            "====================================================================================================\n"
          ]
        },
        {
          "data": {
            "application/vnd.jupyter.widget-view+json": {
              "model_id": "1b3d111b7c6e4763a18e464b86639447",
              "version_major": 2,
              "version_minor": 0
            },
            "text/plain": [
              "  0%|          | 0/22107 [00:00<?, ?it/s]"
            ]
          },
          "metadata": {},
          "output_type": "display_data"
        },
        {
          "name": "stdout",
          "output_type": "stream",
          "text": [
            "Exception while reading tiff stack\n",
            "====================================================================================================\n",
            "Working on  pYS0099inYS0013C6UnInd_210min_39_BeadsOnly_ch2.tif\n",
            "====================================================================================================\n"
          ]
        },
        {
          "data": {
            "application/vnd.jupyter.widget-view+json": {
              "model_id": "96d06ac204ec4c15992dea5e380904d6",
              "version_major": 2,
              "version_minor": 0
            },
            "text/plain": [
              "  0%|          | 0/9750 [00:00<?, ?it/s]"
            ]
          },
          "metadata": {},
          "output_type": "display_data"
        },
        {
          "name": "stdout",
          "output_type": "stream",
          "text": [
            "Exception while reading tiff stack\n",
            "====================================================================================================\n",
            "Working on  pYS0099inYS0013C6UnInd_210min_39_BeadsOnly_ch4.tif\n",
            "====================================================================================================\n"
          ]
        },
        {
          "data": {
            "application/vnd.jupyter.widget-view+json": {
              "model_id": "56cb510e789c4321935b502a16c8eb3b",
              "version_major": 2,
              "version_minor": 0
            },
            "text/plain": [
              "  0%|          | 0/9750 [00:00<?, ?it/s]"
            ]
          },
          "metadata": {},
          "output_type": "display_data"
        },
        {
          "name": "stdout",
          "output_type": "stream",
          "text": [
            "Exception while reading tiff stack\n",
            "====================================================================================================\n",
            "Working on  pYS0099inYS0013C6UnInd_240min_43_ch2.tif\n",
            "====================================================================================================\n"
          ]
        },
        {
          "data": {
            "application/vnd.jupyter.widget-view+json": {
              "model_id": "4cbbf0a7fe9344939d85b00c441ad1f8",
              "version_major": 2,
              "version_minor": 0
            },
            "text/plain": [
              "  0%|          | 0/18604 [00:00<?, ?it/s]"
            ]
          },
          "metadata": {},
          "output_type": "display_data"
        },
        {
          "name": "stdout",
          "output_type": "stream",
          "text": [
            "Exception while reading tiff stack\n",
            "====================================================================================================\n",
            "Working on  pYS0099inYS0013C6UnInd_240min_43_ch4.tif\n",
            "====================================================================================================\n"
          ]
        },
        {
          "data": {
            "application/vnd.jupyter.widget-view+json": {
              "model_id": "d6dbce67eaeb4f08b7ad659404a1a0dc",
              "version_major": 2,
              "version_minor": 0
            },
            "text/plain": [
              "  0%|          | 0/18604 [00:00<?, ?it/s]"
            ]
          },
          "metadata": {},
          "output_type": "display_data"
        },
        {
          "name": "stdout",
          "output_type": "stream",
          "text": [
            "Exception while reading tiff stack\n",
            "====================================================================================================\n",
            "Working on  pYS0099inYS0013C6UnInd_240min_43_BeadsOnly_ch2.tif\n",
            "====================================================================================================\n"
          ]
        },
        {
          "data": {
            "application/vnd.jupyter.widget-view+json": {
              "model_id": "25f7815483f840918df58a51a4cfaae7",
              "version_major": 2,
              "version_minor": 0
            },
            "text/plain": [
              "  0%|          | 0/5392 [00:00<?, ?it/s]"
            ]
          },
          "metadata": {},
          "output_type": "display_data"
        },
        {
          "name": "stdout",
          "output_type": "stream",
          "text": [
            "Exception while reading tiff stack\n",
            "====================================================================================================\n",
            "Working on  pYS0099inYS0013C6UnInd_240min_43_BeadsOnly_ch4.tif\n",
            "====================================================================================================\n"
          ]
        },
        {
          "data": {
            "application/vnd.jupyter.widget-view+json": {
              "model_id": "994dea2b565944689821d755460508a5",
              "version_major": 2,
              "version_minor": 0
            },
            "text/plain": [
              "  0%|          | 0/5392 [00:00<?, ?it/s]"
            ]
          },
          "metadata": {},
          "output_type": "display_data"
        },
        {
          "name": "stdout",
          "output_type": "stream",
          "text": [
            "Exception while reading tiff stack\n",
            "====================================================================================================\n",
            "Working on  pYS0099inYS0013C6UnInd_300min_47_ch2.tif\n",
            "====================================================================================================\n"
          ]
        },
        {
          "data": {
            "application/vnd.jupyter.widget-view+json": {
              "model_id": "57564eea71a943f9b834aeba2c2a6f2b",
              "version_major": 2,
              "version_minor": 0
            },
            "text/plain": [
              "  0%|          | 0/24260 [00:00<?, ?it/s]"
            ]
          },
          "metadata": {},
          "output_type": "display_data"
        },
        {
          "name": "stdout",
          "output_type": "stream",
          "text": [
            "Exception while reading tiff stack\n",
            "====================================================================================================\n",
            "Working on  pYS0099inYS0013C6UnInd_300min_47_ch4.tif\n",
            "====================================================================================================\n"
          ]
        },
        {
          "data": {
            "application/vnd.jupyter.widget-view+json": {
              "model_id": "360384284ad940a486cfd716a460276b",
              "version_major": 2,
              "version_minor": 0
            },
            "text/plain": [
              "  0%|          | 0/24260 [00:00<?, ?it/s]"
            ]
          },
          "metadata": {},
          "output_type": "display_data"
        },
        {
          "name": "stdout",
          "output_type": "stream",
          "text": [
            "Exception while reading tiff stack\n",
            "====================================================================================================\n",
            "Working on  pYS0099inYS0013C6UnInd_300min_47_BeadsOnly_ch2.tif\n",
            "====================================================================================================\n"
          ]
        },
        {
          "data": {
            "application/vnd.jupyter.widget-view+json": {
              "model_id": "c941be6b588349b4abc98f045ea0e353",
              "version_major": 2,
              "version_minor": 0
            },
            "text/plain": [
              "  0%|          | 0/7003 [00:00<?, ?it/s]"
            ]
          },
          "metadata": {},
          "output_type": "display_data"
        },
        {
          "name": "stdout",
          "output_type": "stream",
          "text": [
            "Exception while reading tiff stack\n",
            "====================================================================================================\n",
            "Working on  pYS0099inYS0013C6UnInd_300min_47_BeadsOnly_ch4.tif\n",
            "====================================================================================================\n"
          ]
        },
        {
          "data": {
            "application/vnd.jupyter.widget-view+json": {
              "model_id": "6d336bdfd79d4474bd11d2236497b6ca",
              "version_major": 2,
              "version_minor": 0
            },
            "text/plain": [
              "  0%|          | 0/7003 [00:00<?, ?it/s]"
            ]
          },
          "metadata": {},
          "output_type": "display_data"
        },
        {
          "name": "stdout",
          "output_type": "stream",
          "text": [
            "Exception while reading tiff stack\n",
            "====================================================================================================\n",
            "Working on  pYS0099inYS0013C6UnInd_30min_15_ch2.tif\n",
            "====================================================================================================\n"
          ]
        },
        {
          "data": {
            "application/vnd.jupyter.widget-view+json": {
              "model_id": "2f5ed6417e134a439e5c6ccb04e16a09",
              "version_major": 2,
              "version_minor": 0
            },
            "text/plain": [
              "  0%|          | 0/20538 [00:00<?, ?it/s]"
            ]
          },
          "metadata": {},
          "output_type": "display_data"
        },
        {
          "name": "stdout",
          "output_type": "stream",
          "text": [
            "Exception while reading tiff stack\n",
            "====================================================================================================\n",
            "Working on  pYS0099inYS0013C6UnInd_30min_15_ch4.tif\n",
            "====================================================================================================\n"
          ]
        },
        {
          "data": {
            "application/vnd.jupyter.widget-view+json": {
              "model_id": "d85e6f5042e04c3494184725f4e43d7c",
              "version_major": 2,
              "version_minor": 0
            },
            "text/plain": [
              "  0%|          | 0/20538 [00:00<?, ?it/s]"
            ]
          },
          "metadata": {},
          "output_type": "display_data"
        },
        {
          "name": "stdout",
          "output_type": "stream",
          "text": [
            "Exception while reading tiff stack\n",
            "====================================================================================================\n",
            "Working on  pYS0099inYS0013C6UnInd_30min_15_BeadsOnly_ch2.tif\n",
            "====================================================================================================\n"
          ]
        },
        {
          "data": {
            "application/vnd.jupyter.widget-view+json": {
              "model_id": "6d95a79a5f7e4e32b8991f77828e0ea9",
              "version_major": 2,
              "version_minor": 0
            },
            "text/plain": [
              "  0%|          | 0/20118 [00:00<?, ?it/s]"
            ]
          },
          "metadata": {},
          "output_type": "display_data"
        },
        {
          "name": "stdout",
          "output_type": "stream",
          "text": [
            "Exception while reading tiff stack\n",
            "====================================================================================================\n",
            "Working on  pYS0099inYS0013C6UnInd_30min_15_BeadsOnly_ch4.tif\n",
            "====================================================================================================\n"
          ]
        },
        {
          "data": {
            "application/vnd.jupyter.widget-view+json": {
              "model_id": "8afa665e1dd0481c919bbba621818871",
              "version_major": 2,
              "version_minor": 0
            },
            "text/plain": [
              "  0%|          | 0/20118 [00:00<?, ?it/s]"
            ]
          },
          "metadata": {},
          "output_type": "display_data"
        },
        {
          "name": "stdout",
          "output_type": "stream",
          "text": [
            "Exception while reading tiff stack\n",
            "====================================================================================================\n",
            "Working on  pYS0099inYS0013C6UnInd_360min_51_ch2.tif\n",
            "====================================================================================================\n"
          ]
        },
        {
          "data": {
            "application/vnd.jupyter.widget-view+json": {
              "model_id": "ab7a3a16ca83426487bb7488f204522c",
              "version_major": 2,
              "version_minor": 0
            },
            "text/plain": [
              "  0%|          | 0/24608 [00:00<?, ?it/s]"
            ]
          },
          "metadata": {},
          "output_type": "display_data"
        },
        {
          "name": "stdout",
          "output_type": "stream",
          "text": [
            "Exception while reading tiff stack\n",
            "====================================================================================================\n",
            "Working on  pYS0099inYS0013C6UnInd_360min_51_ch4.tif\n",
            "====================================================================================================\n"
          ]
        },
        {
          "data": {
            "application/vnd.jupyter.widget-view+json": {
              "model_id": "c31cbeef8e1c4eb2995325f606513a69",
              "version_major": 2,
              "version_minor": 0
            },
            "text/plain": [
              "  0%|          | 0/24608 [00:00<?, ?it/s]"
            ]
          },
          "metadata": {},
          "output_type": "display_data"
        },
        {
          "name": "stdout",
          "output_type": "stream",
          "text": [
            "Exception while reading tiff stack\n",
            "====================================================================================================\n",
            "Working on  pYS0099inYS0013C6UnInd_360min_51_BeadsOnly_ch2.tif\n",
            "====================================================================================================\n"
          ]
        },
        {
          "data": {
            "application/vnd.jupyter.widget-view+json": {
              "model_id": "9a0221f0c90e4b82a5f4ea5cf6b77957",
              "version_major": 2,
              "version_minor": 0
            },
            "text/plain": [
              "  0%|          | 0/3473 [00:00<?, ?it/s]"
            ]
          },
          "metadata": {},
          "output_type": "display_data"
        },
        {
          "name": "stdout",
          "output_type": "stream",
          "text": [
            "Exception while reading tiff stack\n",
            "====================================================================================================\n",
            "Working on  pYS0099inYS0013C6UnInd_360min_51_BeadsOnly_ch4.tif\n",
            "====================================================================================================\n"
          ]
        },
        {
          "data": {
            "application/vnd.jupyter.widget-view+json": {
              "model_id": "f30b2c3bc2634929983a9e974ef32365",
              "version_major": 2,
              "version_minor": 0
            },
            "text/plain": [
              "  0%|          | 0/3473 [00:00<?, ?it/s]"
            ]
          },
          "metadata": {},
          "output_type": "display_data"
        },
        {
          "name": "stdout",
          "output_type": "stream",
          "text": [
            "Exception while reading tiff stack\n",
            "====================================================================================================\n",
            "Working on  pYS0099inYS0013C6UnInd_60min_19_ch2.tif\n",
            "====================================================================================================\n"
          ]
        },
        {
          "data": {
            "application/vnd.jupyter.widget-view+json": {
              "model_id": "b698dbcbc6ec499a9833eb710837a02e",
              "version_major": 2,
              "version_minor": 0
            },
            "text/plain": [
              "  0%|          | 0/22168 [00:00<?, ?it/s]"
            ]
          },
          "metadata": {},
          "output_type": "display_data"
        },
        {
          "name": "stdout",
          "output_type": "stream",
          "text": [
            "Exception while reading tiff stack\n",
            "====================================================================================================\n",
            "Working on  pYS0099inYS0013C6UnInd_60min_19_ch4.tif\n",
            "====================================================================================================\n"
          ]
        },
        {
          "data": {
            "application/vnd.jupyter.widget-view+json": {
              "model_id": "fee5f920758347ff824125db5654e779",
              "version_major": 2,
              "version_minor": 0
            },
            "text/plain": [
              "  0%|          | 0/22168 [00:00<?, ?it/s]"
            ]
          },
          "metadata": {},
          "output_type": "display_data"
        },
        {
          "name": "stdout",
          "output_type": "stream",
          "text": [
            "Exception while reading tiff stack\n",
            "====================================================================================================\n",
            "Working on  pYS0099inYS0013C6UnInd_60min_19_BeadsOnly_ch2.tif\n",
            "====================================================================================================\n"
          ]
        },
        {
          "data": {
            "application/vnd.jupyter.widget-view+json": {
              "model_id": "e45b07d8d509470381976594b35b8a4e",
              "version_major": 2,
              "version_minor": 0
            },
            "text/plain": [
              "  0%|          | 0/9274 [00:00<?, ?it/s]"
            ]
          },
          "metadata": {},
          "output_type": "display_data"
        },
        {
          "name": "stdout",
          "output_type": "stream",
          "text": [
            "Exception while reading tiff stack\n",
            "====================================================================================================\n",
            "Working on  pYS0099inYS0013C6UnInd_60min_19_BeadsOnly_ch4.tif\n",
            "====================================================================================================\n"
          ]
        },
        {
          "data": {
            "application/vnd.jupyter.widget-view+json": {
              "model_id": "41bb9926694c41ef96ca88a34226baaa",
              "version_major": 2,
              "version_minor": 0
            },
            "text/plain": [
              "  0%|          | 0/9274 [00:00<?, ?it/s]"
            ]
          },
          "metadata": {},
          "output_type": "display_data"
        },
        {
          "name": "stdout",
          "output_type": "stream",
          "text": [
            "Exception while reading tiff stack\n",
            "-I- Spots localization completed\n"
          ]
        }
      ],
      "source": [
        "#@markdown Run this cell to perform loci/ beads localization\n",
        "Localize = True\n",
        "if Localize:\n",
        "    print('-I- Starting data analysis')\n",
        "    for dir_path in dirs:\n",
        "        if (not analyze_beads_and_cells and \"BeadsOnly\" in dir_path):\n",
        "            continue\n",
        "        for filename in os.listdir(dir_path):\n",
        "            if filename.endswith(\"ch2.tif\"):\n",
        "                print('='*100)\n",
        "                print(\"Working on \", filename)\n",
        "                print('='*100)\n",
        "\n",
        "                # Load calibration\n",
        "                if(detection_mode == \"2D\"):\n",
        "                    calib_ch2 = None\n",
        "                    xy_pos_ch2 = None\n",
        "                else:\n",
        "                    if(calibrate_by_beads and \"BeadsOnly\" in dir_path):\n",
        "                        calib_ch2 = np.load(os.path.join(dir_path.replace(\"_BeadsOnly\", \"\"), 'calib_ch2.npy'))\n",
        "                        xy_pos_ch2 = np.load(os.path.join(dir_path.replace(\"_BeadsOnly\", \"\"), 'xy_pos_ch2.npy'))\n",
        "                    else:\n",
        "                        calib_ch2 = np.load(os.path.join(dir_path, 'calib_ch2.npy'))\n",
        "                        xy_pos_ch2 = np.load(os.path.join(dir_path, 'xy_pos_ch2.npy'))\n",
        "\n",
        "                if(analyze_beads_and_cells and \"BeadsOnly\" in dir_path):\n",
        "                    detection_mode = \"beads\"\n",
        "                else:\n",
        "                    if(not detection_mode == \"2D\"):\n",
        "                        detection_mode = \"3D\"\n",
        "                tiff = Image.open(os.path.join(dir_path, filename))\n",
        "                total_num_imgs = tiff.n_frames\n",
        "                N_cell_imgs = total_num_imgs // bootstrap_reps\n",
        "                for bs_i in range(bootstrap_reps):\n",
        "                    shift_coord_list, analyzed_list = loci_detection_bootstrap(dir_path, filename, num_of_imgs=N_cell_imgs,\n",
        "                                                                               conf_threshold=conf_thresh,\n",
        "                                                                               SNR_thresh=SNR_thresh_ch2,\n",
        "                                                                               shrink_size=shrink_size, xy_pos=xy_pos_ch2,\n",
        "                                                                               calib=calib_ch2, detection_mode=detection_mode,\n",
        "                                                                               channel=2, shift_coord_list=None,\n",
        "                                                                               analyzed_list=None,\n",
        "                                                                               bootstrap_ind=bs_i, verbose=verbose)\n",
        "                    np.save(os.path.join(dir_path, 'analyzed_list_{}'.format(bs_i)), analyzed_list)\n",
        "                    np.save(os.path.join(dir_path, 'shift_coord_{}'.format(bs_i)), shift_coord_list)\n",
        "\n",
        "            if filename.endswith(\"ch4.tif\"):\n",
        "                print('='*100)\n",
        "                print(\"Working on \", filename)\n",
        "                print('='*100)\n",
        "\n",
        "                # Load calibration\n",
        "                if(detection_mode == \"2D\"):\n",
        "                    xy_pos_ch4 = None\n",
        "                    calib_ch4 = None\n",
        "                else:\n",
        "                    if(calibrate_by_beads and \"BeadsOnly\" in dir_path):\n",
        "                        calib_ch4 = np.load(os.path.join(dir_path.replace(\"_BeadsOnly\", \"\"), 'calib_ch4.npy'))\n",
        "                        xy_pos_ch4 = np.load(os.path.join(dir_path.replace(\"_BeadsOnly\", \"\"), 'xy_pos_ch4.npy'))\n",
        "                    else:\n",
        "                        xy_pos_ch4 = np.load(os.path.join(dir_path, 'xy_pos_ch4.npy'))\n",
        "                        calib_ch4 = np.load(os.path.join(dir_path, 'calib_ch4.npy'))\n",
        "\n",
        "                    if(analyze_beads_and_cells and \"BeadsOnly\" in dir_path):\n",
        "                        detection_mode = \"beads\"\n",
        "                    else:\n",
        "                        if (not detection_mode == \"2D\"):\n",
        "                            detection_mode = \"3D\"\n",
        "\n",
        "                for bs_i in range(bootstrap_reps):\n",
        "                    analyzed_list = np.load(os.path.join(dir_path, 'analyzed_list_{}.npy'.format(bs_i)))\n",
        "                    shift_coord_list = np.load(os.path.join(dir_path, 'shift_coord_{}.npy'.format(bs_i)))\n",
        "                    _, _ = loci_detection_bootstrap(dir_path, filename, num_of_imgs=N_cell_imgs,\n",
        "                                                    conf_threshold=conf_thresh, SNR_thresh=SNR_thresh_ch4,\n",
        "                                                    shrink_size=shrink_size, xy_pos=xy_pos_ch4, calib=calib_ch4,\n",
        "                                                    detection_mode=detection_mode, channel=4,\n",
        "                                                    shift_coord_list=shift_coord_list, analyzed_list=analyzed_list,\n",
        "                                                    bootstrap_ind=bs_i, verbose=verbose)\n",
        "\n",
        "print('-I- Spots localization completed')"
      ]
    },
    {
      "cell_type": "markdown",
      "metadata": {
        "id": "8W69STxdAlBF"
      },
      "source": [
        "##Plot"
      ]
    },
    {
      "cell_type": "code",
      "execution_count": null,
      "metadata": {
        "id": "Yrcgf-KDANCB",
        "outputId": "041da611-d6fb-43ee-da99-bd57acd430f8",
        "cellView": "form"
      },
      "outputs": [
        {
          "name": "stderr",
          "output_type": "stream",
          "text": [
            "C:\\Users\\shalev-ezra\\Anaconda3\\lib\\site-packages\\numpy\\core\\fromnumeric.py:3419: RuntimeWarning: Mean of empty slice.\n",
            "  return _methods._mean(a, axis=axis, dtype=dtype,\n",
            "C:\\Users\\shalev-ezra\\Anaconda3\\lib\\site-packages\\numpy\\core\\_methods.py:188: RuntimeWarning: invalid value encountered in double_scalars\n",
            "  ret = ret.dtype.type(ret / rcount)\n",
            "C:\\Users\\shalev-ezra\\Anaconda3\\lib\\site-packages\\numpy\\core\\_methods.py:261: RuntimeWarning: Degrees of freedom <= 0 for slice\n",
            "  ret = _var(a, axis=axis, dtype=dtype, out=out, ddof=ddof,\n",
            "C:\\Users\\shalev-ezra\\Anaconda3\\lib\\site-packages\\numpy\\core\\_methods.py:221: RuntimeWarning: invalid value encountered in true_divide\n",
            "  arrmean = um.true_divide(arrmean, div, out=arrmean, casting='unsafe',\n",
            "C:\\Users\\shalev-ezra\\Anaconda3\\lib\\site-packages\\numpy\\core\\_methods.py:253: RuntimeWarning: invalid value encountered in double_scalars\n",
            "  ret = ret.dtype.type(ret / rcount)\n"
          ]
        },
        {
          "name": "stdout",
          "output_type": "stream",
          "text": [
            "Analayzed 1083.00 out of 2144.00 cells - 50.51 %\n",
            "-I- Generating fix curve based on position in FOV vs distance\n"
          ]
        },
        {
          "name": "stderr",
          "output_type": "stream",
          "text": [
            "C:\\Users\\shalev-ezra\\Anaconda3\\lib\\site-packages\\numpy\\core\\fromnumeric.py:3419: RuntimeWarning: Mean of empty slice.\n",
            "  return _methods._mean(a, axis=axis, dtype=dtype,\n",
            "C:\\Users\\shalev-ezra\\Anaconda3\\lib\\site-packages\\numpy\\core\\_methods.py:188: RuntimeWarning: invalid value encountered in double_scalars\n",
            "  ret = ret.dtype.type(ret / rcount)\n",
            "C:\\Users\\shalev-ezra\\Anaconda3\\lib\\site-packages\\numpy\\core\\_methods.py:261: RuntimeWarning: Degrees of freedom <= 0 for slice\n",
            "  ret = _var(a, axis=axis, dtype=dtype, out=out, ddof=ddof,\n",
            "C:\\Users\\shalev-ezra\\Anaconda3\\lib\\site-packages\\numpy\\core\\_methods.py:221: RuntimeWarning: invalid value encountered in true_divide\n",
            "  arrmean = um.true_divide(arrmean, div, out=arrmean, casting='unsafe',\n",
            "C:\\Users\\shalev-ezra\\Anaconda3\\lib\\site-packages\\numpy\\core\\_methods.py:253: RuntimeWarning: invalid value encountered in double_scalars\n",
            "  ret = ret.dtype.type(ret / rcount)\n"
          ]
        },
        {
          "name": "stdout",
          "output_type": "stream",
          "text": [
            "Analayzed 4536.00 out of 11548.00 cells - 39.28 %\n",
            "-I- Generating fix curve based on position in FOV vs distance\n"
          ]
        },
        {
          "name": "stderr",
          "output_type": "stream",
          "text": [
            "C:\\Users\\shalev-ezra\\Anaconda3\\lib\\site-packages\\numpy\\core\\fromnumeric.py:3419: RuntimeWarning: Mean of empty slice.\n",
            "  return _methods._mean(a, axis=axis, dtype=dtype,\n",
            "C:\\Users\\shalev-ezra\\Anaconda3\\lib\\site-packages\\numpy\\core\\_methods.py:188: RuntimeWarning: invalid value encountered in double_scalars\n",
            "  ret = ret.dtype.type(ret / rcount)\n",
            "C:\\Users\\shalev-ezra\\Anaconda3\\lib\\site-packages\\numpy\\core\\_methods.py:261: RuntimeWarning: Degrees of freedom <= 0 for slice\n",
            "  ret = _var(a, axis=axis, dtype=dtype, out=out, ddof=ddof,\n",
            "C:\\Users\\shalev-ezra\\Anaconda3\\lib\\site-packages\\numpy\\core\\_methods.py:221: RuntimeWarning: invalid value encountered in true_divide\n",
            "  arrmean = um.true_divide(arrmean, div, out=arrmean, casting='unsafe',\n",
            "C:\\Users\\shalev-ezra\\Anaconda3\\lib\\site-packages\\numpy\\core\\_methods.py:253: RuntimeWarning: invalid value encountered in double_scalars\n",
            "  ret = ret.dtype.type(ret / rcount)\n"
          ]
        },
        {
          "name": "stdout",
          "output_type": "stream",
          "text": [
            "Analayzed 878.00 out of 1725.00 cells - 50.90 %\n",
            "-I- Generating fix curve based on position in FOV vs distance\n"
          ]
        },
        {
          "name": "stderr",
          "output_type": "stream",
          "text": [
            "C:\\Users\\shalev-ezra\\Anaconda3\\lib\\site-packages\\numpy\\core\\fromnumeric.py:3419: RuntimeWarning: Mean of empty slice.\n",
            "  return _methods._mean(a, axis=axis, dtype=dtype,\n",
            "C:\\Users\\shalev-ezra\\Anaconda3\\lib\\site-packages\\numpy\\core\\_methods.py:188: RuntimeWarning: invalid value encountered in double_scalars\n",
            "  ret = ret.dtype.type(ret / rcount)\n",
            "C:\\Users\\shalev-ezra\\Anaconda3\\lib\\site-packages\\numpy\\core\\_methods.py:261: RuntimeWarning: Degrees of freedom <= 0 for slice\n",
            "  ret = _var(a, axis=axis, dtype=dtype, out=out, ddof=ddof,\n",
            "C:\\Users\\shalev-ezra\\Anaconda3\\lib\\site-packages\\numpy\\core\\_methods.py:221: RuntimeWarning: invalid value encountered in true_divide\n",
            "  arrmean = um.true_divide(arrmean, div, out=arrmean, casting='unsafe',\n",
            "C:\\Users\\shalev-ezra\\Anaconda3\\lib\\site-packages\\numpy\\core\\_methods.py:253: RuntimeWarning: invalid value encountered in double_scalars\n",
            "  ret = ret.dtype.type(ret / rcount)\n"
          ]
        },
        {
          "name": "stdout",
          "output_type": "stream",
          "text": [
            "Analayzed 828.00 out of 2132.00 cells - 38.84 %\n",
            "-I- Generating fix curve based on position in FOV vs distance\n"
          ]
        },
        {
          "name": "stderr",
          "output_type": "stream",
          "text": [
            "C:\\Users\\shalev-ezra\\Anaconda3\\lib\\site-packages\\numpy\\core\\fromnumeric.py:3419: RuntimeWarning: Mean of empty slice.\n",
            "  return _methods._mean(a, axis=axis, dtype=dtype,\n",
            "C:\\Users\\shalev-ezra\\Anaconda3\\lib\\site-packages\\numpy\\core\\_methods.py:188: RuntimeWarning: invalid value encountered in double_scalars\n",
            "  ret = ret.dtype.type(ret / rcount)\n",
            "C:\\Users\\shalev-ezra\\Anaconda3\\lib\\site-packages\\numpy\\core\\_methods.py:261: RuntimeWarning: Degrees of freedom <= 0 for slice\n",
            "  ret = _var(a, axis=axis, dtype=dtype, out=out, ddof=ddof,\n",
            "C:\\Users\\shalev-ezra\\Anaconda3\\lib\\site-packages\\numpy\\core\\_methods.py:221: RuntimeWarning: invalid value encountered in true_divide\n",
            "  arrmean = um.true_divide(arrmean, div, out=arrmean, casting='unsafe',\n",
            "C:\\Users\\shalev-ezra\\Anaconda3\\lib\\site-packages\\numpy\\core\\_methods.py:253: RuntimeWarning: invalid value encountered in double_scalars\n",
            "  ret = ret.dtype.type(ret / rcount)\n"
          ]
        },
        {
          "name": "stdout",
          "output_type": "stream",
          "text": [
            "Analayzed 781.00 out of 1667.00 cells - 46.85 %\n",
            "-I- Generating fix curve based on position in FOV vs distance\n"
          ]
        },
        {
          "name": "stderr",
          "output_type": "stream",
          "text": [
            "C:\\Users\\shalev-ezra\\Anaconda3\\lib\\site-packages\\numpy\\core\\fromnumeric.py:3419: RuntimeWarning: Mean of empty slice.\n",
            "  return _methods._mean(a, axis=axis, dtype=dtype,\n",
            "C:\\Users\\shalev-ezra\\Anaconda3\\lib\\site-packages\\numpy\\core\\_methods.py:188: RuntimeWarning: invalid value encountered in double_scalars\n",
            "  ret = ret.dtype.type(ret / rcount)\n",
            "C:\\Users\\shalev-ezra\\Anaconda3\\lib\\site-packages\\numpy\\core\\_methods.py:261: RuntimeWarning: Degrees of freedom <= 0 for slice\n",
            "  ret = _var(a, axis=axis, dtype=dtype, out=out, ddof=ddof,\n",
            "C:\\Users\\shalev-ezra\\Anaconda3\\lib\\site-packages\\numpy\\core\\_methods.py:221: RuntimeWarning: invalid value encountered in true_divide\n",
            "  arrmean = um.true_divide(arrmean, div, out=arrmean, casting='unsafe',\n",
            "C:\\Users\\shalev-ezra\\Anaconda3\\lib\\site-packages\\numpy\\core\\_methods.py:253: RuntimeWarning: invalid value encountered in double_scalars\n",
            "  ret = ret.dtype.type(ret / rcount)\n"
          ]
        },
        {
          "name": "stdout",
          "output_type": "stream",
          "text": [
            "Analayzed 1275.00 out of 3190.00 cells - 39.97 %\n",
            "-I- Generating fix curve based on position in FOV vs distance\n"
          ]
        },
        {
          "name": "stderr",
          "output_type": "stream",
          "text": [
            "C:\\Users\\shalev-ezra\\Anaconda3\\lib\\site-packages\\numpy\\core\\fromnumeric.py:3419: RuntimeWarning: Mean of empty slice.\n",
            "  return _methods._mean(a, axis=axis, dtype=dtype,\n",
            "C:\\Users\\shalev-ezra\\Anaconda3\\lib\\site-packages\\numpy\\core\\_methods.py:188: RuntimeWarning: invalid value encountered in double_scalars\n",
            "  ret = ret.dtype.type(ret / rcount)\n",
            "C:\\Users\\shalev-ezra\\Anaconda3\\lib\\site-packages\\numpy\\core\\_methods.py:261: RuntimeWarning: Degrees of freedom <= 0 for slice\n",
            "  ret = _var(a, axis=axis, dtype=dtype, out=out, ddof=ddof,\n",
            "C:\\Users\\shalev-ezra\\Anaconda3\\lib\\site-packages\\numpy\\core\\_methods.py:221: RuntimeWarning: invalid value encountered in true_divide\n",
            "  arrmean = um.true_divide(arrmean, div, out=arrmean, casting='unsafe',\n",
            "C:\\Users\\shalev-ezra\\Anaconda3\\lib\\site-packages\\numpy\\core\\_methods.py:253: RuntimeWarning: invalid value encountered in double_scalars\n",
            "  ret = ret.dtype.type(ret / rcount)\n"
          ]
        },
        {
          "name": "stdout",
          "output_type": "stream",
          "text": [
            "Analayzed 999.00 out of 2053.00 cells - 48.66 %\n",
            "-I- Generating fix curve based on position in FOV vs distance\n"
          ]
        },
        {
          "name": "stderr",
          "output_type": "stream",
          "text": [
            "C:\\Users\\shalev-ezra\\Anaconda3\\lib\\site-packages\\numpy\\core\\fromnumeric.py:3419: RuntimeWarning: Mean of empty slice.\n",
            "  return _methods._mean(a, axis=axis, dtype=dtype,\n",
            "C:\\Users\\shalev-ezra\\Anaconda3\\lib\\site-packages\\numpy\\core\\_methods.py:188: RuntimeWarning: invalid value encountered in double_scalars\n",
            "  ret = ret.dtype.type(ret / rcount)\n",
            "C:\\Users\\shalev-ezra\\Anaconda3\\lib\\site-packages\\numpy\\core\\_methods.py:261: RuntimeWarning: Degrees of freedom <= 0 for slice\n",
            "  ret = _var(a, axis=axis, dtype=dtype, out=out, ddof=ddof,\n",
            "C:\\Users\\shalev-ezra\\Anaconda3\\lib\\site-packages\\numpy\\core\\_methods.py:221: RuntimeWarning: invalid value encountered in true_divide\n",
            "  arrmean = um.true_divide(arrmean, div, out=arrmean, casting='unsafe',\n",
            "C:\\Users\\shalev-ezra\\Anaconda3\\lib\\site-packages\\numpy\\core\\_methods.py:253: RuntimeWarning: invalid value encountered in double_scalars\n",
            "  ret = ret.dtype.type(ret / rcount)\n"
          ]
        },
        {
          "name": "stdout",
          "output_type": "stream",
          "text": [
            "Analayzed 1085.00 out of 2554.00 cells - 42.48 %\n",
            "-I- Generating fix curve based on position in FOV vs distance\n"
          ]
        },
        {
          "name": "stderr",
          "output_type": "stream",
          "text": [
            "C:\\Users\\shalev-ezra\\Anaconda3\\lib\\site-packages\\numpy\\core\\fromnumeric.py:3419: RuntimeWarning: Mean of empty slice.\n",
            "  return _methods._mean(a, axis=axis, dtype=dtype,\n",
            "C:\\Users\\shalev-ezra\\Anaconda3\\lib\\site-packages\\numpy\\core\\_methods.py:188: RuntimeWarning: invalid value encountered in double_scalars\n",
            "  ret = ret.dtype.type(ret / rcount)\n",
            "C:\\Users\\shalev-ezra\\Anaconda3\\lib\\site-packages\\numpy\\core\\_methods.py:261: RuntimeWarning: Degrees of freedom <= 0 for slice\n",
            "  ret = _var(a, axis=axis, dtype=dtype, out=out, ddof=ddof,\n",
            "C:\\Users\\shalev-ezra\\Anaconda3\\lib\\site-packages\\numpy\\core\\_methods.py:221: RuntimeWarning: invalid value encountered in true_divide\n",
            "  arrmean = um.true_divide(arrmean, div, out=arrmean, casting='unsafe',\n",
            "C:\\Users\\shalev-ezra\\Anaconda3\\lib\\site-packages\\numpy\\core\\_methods.py:253: RuntimeWarning: invalid value encountered in double_scalars\n",
            "  ret = ret.dtype.type(ret / rcount)\n"
          ]
        },
        {
          "name": "stdout",
          "output_type": "stream",
          "text": [
            "Analayzed 621.00 out of 1318.00 cells - 47.12 %\n",
            "-I- Generating fix curve based on position in FOV vs distance\n"
          ]
        },
        {
          "name": "stderr",
          "output_type": "stream",
          "text": [
            "C:\\Users\\shalev-ezra\\Anaconda3\\lib\\site-packages\\numpy\\core\\fromnumeric.py:3419: RuntimeWarning: Mean of empty slice.\n",
            "  return _methods._mean(a, axis=axis, dtype=dtype,\n",
            "C:\\Users\\shalev-ezra\\Anaconda3\\lib\\site-packages\\numpy\\core\\_methods.py:188: RuntimeWarning: invalid value encountered in double_scalars\n",
            "  ret = ret.dtype.type(ret / rcount)\n",
            "C:\\Users\\shalev-ezra\\Anaconda3\\lib\\site-packages\\numpy\\core\\_methods.py:261: RuntimeWarning: Degrees of freedom <= 0 for slice\n",
            "  ret = _var(a, axis=axis, dtype=dtype, out=out, ddof=ddof,\n",
            "C:\\Users\\shalev-ezra\\Anaconda3\\lib\\site-packages\\numpy\\core\\_methods.py:221: RuntimeWarning: invalid value encountered in true_divide\n",
            "  arrmean = um.true_divide(arrmean, div, out=arrmean, casting='unsafe',\n",
            "C:\\Users\\shalev-ezra\\Anaconda3\\lib\\site-packages\\numpy\\core\\_methods.py:253: RuntimeWarning: invalid value encountered in double_scalars\n",
            "  ret = ret.dtype.type(ret / rcount)\n"
          ]
        },
        {
          "name": "stdout",
          "output_type": "stream",
          "text": [
            "Analayzed 793.00 out of 1968.00 cells - 40.29 %\n",
            "-I- Generating fix curve based on position in FOV vs distance\n"
          ]
        },
        {
          "name": "stderr",
          "output_type": "stream",
          "text": [
            "C:\\Users\\shalev-ezra\\Anaconda3\\lib\\site-packages\\numpy\\core\\fromnumeric.py:3419: RuntimeWarning: Mean of empty slice.\n",
            "  return _methods._mean(a, axis=axis, dtype=dtype,\n",
            "C:\\Users\\shalev-ezra\\Anaconda3\\lib\\site-packages\\numpy\\core\\_methods.py:188: RuntimeWarning: invalid value encountered in double_scalars\n",
            "  ret = ret.dtype.type(ret / rcount)\n",
            "C:\\Users\\shalev-ezra\\Anaconda3\\lib\\site-packages\\numpy\\core\\_methods.py:261: RuntimeWarning: Degrees of freedom <= 0 for slice\n",
            "  ret = _var(a, axis=axis, dtype=dtype, out=out, ddof=ddof,\n",
            "C:\\Users\\shalev-ezra\\Anaconda3\\lib\\site-packages\\numpy\\core\\_methods.py:221: RuntimeWarning: invalid value encountered in true_divide\n",
            "  arrmean = um.true_divide(arrmean, div, out=arrmean, casting='unsafe',\n",
            "C:\\Users\\shalev-ezra\\Anaconda3\\lib\\site-packages\\numpy\\core\\_methods.py:253: RuntimeWarning: invalid value encountered in double_scalars\n",
            "  ret = ret.dtype.type(ret / rcount)\n"
          ]
        },
        {
          "name": "stdout",
          "output_type": "stream",
          "text": [
            "Analayzed 607.00 out of 1219.00 cells - 49.79 %\n",
            "-I- Generating fix curve based on position in FOV vs distance\n"
          ]
        },
        {
          "name": "stderr",
          "output_type": "stream",
          "text": [
            "C:\\Users\\shalev-ezra\\Anaconda3\\lib\\site-packages\\numpy\\core\\fromnumeric.py:3419: RuntimeWarning: Mean of empty slice.\n",
            "  return _methods._mean(a, axis=axis, dtype=dtype,\n",
            "C:\\Users\\shalev-ezra\\Anaconda3\\lib\\site-packages\\numpy\\core\\_methods.py:188: RuntimeWarning: invalid value encountered in double_scalars\n",
            "  ret = ret.dtype.type(ret / rcount)\n",
            "C:\\Users\\shalev-ezra\\Anaconda3\\lib\\site-packages\\numpy\\core\\_methods.py:261: RuntimeWarning: Degrees of freedom <= 0 for slice\n",
            "  ret = _var(a, axis=axis, dtype=dtype, out=out, ddof=ddof,\n",
            "C:\\Users\\shalev-ezra\\Anaconda3\\lib\\site-packages\\numpy\\core\\_methods.py:221: RuntimeWarning: invalid value encountered in true_divide\n",
            "  arrmean = um.true_divide(arrmean, div, out=arrmean, casting='unsafe',\n",
            "C:\\Users\\shalev-ezra\\Anaconda3\\lib\\site-packages\\numpy\\core\\_methods.py:253: RuntimeWarning: invalid value encountered in double_scalars\n",
            "  ret = ret.dtype.type(ret / rcount)\n"
          ]
        },
        {
          "name": "stdout",
          "output_type": "stream",
          "text": [
            "Analayzed 1720.00 out of 4436.00 cells - 38.77 %\n",
            "-I- Generating fix curve based on position in FOV vs distance\n"
          ]
        },
        {
          "name": "stderr",
          "output_type": "stream",
          "text": [
            "C:\\Users\\shalev-ezra\\Anaconda3\\lib\\site-packages\\numpy\\core\\fromnumeric.py:3419: RuntimeWarning: Mean of empty slice.\n",
            "  return _methods._mean(a, axis=axis, dtype=dtype,\n",
            "C:\\Users\\shalev-ezra\\Anaconda3\\lib\\site-packages\\numpy\\core\\_methods.py:188: RuntimeWarning: invalid value encountered in double_scalars\n",
            "  ret = ret.dtype.type(ret / rcount)\n",
            "C:\\Users\\shalev-ezra\\Anaconda3\\lib\\site-packages\\numpy\\core\\_methods.py:261: RuntimeWarning: Degrees of freedom <= 0 for slice\n",
            "  ret = _var(a, axis=axis, dtype=dtype, out=out, ddof=ddof,\n",
            "C:\\Users\\shalev-ezra\\Anaconda3\\lib\\site-packages\\numpy\\core\\_methods.py:221: RuntimeWarning: invalid value encountered in true_divide\n",
            "  arrmean = um.true_divide(arrmean, div, out=arrmean, casting='unsafe',\n",
            "C:\\Users\\shalev-ezra\\Anaconda3\\lib\\site-packages\\numpy\\core\\_methods.py:253: RuntimeWarning: invalid value encountered in double_scalars\n",
            "  ret = ret.dtype.type(ret / rcount)\n"
          ]
        },
        {
          "name": "stdout",
          "output_type": "stream",
          "text": [
            "Analayzed 483.00 out of 842.00 cells - 57.36 %\n",
            "-I- Generating fix curve based on position in FOV vs distance\n"
          ]
        },
        {
          "name": "stderr",
          "output_type": "stream",
          "text": [
            "C:\\Users\\shalev-ezra\\Anaconda3\\lib\\site-packages\\numpy\\core\\fromnumeric.py:3419: RuntimeWarning: Mean of empty slice.\n",
            "  return _methods._mean(a, axis=axis, dtype=dtype,\n",
            "C:\\Users\\shalev-ezra\\Anaconda3\\lib\\site-packages\\numpy\\core\\_methods.py:188: RuntimeWarning: invalid value encountered in double_scalars\n",
            "  ret = ret.dtype.type(ret / rcount)\n",
            "C:\\Users\\shalev-ezra\\Anaconda3\\lib\\site-packages\\numpy\\core\\_methods.py:261: RuntimeWarning: Degrees of freedom <= 0 for slice\n",
            "  ret = _var(a, axis=axis, dtype=dtype, out=out, ddof=ddof,\n",
            "C:\\Users\\shalev-ezra\\Anaconda3\\lib\\site-packages\\numpy\\core\\_methods.py:221: RuntimeWarning: invalid value encountered in true_divide\n",
            "  arrmean = um.true_divide(arrmean, div, out=arrmean, casting='unsafe',\n",
            "C:\\Users\\shalev-ezra\\Anaconda3\\lib\\site-packages\\numpy\\core\\_methods.py:253: RuntimeWarning: invalid value encountered in double_scalars\n",
            "  ret = ret.dtype.type(ret / rcount)\n"
          ]
        },
        {
          "name": "stdout",
          "output_type": "stream",
          "text": [
            "Analayzed 1115.00 out of 2696.00 cells - 41.36 %\n",
            "-I- Generating fix curve based on position in FOV vs distance\n"
          ]
        },
        {
          "name": "stderr",
          "output_type": "stream",
          "text": [
            "C:\\Users\\shalev-ezra\\Anaconda3\\lib\\site-packages\\numpy\\core\\fromnumeric.py:3419: RuntimeWarning: Mean of empty slice.\n",
            "  return _methods._mean(a, axis=axis, dtype=dtype,\n",
            "C:\\Users\\shalev-ezra\\Anaconda3\\lib\\site-packages\\numpy\\core\\_methods.py:188: RuntimeWarning: invalid value encountered in double_scalars\n",
            "  ret = ret.dtype.type(ret / rcount)\n",
            "C:\\Users\\shalev-ezra\\Anaconda3\\lib\\site-packages\\numpy\\core\\_methods.py:261: RuntimeWarning: Degrees of freedom <= 0 for slice\n",
            "  ret = _var(a, axis=axis, dtype=dtype, out=out, ddof=ddof,\n",
            "C:\\Users\\shalev-ezra\\Anaconda3\\lib\\site-packages\\numpy\\core\\_methods.py:221: RuntimeWarning: invalid value encountered in true_divide\n",
            "  arrmean = um.true_divide(arrmean, div, out=arrmean, casting='unsafe',\n",
            "C:\\Users\\shalev-ezra\\Anaconda3\\lib\\site-packages\\numpy\\core\\_methods.py:253: RuntimeWarning: invalid value encountered in double_scalars\n",
            "  ret = ret.dtype.type(ret / rcount)\n"
          ]
        },
        {
          "name": "stdout",
          "output_type": "stream",
          "text": [
            "Analayzed 909.00 out of 1752.00 cells - 51.88 %\n",
            "-I- Generating fix curve based on position in FOV vs distance\n"
          ]
        },
        {
          "name": "stderr",
          "output_type": "stream",
          "text": [
            "C:\\Users\\shalev-ezra\\Anaconda3\\lib\\site-packages\\numpy\\core\\fromnumeric.py:3419: RuntimeWarning: Mean of empty slice.\n",
            "  return _methods._mean(a, axis=axis, dtype=dtype,\n",
            "C:\\Users\\shalev-ezra\\Anaconda3\\lib\\site-packages\\numpy\\core\\_methods.py:188: RuntimeWarning: invalid value encountered in double_scalars\n",
            "  ret = ret.dtype.type(ret / rcount)\n",
            "C:\\Users\\shalev-ezra\\Anaconda3\\lib\\site-packages\\numpy\\core\\_methods.py:261: RuntimeWarning: Degrees of freedom <= 0 for slice\n",
            "  ret = _var(a, axis=axis, dtype=dtype, out=out, ddof=ddof,\n",
            "C:\\Users\\shalev-ezra\\Anaconda3\\lib\\site-packages\\numpy\\core\\_methods.py:221: RuntimeWarning: invalid value encountered in true_divide\n",
            "  arrmean = um.true_divide(arrmean, div, out=arrmean, casting='unsafe',\n",
            "C:\\Users\\shalev-ezra\\Anaconda3\\lib\\site-packages\\numpy\\core\\_methods.py:253: RuntimeWarning: invalid value encountered in double_scalars\n",
            "  ret = ret.dtype.type(ret / rcount)\n"
          ]
        },
        {
          "name": "stdout",
          "output_type": "stream",
          "text": [
            "Analayzed 1334.00 out of 3340.00 cells - 39.94 %\n",
            "-I- Generating fix curve based on position in FOV vs distance\n"
          ]
        },
        {
          "name": "stderr",
          "output_type": "stream",
          "text": [
            "C:\\Users\\shalev-ezra\\Anaconda3\\lib\\site-packages\\numpy\\core\\fromnumeric.py:3419: RuntimeWarning: Mean of empty slice.\n",
            "  return _methods._mean(a, axis=axis, dtype=dtype,\n",
            "C:\\Users\\shalev-ezra\\Anaconda3\\lib\\site-packages\\numpy\\core\\_methods.py:188: RuntimeWarning: invalid value encountered in double_scalars\n",
            "  ret = ret.dtype.type(ret / rcount)\n",
            "C:\\Users\\shalev-ezra\\Anaconda3\\lib\\site-packages\\numpy\\core\\_methods.py:261: RuntimeWarning: Degrees of freedom <= 0 for slice\n",
            "  ret = _var(a, axis=axis, dtype=dtype, out=out, ddof=ddof,\n",
            "C:\\Users\\shalev-ezra\\Anaconda3\\lib\\site-packages\\numpy\\core\\_methods.py:221: RuntimeWarning: invalid value encountered in true_divide\n",
            "  arrmean = um.true_divide(arrmean, div, out=arrmean, casting='unsafe',\n",
            "C:\\Users\\shalev-ezra\\Anaconda3\\lib\\site-packages\\numpy\\core\\_methods.py:253: RuntimeWarning: invalid value encountered in double_scalars\n",
            "  ret = ret.dtype.type(ret / rcount)\n"
          ]
        },
        {
          "name": "stdout",
          "output_type": "stream",
          "text": [
            "Analayzed 994.00 out of 1929.00 cells - 51.53 %\n",
            "-I- Generating fix curve based on position in FOV vs distance\n"
          ]
        },
        {
          "name": "stderr",
          "output_type": "stream",
          "text": [
            "C:\\Users\\shalev-ezra\\Anaconda3\\lib\\site-packages\\numpy\\core\\fromnumeric.py:3419: RuntimeWarning: Mean of empty slice.\n",
            "  return _methods._mean(a, axis=axis, dtype=dtype,\n",
            "C:\\Users\\shalev-ezra\\Anaconda3\\lib\\site-packages\\numpy\\core\\_methods.py:188: RuntimeWarning: invalid value encountered in double_scalars\n",
            "  ret = ret.dtype.type(ret / rcount)\n",
            "C:\\Users\\shalev-ezra\\Anaconda3\\lib\\site-packages\\numpy\\core\\_methods.py:261: RuntimeWarning: Degrees of freedom <= 0 for slice\n",
            "  ret = _var(a, axis=axis, dtype=dtype, out=out, ddof=ddof,\n",
            "C:\\Users\\shalev-ezra\\Anaconda3\\lib\\site-packages\\numpy\\core\\_methods.py:221: RuntimeWarning: invalid value encountered in true_divide\n",
            "  arrmean = um.true_divide(arrmean, div, out=arrmean, casting='unsafe',\n",
            "C:\\Users\\shalev-ezra\\Anaconda3\\lib\\site-packages\\numpy\\core\\_methods.py:253: RuntimeWarning: invalid value encountered in double_scalars\n",
            "  ret = ret.dtype.type(ret / rcount)\n"
          ]
        },
        {
          "name": "stdout",
          "output_type": "stream",
          "text": [
            "Analayzed 3994.00 out of 10133.00 cells - 39.42 %\n",
            "-I- Generating fix curve based on position in FOV vs distance\n"
          ]
        },
        {
          "name": "stderr",
          "output_type": "stream",
          "text": [
            "C:\\Users\\shalev-ezra\\Anaconda3\\lib\\site-packages\\numpy\\core\\fromnumeric.py:3419: RuntimeWarning: Mean of empty slice.\n",
            "  return _methods._mean(a, axis=axis, dtype=dtype,\n",
            "C:\\Users\\shalev-ezra\\Anaconda3\\lib\\site-packages\\numpy\\core\\_methods.py:188: RuntimeWarning: invalid value encountered in double_scalars\n",
            "  ret = ret.dtype.type(ret / rcount)\n",
            "C:\\Users\\shalev-ezra\\Anaconda3\\lib\\site-packages\\numpy\\core\\_methods.py:261: RuntimeWarning: Degrees of freedom <= 0 for slice\n",
            "  ret = _var(a, axis=axis, dtype=dtype, out=out, ddof=ddof,\n",
            "C:\\Users\\shalev-ezra\\Anaconda3\\lib\\site-packages\\numpy\\core\\_methods.py:221: RuntimeWarning: invalid value encountered in true_divide\n",
            "  arrmean = um.true_divide(arrmean, div, out=arrmean, casting='unsafe',\n",
            "C:\\Users\\shalev-ezra\\Anaconda3\\lib\\site-packages\\numpy\\core\\_methods.py:253: RuntimeWarning: invalid value encountered in double_scalars\n",
            "  ret = ret.dtype.type(ret / rcount)\n"
          ]
        },
        {
          "name": "stdout",
          "output_type": "stream",
          "text": [
            "Analayzed 1225.00 out of 2278.00 cells - 53.78 %\n",
            "-I- Generating fix curve based on position in FOV vs distance\n"
          ]
        },
        {
          "name": "stderr",
          "output_type": "stream",
          "text": [
            "C:\\Users\\shalev-ezra\\Anaconda3\\lib\\site-packages\\numpy\\core\\fromnumeric.py:3419: RuntimeWarning: Mean of empty slice.\n",
            "  return _methods._mean(a, axis=axis, dtype=dtype,\n",
            "C:\\Users\\shalev-ezra\\Anaconda3\\lib\\site-packages\\numpy\\core\\_methods.py:188: RuntimeWarning: invalid value encountered in double_scalars\n",
            "  ret = ret.dtype.type(ret / rcount)\n",
            "C:\\Users\\shalev-ezra\\Anaconda3\\lib\\site-packages\\numpy\\core\\_methods.py:261: RuntimeWarning: Degrees of freedom <= 0 for slice\n",
            "  ret = _var(a, axis=axis, dtype=dtype, out=out, ddof=ddof,\n",
            "C:\\Users\\shalev-ezra\\Anaconda3\\lib\\site-packages\\numpy\\core\\_methods.py:221: RuntimeWarning: invalid value encountered in true_divide\n",
            "  arrmean = um.true_divide(arrmean, div, out=arrmean, casting='unsafe',\n",
            "C:\\Users\\shalev-ezra\\Anaconda3\\lib\\site-packages\\numpy\\core\\_methods.py:253: RuntimeWarning: invalid value encountered in double_scalars\n",
            "  ret = ret.dtype.type(ret / rcount)\n"
          ]
        },
        {
          "name": "stdout",
          "output_type": "stream",
          "text": [
            "Analayzed 621.00 out of 1613.00 cells - 38.50 %\n",
            "-I- Generating fix curve based on position in FOV vs distance\n"
          ]
        },
        {
          "name": "stderr",
          "output_type": "stream",
          "text": [
            "C:\\Users\\shalev-ezra\\Anaconda3\\lib\\site-packages\\numpy\\core\\fromnumeric.py:3419: RuntimeWarning: Mean of empty slice.\n",
            "  return _methods._mean(a, axis=axis, dtype=dtype,\n",
            "C:\\Users\\shalev-ezra\\Anaconda3\\lib\\site-packages\\numpy\\core\\_methods.py:188: RuntimeWarning: invalid value encountered in double_scalars\n",
            "  ret = ret.dtype.type(ret / rcount)\n",
            "C:\\Users\\shalev-ezra\\Anaconda3\\lib\\site-packages\\numpy\\core\\_methods.py:261: RuntimeWarning: Degrees of freedom <= 0 for slice\n",
            "  ret = _var(a, axis=axis, dtype=dtype, out=out, ddof=ddof,\n",
            "C:\\Users\\shalev-ezra\\Anaconda3\\lib\\site-packages\\numpy\\core\\_methods.py:221: RuntimeWarning: invalid value encountered in true_divide\n",
            "  arrmean = um.true_divide(arrmean, div, out=arrmean, casting='unsafe',\n",
            "C:\\Users\\shalev-ezra\\Anaconda3\\lib\\site-packages\\numpy\\core\\_methods.py:253: RuntimeWarning: invalid value encountered in double_scalars\n",
            "  ret = ret.dtype.type(ret / rcount)\n"
          ]
        },
        {
          "name": "stdout",
          "output_type": "stream",
          "text": [
            "Analayzed 1098.00 out of 1968.00 cells - 55.79 %\n",
            "-I- Generating fix curve based on position in FOV vs distance\n"
          ]
        },
        {
          "name": "stderr",
          "output_type": "stream",
          "text": [
            "C:\\Users\\shalev-ezra\\Anaconda3\\lib\\site-packages\\numpy\\core\\fromnumeric.py:3419: RuntimeWarning: Mean of empty slice.\n",
            "  return _methods._mean(a, axis=axis, dtype=dtype,\n",
            "C:\\Users\\shalev-ezra\\Anaconda3\\lib\\site-packages\\numpy\\core\\_methods.py:188: RuntimeWarning: invalid value encountered in double_scalars\n",
            "  ret = ret.dtype.type(ret / rcount)\n",
            "C:\\Users\\shalev-ezra\\Anaconda3\\lib\\site-packages\\numpy\\core\\_methods.py:261: RuntimeWarning: Degrees of freedom <= 0 for slice\n",
            "  ret = _var(a, axis=axis, dtype=dtype, out=out, ddof=ddof,\n",
            "C:\\Users\\shalev-ezra\\Anaconda3\\lib\\site-packages\\numpy\\core\\_methods.py:221: RuntimeWarning: invalid value encountered in true_divide\n",
            "  arrmean = um.true_divide(arrmean, div, out=arrmean, casting='unsafe',\n",
            "C:\\Users\\shalev-ezra\\Anaconda3\\lib\\site-packages\\numpy\\core\\_methods.py:253: RuntimeWarning: invalid value encountered in double_scalars\n",
            "  ret = ret.dtype.type(ret / rcount)\n"
          ]
        },
        {
          "name": "stdout",
          "output_type": "stream",
          "text": [
            "Analayzed 1675.00 out of 3971.00 cells - 42.18 %\n",
            "-I- Generating fix curve based on position in FOV vs distance\n"
          ]
        },
        {
          "data": {
            "image/png": "[encoded data removed]",
            "text/plain": [
              "<Figure size 792x432 with 11 Axes>"
            ]
          },
          "metadata": {
            "needs_background": "light"
          },
          "output_type": "display_data"
        }
      ],
      "source": [
        "#@markdown Run this cell to show and save plots showing the run's results\n",
        "import csv\n",
        "list_of_median_lists = []\n",
        "list_of_timepoints = []\n",
        "list_of_intensity_ch01_lists = []\n",
        "list_of_rawmax_ch01_lists = []\n",
        "for dir_path in dirs:\n",
        "    if (not analyze_beads_and_cells and \"BeadsOnly\" in dir_path):\n",
        "        continue\n",
        "\n",
        "    median_list = []\n",
        "    if (bootstrap_reps == 1):\n",
        "        excel_dict = {}\n",
        "        excel_index = 0\n",
        "\n",
        "    intensity_ch01_list = []\n",
        "    rawmax_ch01_list = []\n",
        "    for bs_i in range(bootstrap_reps):\n",
        "        file_to_read = open(os.path.join(dir_path, \"ch2_bs_{}_dict.pkl\".format(bs_i)), \"rb\")\n",
        "        ch2_dict = pickle.load(file_to_read)\n",
        "        file_to_read = open(os.path.join(dir_path, \"ch4_bs_{}_dict.pkl\".format(bs_i)), \"rb\")\n",
        "        ch4_dict = pickle.load(file_to_read)\n",
        "\n",
        "        analyzed_list = np.load(os.path.join(dir_path, 'analyzed_list_{}.npy'.format(bs_i)))\n",
        "        ch2_loc_list = []\n",
        "        ch4_loc_list = []\n",
        "        dist_list = []\n",
        "        dist_3d_list = []\n",
        "        count_problematic_cells = 0\n",
        "        with open(os.path.join(data_path, dir_path.split('\\\\')[-1]) + '.txt', 'r') as txt_file:\n",
        "            lines = []\n",
        "            cnt = 0\n",
        "            for line in txt_file:\n",
        "                lines.append(line)\n",
        "                if (line.split('\\t')[0] == \"Object Number\"):\n",
        "                    ind_offset = cnt\n",
        "                cnt += 1\n",
        "            cols = lines[ind_offset].split('\\t')\n",
        "            ind_offset += 1\n",
        "            # Find the right columns\n",
        "            for col in range(len(cols)):\n",
        "                if (cols[col] == \"Raw Centroid X\"):\n",
        "                    CentColX = col\n",
        "                if (cols[col] == \"Intensity_MC_Ch01\"):\n",
        "                    I_Ch01_col = col\n",
        "                if (cols[col] == \"Raw Max Pixel_MC_Ch01\"):\n",
        "                    RawMax_Ch01_col = col\n",
        "\n",
        "            # Generate statistics regarding Centroid X and Y\n",
        "            cent_x_list = []\n",
        "            cent_y_list = []\n",
        "            for i in range(ind_offset, len(lines) - 2):\n",
        "                cent_x_list.append(float(lines[i].split('\\t')[CentColX]))\n",
        "                intensity_ch01_list.append(float(lines[i].split('\\t')[I_Ch01_col]))\n",
        "                rawmax_ch01_list.append(float(lines[i].split('\\t')[RawMax_Ch01_col]))\n",
        "\n",
        "            mean_cent_x = np.mean(cent_x_list)\n",
        "            mean_cent_y = np.mean(cent_y_list)\n",
        "            std_cent_x = np.std(cent_x_list)\n",
        "            std_cent_y = np.std(cent_y_list)\n",
        "\n",
        "            Cent_vs_dist_X = []\n",
        "            Cent_vs_dist_Y = []\n",
        "            for i in range(len(ch2_dict)):\n",
        "                # Don't use beads/ cells that are located farther than one STD from the mean location\n",
        "                if (np.abs(float(lines[analyzed_list[i] + ind_offset].split('\\t')[CentColX]) - mean_cent_x) > std_cent_x):\n",
        "                    # print(\"Localization is too far from the center of the sensor\")\n",
        "                    count_problematic_cells += 1\n",
        "                    continue\n",
        "                if (ch2_dict[i][2] > 0 and ch4_dict[i][2] > 0):\n",
        "                    if (ch2_dict[i][2] != ch4_dict[i][2]):\n",
        "                        # print(\"Found different number of loci in ch2 and ch4\")\n",
        "                        count_problematic_cells += 1\n",
        "                        continue\n",
        "                    # Assign emitter from ch2 to ch4\n",
        "                    if (ch2_dict[i][2] <= 1):\n",
        "                        ind_ch4 = [0]\n",
        "                    else:\n",
        "                        ind_ch4 = find_minimal_distance_assignment(ch2_dict[i][1], ch4_dict[i][1])\n",
        "                    for emitter in range(ch2_dict[i][2]):\n",
        "                        cur_emitter_ch2 = ch2_dict[i][1][emitter]\n",
        "                        cur_emitter_ch4 = ch4_dict[i][1][ind_ch4[emitter]]\n",
        "                        ch2_loc = pixel_size * (np.concatenate([ch2_dict[0][0], np.zeros(1)], axis=0) + cur_emitter_ch2)\n",
        "                        ch4_loc = pixel_size * (np.concatenate([ch4_dict[0][0], np.zeros(1)], axis=0) + cur_emitter_ch4)\n",
        "\n",
        "                        # Filter cells where the distance is bigger than ~ the nucleus size\n",
        "                        tot_dist = np.sqrt((ch2_loc[0] - ch4_loc[0]) ** 2 + (ch2_loc[1] - ch4_loc[1]) ** 2 + (ch2_loc[2] - ch4_loc[2]) ** 2)\n",
        "                        if (tot_dist < 1.5):\n",
        "                            ch2_loc_list.append(ch2_loc)\n",
        "                            ch4_loc_list.append(ch4_loc)\n",
        "                            dist_list.append(tot_dist)\n",
        "                            dist_3d_list.append([ch2_loc[0] - ch4_loc[0], ch2_loc[1] - ch4_loc[1], ch2_loc[2] - ch4_loc[2]])\n",
        "\n",
        "                            # Create points of centroid vs total distance\n",
        "                            Cent_vs_dist_X.append([lines[i + ind_offset].split('\\t')[CentColX], ch2_loc[0] - ch4_loc[0]])\n",
        "                            Cent_vs_dist_Y.append([lines[i + ind_offset].split('\\t')[CentColX], ch2_loc[1] - ch4_loc[1]])\n",
        "\n",
        "                            ch2_sigX = ch2_dict[i][4][emitter][0]\n",
        "                            ch2_sigY = ch2_dict[i][4][emitter][1]\n",
        "                            ch4_sigX = ch4_dict[i][4][emitter][0]\n",
        "                            ch4_sigY = ch4_dict[i][4][emitter][1]\n",
        "\n",
        "                            if (bootstrap_reps == 1):\n",
        "                                # Save localization and distance before correction\n",
        "                                excel_dict[excel_index] = [analyzed_list[i] + 1, ch2_loc[0], ch2_loc[1], ch2_loc[2],\n",
        "                                                           ch2_sigX, ch2_sigY, ch4_loc[0], ch4_loc[1], ch4_loc[2],\n",
        "                                                           ch4_sigX, ch4_sigY, dist_3d_list[-1][0], dist_3d_list[-1][1],\n",
        "                                                           dist_3d_list[-1][2], 0, 0, 0]\n",
        "                                excel_index += 1\n",
        "                        else:\n",
        "                            # print('Loci distance bigger than 1.5um {}'.format(i))\n",
        "                            count_problematic_cells += 1\n",
        "                else:\n",
        "                    count_problematic_cells += 1\n",
        "\n",
        "        print('Analayzed {:.2f} out of {:.2f} cells - {:.2f} %'.format(len(ch2_dict) - count_problematic_cells,\n",
        "                                                                       len(ch2_dict),\n",
        "                                                                       100 * (len(ch2_dict) - count_problematic_cells) / len(ch2_dict)))\n",
        "        print('-I- Generating fix curve based on position in FOV vs distance')\n",
        "\n",
        "        Cent_vs_dist_X = np.array(Cent_vs_dist_X, dtype=float)\n",
        "        Cent_vs_dist_Y = np.array(Cent_vs_dist_Y, dtype=float)\n",
        "\n",
        "        ind_curve_X = np.argsort(Cent_vs_dist_X[:, 0])\n",
        "        ind_curve_Y = np.argsort(Cent_vs_dist_Y[:, 0])\n",
        "\n",
        "        guess = [1, 1]\n",
        "        bounds = ([-np.inf, -np.inf], [np.inf, np.inf])\n",
        "\n",
        "        params_X, _ = opt.curve_fit(linear_func, Cent_vs_dist_X[ind_curve_X, 0], Cent_vs_dist_X[ind_curve_X, 1], p0=guess, bounds=bounds)\n",
        "        params_Y, _ = opt.curve_fit(linear_func, Cent_vs_dist_Y[ind_curve_Y, 0], Cent_vs_dist_Y[ind_curve_Y, 1], p0=guess, bounds=bounds)\n",
        "\n",
        "        if(bootstrap_reps == 1):\n",
        "         # Plot curve fit\n",
        "            PlotCentroidCurveFit(dir_path, Cent_vs_dist_X, ind_curve_X, params_X, Cent_vs_dist_Y, ind_curve_Y, params_Y)\n",
        "\n",
        "        dist_3d = np.array(dist_3d_list)\n",
        "        mean_x_dist = np.mean(linear_func(Cent_vs_dist_X[:, 0], *params_X))\n",
        "        mean_y_dist = np.mean(linear_func(Cent_vs_dist_Y[:, 0], *params_Y))\n",
        "        dist_3d_fix = np.copy(dist_3d)\n",
        "        for loc in range(dist_3d_fix.shape[0]):\n",
        "            # Compensate on the additional error added because of emitter position\n",
        "            dist_3d_fix[loc, 0] = dist_3d[loc, 0] - linear_func(Cent_vs_dist_X[loc, 0], *params_X)\n",
        "            dist_3d_fix[loc, 1] = dist_3d[loc, 1] - linear_func(Cent_vs_dist_Y[loc, 0], *params_Y)\n",
        "            dist_3d_fix[loc, 2] = dist_3d[loc, 2] - np.mean(dist_3d[:, 2])\n",
        "        fixed_dist_list = np.zeros_like(np.array(dist_list))\n",
        "        for loc in range(len(dist_list)):\n",
        "            fixed_dist_list[loc] = np.sqrt(dist_3d_fix[loc, 0] ** 2 +\n",
        "                                           dist_3d_fix[loc, 1] ** 2 +\n",
        "                                           dist_3d_fix[loc, 2] ** 2)\n",
        "        # open the file in the write mode\n",
        "        if (bootstrap_reps == 1):\n",
        "            with open(os.path.join(dir_path, \"raw_data3D.csv\"), 'w', encoding='UTF8', newline='') as f:\n",
        "                # create the csv writer\n",
        "                writer = csv.writer(f)\n",
        "                writer.writerow(['frame', 'ch2_x [um]', 'ch2_y [um]', 'ch2_z [um]', 'ch2_sigX', 'ch2_sigY',\n",
        "                                 'ch4_x [um]', 'ch4_y [um]', 'ch4_z [um]', 'ch4_sigX', 'ch4_sigY',\n",
        "                                 'dist_x', 'dist_y', 'dist_z', 'dist_x_fix', 'dist_y_fix', 'dist_z_fix'])\n",
        "\n",
        "                for i in range(len(excel_dict)):\n",
        "                    excel_dict[i][-3] = dist_3d_fix[i, 0]\n",
        "                    excel_dict[i][-2] = dist_3d_fix[i, 1]\n",
        "                    excel_dict[i][-1] = dist_3d_fix[i, 2]\n",
        "                    # write a row to the csv file\n",
        "                    writer.writerow(excel_dict[i])\n",
        "\n",
        "            np.save(os.path.join(dir_path, 'dist_arr'), np.array(dist_list))\n",
        "\n",
        "            # =============================================================================================================\n",
        "            # Plot 3d distance scatter\n",
        "            Plot3DDistanceScatter('3D distances between ch2 and ch4 before fix', dir_path, dist_3d)\n",
        "            Plot3DDistanceScatter('3D distances between ch2 and ch4 after fix', dir_path, dist_3d_fix)\n",
        "\n",
        "            # =============================================================================================================\n",
        "            from matplotlib import ticker\n",
        "\n",
        "            # Plot 3d distance histogram\n",
        "            Plot3DDistanceHistogram('Histogram of 3D distances before fix', dir_path, dist_list)\n",
        "            Plot3DDistanceHistogram('Histogram of 3D distances after fix', dir_path, fixed_dist_list)\n",
        "\n",
        "            np.save(os.path.join(dir_path, 'fixed_dist_arr'), np.array(fixed_dist_list))\n",
        "            # =============================================================================================================\n",
        "            # Plot 3D localization histogram\n",
        "            Plot3DLocalizationHistogram('3D_localization_histograms before_fix', dir_path, ch2_loc_list, ch4_loc_list)\n",
        "\n",
        "        median_list.append(np.median(fixed_dist_list))\n",
        "\n",
        "    # Append all the tracked parameters list for each time point\n",
        "    if(\"BeadsOnly\" not in dir_path):\n",
        "        list_of_intensity_ch01_lists.append(np.array(intensity_ch01_list))\n",
        "        list_of_rawmax_ch01_lists.append(np.array(rawmax_ch01_list))\n",
        "        list_of_median_lists.append(median_list)\n",
        "        if('min' in dir_path.split('\\\\')[-1]):\n",
        "            minutes_ind = dir_path.split('\\\\')[-1].find('min')\n",
        "            start_ind = dir_path.split('\\\\')[-1][minutes_ind-5:minutes_ind].rfind('_')\n",
        "            list_of_timepoints.append(int(dir_path.split('\\\\')[-1][minutes_ind-5+start_ind+1:minutes_ind]))\n",
        "            meaningful_ind_flag = True\n",
        "        else:\n",
        "            list_of_timepoints.append(dir_path.split('\\\\')[-1])\n",
        "            meaningful_ind_flag = False\n",
        "\n",
        "# Take the mean and std of each list over different bootstrap reps\n",
        "if(meaningful_ind_flag):\n",
        "    sort_ind = np.argsort(list_of_timepoints)\n",
        "else:\n",
        "    sort_ind = np.arange(len(list_of_timepoints))\n",
        "\n",
        "median_arr = np.array(list_of_median_lists)\n",
        "timepoints_arr = np.array(list_of_timepoints)\n",
        "mean_intensity_ch01 = np.zeros(len(list_of_timepoints))\n",
        "std_intensity_ch01 = np.zeros(len(list_of_timepoints))\n",
        "mean_rawmax_ch01 = np.zeros(len(list_of_timepoints))\n",
        "std_rawmax_ch01 = np.zeros(len(list_of_timepoints))\n",
        "for i in range(len(list_of_timepoints)):\n",
        "    mean_intensity_ch01[i] = np.mean(list_of_intensity_ch01_lists[i])\n",
        "    std_intensity_ch01[i] = np.std(list_of_intensity_ch01_lists[i])\n",
        "    mean_rawmax_ch01[i] = np.mean(list_of_rawmax_ch01_lists[i])\n",
        "    std_rawmax_ch01[i] = np.std(list_of_rawmax_ch01_lists[i])\n",
        "\n",
        "# Channel 1 plots\n",
        "PlotCh01Plots(data_path, bootstrap_reps, timepoints_arr, sort_ind, mean_intensity_ch01,\n",
        "              std_intensity_ch01, mean_rawmax_ch01, std_rawmax_ch01)\n",
        "\n",
        "if (bootstrap_reps > 1):\n",
        "    # Bootstrap distance error bar plot\n",
        "    plt.figure(figsize=(8, 4))\n",
        "    plt.errorbar(timepoints_arr[sort_ind], np.mean(median_arr[sort_ind, :], axis=1),\n",
        "                 np.std(median_arr[sort_ind, :], axis=1))\n",
        "    plt.xlabel('time points [min]')\n",
        "    plt.ylabel('mean median over {} reps'.format(bootstrap_reps))\n",
        "    plt.title('Bootstrap estimation of error bars over {} reps'.format(bootstrap_reps))\n",
        "    plt.savefig(os.path.join(data_path, \"distance_error_bar_graph.png\"))\n",
        "    if (verbose):\n",
        "        plt.show()\n",
        "    plt.close()\n",
        "else:\n",
        "    # Count number of relevant dirs\n",
        "    cnt_dirs = 0\n",
        "    for dir_path in dirs:\n",
        "        if (\"BeadsOnly\" not in dir_path):\n",
        "            cnt_dirs += 1\n",
        "\n",
        "    dist_arr_for_plot = np.zeros(cnt_dirs)\n",
        "\n",
        "    fig, axes = plt.subplots(1, cnt_dirs, sharex=True, figsize=(len(list_of_timepoints), 6))\n",
        "    fig.suptitle('Violin graph + median')\n",
        "    axes[0].set_ylabel('Distance distribution')\n",
        "    ind = 0\n",
        "    curr_ind = -1\n",
        "    for dir_path in dirs:\n",
        "        if (\"BeadsOnly\" in dir_path):\n",
        "            continue\n",
        "        for filename in os.listdir(dir_path):\n",
        "            if filename.endswith(\"ch2.tif\"):\n",
        "                if(meaningful_ind_flag):\n",
        "                    for index, tp in enumerate(timepoints_arr[sort_ind]):\n",
        "                        if((\"_\" + str(tp) + \"min\") in filename):\n",
        "                            curr_ind = index\n",
        "                            break\n",
        "                else:\n",
        "                    curr_ind += 1\n",
        "\n",
        "                dist_list = np.load(os.path.join(dir_path, 'fixed_dist_arr.npy'))\n",
        "\n",
        "                axes[curr_ind].plot([0.75, 1.25], [np.median(dist_list), np.median(dist_list)])\n",
        "                dist_arr_for_plot[curr_ind] = np.mean(dist_list)\n",
        "\n",
        "                if (ind == 0):\n",
        "                    axes[curr_ind].spines[\"right\"].set_visible(False)\n",
        "                    axes[curr_ind].spines[\"top\"].set_visible(False)\n",
        "                else:\n",
        "                    axes[curr_ind].spines[\"right\"].set_visible(False)\n",
        "                    axes[curr_ind].spines[\"top\"].set_visible(False)\n",
        "                    axes[curr_ind].spines[\"left\"].set_visible(False)\n",
        "                    axes[curr_ind].get_yaxis().set_ticks([])\n",
        "\n",
        "                axes[curr_ind].tick_params(axis='x', which='both', bottom=False, top=False, labelbottom=False)\n",
        "                axes[curr_ind].set_xlabel(str(timepoints_arr[sort_ind[curr_ind]]) + '({})'.format(len(dist_list)))\n",
        "                axes[curr_ind].violinplot(dist_list)\n",
        "                axes[curr_ind].set_ylim([0, 0.8])\n",
        "        ind += 1\n",
        "\n",
        "    fig.text(0.5, 0, 'Time points (# analyzed cells)', ha='center')\n",
        "    fig.text(-0.15, 0.5, 'Distance [um]', va='center', rotation='vertical')\n",
        "    plt.savefig(os.path.join(data_path, \"violin_graph_3D.png\"))\n",
        "    plt.show()\n",
        "    plt.close()"
      ]
    }
  ],
  "metadata": {
    "colab": {
      "provenance": []
    },
    "kernelspec": {
      "display_name": "Python 3",
      "language": "python",
      "name": "python3"
    },
    "language_info": {
      "codemirror_mode": {
        "name": "ipython",
        "version": 3
      },
      "file_extension": ".py",
      "mimetype": "text/x-python",
      "name": "python",
      "nbconvert_exporter": "python",
      "pygments_lexer": "ipython3",
      "version": "3.8.8"
    }
  },
  "nbformat": 4,
  "nbformat_minor": 0
}